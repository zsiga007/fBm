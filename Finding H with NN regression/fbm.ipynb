{
 "cells": [
  {
   "cell_type": "code",
   "execution_count": 64,
   "metadata": {
    "execution": {
     "iopub.execute_input": "2022-06-12T08:25:34.111559Z",
     "iopub.status.busy": "2022-06-12T08:25:34.110843Z",
     "iopub.status.idle": "2022-06-12T08:25:36.785243Z",
     "shell.execute_reply": "2022-06-12T08:25:36.784356Z",
     "shell.execute_reply.started": "2022-06-12T08:25:34.111439Z"
    },
    "pycharm": {
     "name": "#%%\n"
    }
   },
   "outputs": [],
   "source": [
    "import numpy as np\n",
    "import torch\n",
    "import pickle\n",
    "import torch.nn as nn\n",
    "import torch.nn.functional as F\n",
    "from torchvision import datasets, transforms\n",
    "from tqdm.notebook import tqdm\n",
    "\n",
    "from torch.utils.data import Dataset, DataLoader\n",
    "import random\n",
    "from hurst import compute_Hc, random_walk\n",
    "import matplotlib.pyplot as plt"
   ]
  },
  {
   "cell_type": "code",
   "execution_count": 141,
   "metadata": {
    "execution": {
     "iopub.execute_input": "2022-06-12T08:25:44.875381Z",
     "iopub.status.busy": "2022-06-12T08:25:44.875095Z",
     "iopub.status.idle": "2022-06-12T08:25:44.903326Z",
     "shell.execute_reply": "2022-06-12T08:25:44.900495Z",
     "shell.execute_reply.started": "2022-06-12T08:25:44.875357Z"
    },
    "pycharm": {
     "name": "#%%\n"
    }
   },
   "outputs": [
    {
     "name": "stdout",
     "output_type": "stream",
     "text": [
      "Yor device is: cpu\n"
     ]
    }
   ],
   "source": [
    "# For better performance GPU is recommended\n",
    "\n",
    "device = \"cuda\" if torch.cuda.is_available() else \"cpu\"\n",
    "print(f'Yor device is: {device}')"
   ]
  },
  {
   "cell_type": "code",
   "execution_count": 66,
   "metadata": {
    "execution": {
     "iopub.execute_input": "2022-06-12T08:26:00.759530Z",
     "iopub.status.busy": "2022-06-12T08:26:00.759256Z",
     "iopub.status.idle": "2022-06-12T08:26:00.769286Z",
     "shell.execute_reply": "2022-06-12T08:26:00.768249Z",
     "shell.execute_reply.started": "2022-06-12T08:26:00.759501Z"
    },
    "pycharm": {
     "name": "#%%\n"
    }
   },
   "outputs": [],
   "source": [
    "from fbm import FBM"
   ]
  },
  {
   "cell_type": "code",
   "execution_count": 147,
   "metadata": {
    "execution": {
     "iopub.execute_input": "2022-06-12T08:26:26.056991Z",
     "iopub.status.busy": "2022-06-12T08:26:26.056644Z",
     "iopub.status.idle": "2022-06-12T08:26:26.061580Z",
     "shell.execute_reply": "2022-06-12T08:26:26.060764Z",
     "shell.execute_reply.started": "2022-06-12T08:26:26.056929Z"
    },
    "pycharm": {
     "name": "#%%\n"
    }
   },
   "outputs": [],
   "source": [
    "grid_points = 128\n",
    "num_of_train = 40000\n",
    "num_of_test = 10000\n",
    "batch = 100\n",
    "epochs = 5\n",
    "\n",
    "normalised = True\n",
    "# If set to False, it is a neural net without conv. layer\n",
    "CNN = True\n"
   ]
  },
  {
   "cell_type": "code",
   "execution_count": 103,
   "metadata": {
    "execution": {
     "iopub.execute_input": "2022-06-12T08:27:45.399041Z",
     "iopub.status.busy": "2022-06-12T08:27:45.398727Z",
     "iopub.status.idle": "2022-06-12T08:27:45.404543Z",
     "shell.execute_reply": "2022-06-12T08:27:45.403159Z",
     "shell.execute_reply.started": "2022-06-12T08:27:45.399012Z"
    },
    "pycharm": {
     "name": "#%%\n"
    }
   },
   "outputs": [],
   "source": [
    "# Generating H randomly and then creating fGn-s, the file is created using these commented codes\n",
    "# %%time\n",
    "# train_data = []\n",
    "\n",
    "\n",
    "# num_test = num_of_train\n",
    "# rand_test = []\n",
    "\n",
    "# for j in range(num_test):\n",
    "#   H = random.uniform(0.01,1.0)\n",
    "  \n",
    "#   f = FBM(n=grid_points, hurst=H, length=1, method='daviesharte')\n",
    "  \n",
    "\n",
    "#   train_data.append((f.fgn(), H))\n"
   ]
  },
  {
   "cell_type": "code",
   "execution_count": 104,
   "metadata": {
    "execution": {
     "iopub.execute_input": "2022-06-12T08:27:53.152644Z",
     "iopub.status.busy": "2022-06-12T08:27:53.152378Z",
     "iopub.status.idle": "2022-06-12T08:27:53.156932Z",
     "shell.execute_reply": "2022-06-12T08:27:53.155855Z",
     "shell.execute_reply.started": "2022-06-12T08:27:53.152618Z"
    },
    "pycharm": {
     "name": "#%%\n"
    }
   },
   "outputs": [],
   "source": [
    "# H generated from 0.05 grid\n",
    "# %%time\n",
    "\n",
    "# train_data = []\n",
    "\n",
    "# for H in np.arange(0.05,1.0,0.05):\n",
    "#   f = FBM(n=grid_points, hurst=H, length=1, method='daviesharte')\n",
    "#   for i in range(500):\n",
    "#     train_data.append((f.fgn(), H))\n",
    "\n",
    "# from random import shuffle\n",
    "# shuffle(train_data)"
   ]
  },
  {
   "cell_type": "code",
   "execution_count": 105,
   "metadata": {
    "execution": {
     "iopub.execute_input": "2022-06-12T08:28:09.642967Z",
     "iopub.status.busy": "2022-06-12T08:28:09.642703Z",
     "iopub.status.idle": "2022-06-12T08:28:09.700594Z",
     "shell.execute_reply": "2022-06-12T08:28:09.699868Z",
     "shell.execute_reply.started": "2022-06-12T08:28:09.642941Z"
    },
    "pycharm": {
     "name": "#%%\n"
    }
   },
   "outputs": [],
   "source": [
    "# # Training data containing data where H is taken from discrete grid\n",
    "# with open('notrandom_regression_train_data_grid128', 'rb') as fp:\n",
    "#     train_data = pickle.load(fp)"
   ]
  },
  {
   "cell_type": "code",
   "execution_count": 106,
   "metadata": {},
   "outputs": [],
   "source": [
    "# Opening the file containing the data\n",
    "with open('regression_train_data_grid128', 'rb') as fp:\n",
    "    train_data = pickle.load(fp)[:num_of_train]"
   ]
  },
  {
   "cell_type": "code",
   "execution_count": 107,
   "metadata": {},
   "outputs": [],
   "source": [
    "\n",
    "if normalised:\n",
    "    normalised_train_data = []\n",
    "    for tup in train_data:\n",
    "        normalised_train_data.append((tup[0]/np.average(np.abs(tup[0])),tup[1]))\n",
    "    train_data = normalised_train_data"
   ]
  },
  {
   "cell_type": "code",
   "execution_count": 151,
   "metadata": {
    "execution": {
     "iopub.execute_input": "2022-06-12T08:28:20.884423Z",
     "iopub.status.busy": "2022-06-12T08:28:20.884133Z",
     "iopub.status.idle": "2022-06-12T08:28:21.107396Z",
     "shell.execute_reply": "2022-06-12T08:28:21.106532Z",
     "shell.execute_reply.started": "2022-06-12T08:28:20.884391Z"
    },
    "pycharm": {
     "name": "#%%\n"
    }
   },
   "outputs": [],
   "source": [
    "# Testing data, random H\n",
    "with open ('regression_train_data_grid128', 'rb') as fp:\n",
    "    save = pickle.load(fp)[num_of_train:]"
   ]
  },
  {
   "cell_type": "code",
   "execution_count": 152,
   "metadata": {},
   "outputs": [],
   "source": [
    "if normalised:\n",
    "    normalised_save_data = []\n",
    "    for tup in save:\n",
    "        normalised_save_data.append((tup[0]/np.average(np.abs(tup[0])),tup[1]))\n",
    "    save = normalised_save_data"
   ]
  },
  {
   "cell_type": "code",
   "execution_count": 153,
   "metadata": {
    "execution": {
     "iopub.execute_input": "2022-06-12T08:42:08.029958Z",
     "iopub.status.busy": "2022-06-12T08:42:08.029682Z",
     "iopub.status.idle": "2022-06-12T08:42:08.036069Z",
     "shell.execute_reply": "2022-06-12T08:42:08.035106Z",
     "shell.execute_reply.started": "2022-06-12T08:42:08.029932Z"
    },
    "pycharm": {
     "name": "#%%\n"
    }
   },
   "outputs": [],
   "source": [
    "train_loader = torch.utils.data.DataLoader(train_data, batch_size=batch, shuffle=True)\n",
    "test_loader = torch.utils.data.DataLoader(save, batch_size=batch, shuffle=False)"
   ]
  },
  {
   "cell_type": "code",
   "execution_count": 111,
   "metadata": {
    "execution": {
     "iopub.execute_input": "2022-06-12T08:30:08.686147Z",
     "iopub.status.busy": "2022-06-12T08:30:08.685271Z",
     "iopub.status.idle": "2022-06-12T08:30:08.693241Z",
     "shell.execute_reply": "2022-06-12T08:30:08.692452Z",
     "shell.execute_reply.started": "2022-06-12T08:30:08.686107Z"
    },
    "pycharm": {
     "name": "#%%\n"
    }
   },
   "outputs": [],
   "source": [
    "if not CNN:\n",
    "    class CNN_simplistic(nn.Module):\n",
    "        def __init__(self):\n",
    "            super().__init__()\n",
    "\n",
    "\n",
    "\n",
    "            self.fc1 = nn.Linear(grid_points, 256)\n",
    "            self.fc2 = nn.Linear(256, 190)\n",
    "            self.fc3 = nn.Linear(190, 190)\n",
    "            self.fc4 = nn.Linear(190, 1)\n",
    "            \n",
    "\n",
    "        def forward(self, x):\n",
    "\n",
    "            x = self.fc1(x)\n",
    "            x = F.relu(x)\n",
    "\n",
    "            #fc layer 2\n",
    "            x = self.fc2(x)\n",
    "            x = F.relu(x)\n",
    "\n",
    "            #fc layer 3\n",
    "            x = self.fc3(x)\n",
    "            x = F.relu(x)\n",
    "\n",
    "            x=self.fc4(x)\n",
    "\n",
    "            return x"
   ]
  },
  {
   "cell_type": "code",
   "execution_count": 112,
   "metadata": {},
   "outputs": [],
   "source": [
    "if CNN:\n",
    "    p=0.2\n",
    "    class CNN_simplistic(nn.Module):\n",
    "        def __init__(self):\n",
    "            super().__init__()\n",
    "            self.conv1 = nn.Conv1d(1, 32, padding = 'same', kernel_size = 11)\n",
    "            self.conv2 = nn.Conv1d(32, 32, padding = 'same',kernel_size = 11)\n",
    "            self.conv3 = nn.Conv1d(32, 64, padding = 'same',kernel_size = 11)\n",
    "            self.conv4 = nn.Conv1d(64, 64, padding = 'same',kernel_size = 11)\n",
    "\n",
    "            self.fc1 = nn.Linear(grid_points*64//(4*4*2*2), 256)\n",
    "            self.fc2 = nn.Linear(256, 190)\n",
    "            self.fc3 = nn.Linear(190, 100)\n",
    "            self.fc4 = nn.Linear(100, 1)\n",
    "            self.dropout = nn.Dropout(p)\n",
    "\n",
    "        def forward(self, x):\n",
    "\n",
    "            x = self.conv1(x)\n",
    "            x = F.relu(x)\n",
    "            x = F.max_pool1d(x,kernel_size = 4)\n",
    "\n",
    "            x = self.dropout(self.conv2(x))\n",
    "            x = F.relu(x)\n",
    "            x = F.max_pool1d(x,kernel_size = 4)\n",
    "\n",
    "\n",
    "            x = self.conv3(x)\n",
    "            x = F.relu(x)\n",
    "            x = F.max_pool1d(x,kernel_size = 2)\n",
    "\n",
    "            x = self.dropout(self.conv4(x))\n",
    "            x = F.relu(x)\n",
    "            x = F.avg_pool1d(x,kernel_size = 2)\n",
    "\n",
    "\n",
    "            x = x.view(-1,grid_points*64//(4*4*2*2))\n",
    "            x = self.fc1(x)\n",
    "            x = F.relu(x)\n",
    "\n",
    "            #fc layer 2\n",
    "            x = self.fc2(x)\n",
    "            x = F.relu(x)\n",
    "\n",
    "            #fc layer 3\n",
    "            x = self.fc3(x)\n",
    "            x = F.relu(x)\n",
    "\n",
    "            x=self.fc4(x)\n",
    "\n",
    "            return x"
   ]
  },
  {
   "cell_type": "code",
   "execution_count": 113,
   "metadata": {
    "execution": {
     "iopub.execute_input": "2022-06-12T08:35:04.448759Z",
     "iopub.status.busy": "2022-06-12T08:35:04.448464Z",
     "iopub.status.idle": "2022-06-12T08:37:18.597385Z",
     "shell.execute_reply": "2022-06-12T08:37:18.596759Z",
     "shell.execute_reply.started": "2022-06-12T08:35:04.448733Z"
    },
    "pycharm": {
     "name": "#%%\n"
    }
   },
   "outputs": [
    {
     "data": {
      "application/vnd.jupyter.widget-view+json": {
       "model_id": "7957a257e22b4a9d9f821f579cda0440",
       "version_major": 2,
       "version_minor": 0
      },
      "text/plain": [
       "HBox(children=(FloatProgress(value=0.0, max=5.0), HTML(value='')))"
      ]
     },
     "metadata": {},
     "output_type": "display_data"
    },
    {
     "data": {
      "application/vnd.jupyter.widget-view+json": {
       "model_id": "fdd5dc814b9041449f8aea16f15c8ec1",
       "version_major": 2,
       "version_minor": 0
      },
      "text/plain": [
       "HBox(children=(FloatProgress(value=0.0, max=400.0), HTML(value='')))"
      ]
     },
     "metadata": {},
     "output_type": "display_data"
    },
    {
     "name": "stdout",
     "output_type": "stream",
     "text": [
      "\n"
     ]
    },
    {
     "data": {
      "application/vnd.jupyter.widget-view+json": {
       "model_id": "2d77d44800484f008bf01ee5934e6c49",
       "version_major": 2,
       "version_minor": 0
      },
      "text/plain": [
       "HBox(children=(FloatProgress(value=0.0, max=400.0), HTML(value='')))"
      ]
     },
     "metadata": {},
     "output_type": "display_data"
    },
    {
     "name": "stdout",
     "output_type": "stream",
     "text": [
      "\n"
     ]
    },
    {
     "data": {
      "application/vnd.jupyter.widget-view+json": {
       "model_id": "6a5f1fb83881490ca6359f31daa9fe58",
       "version_major": 2,
       "version_minor": 0
      },
      "text/plain": [
       "HBox(children=(FloatProgress(value=0.0, max=400.0), HTML(value='')))"
      ]
     },
     "metadata": {},
     "output_type": "display_data"
    },
    {
     "name": "stdout",
     "output_type": "stream",
     "text": [
      "\n"
     ]
    },
    {
     "data": {
      "application/vnd.jupyter.widget-view+json": {
       "model_id": "a5eb3ce39eb644eab125554fee0611b2",
       "version_major": 2,
       "version_minor": 0
      },
      "text/plain": [
       "HBox(children=(FloatProgress(value=0.0, max=400.0), HTML(value='')))"
      ]
     },
     "metadata": {},
     "output_type": "display_data"
    },
    {
     "name": "stdout",
     "output_type": "stream",
     "text": [
      "\n"
     ]
    },
    {
     "data": {
      "application/vnd.jupyter.widget-view+json": {
       "model_id": "dd60f3ccc0dd42c1ae59285b818109a5",
       "version_major": 2,
       "version_minor": 0
      },
      "text/plain": [
       "HBox(children=(FloatProgress(value=0.0, max=400.0), HTML(value='')))"
      ]
     },
     "metadata": {},
     "output_type": "display_data"
    },
    {
     "name": "stdout",
     "output_type": "stream",
     "text": [
      "\n",
      "\n"
     ]
    }
   ],
   "source": [
    "from torchvision import datasets, transforms\n",
    "from tqdm.notebook import tqdm, trange\n",
    "\n",
    "\n",
    "## Training\n",
    "# Instantiate model  \n",
    "model_simp = CNN_simplistic().double().to(device) \n",
    "\n",
    "\n",
    "\n",
    "# Loss and Optimizer\n",
    "base_optimizer = torch.optim.SGD\n",
    "optimizer = torch.optim.Adam(model_simp.parameters(), lr=0.001)\n",
    "criterion = nn.MSELoss()\n",
    "\n",
    "\n",
    "\n",
    "\n",
    "# Iterate through train set minibatchs \n",
    "for epoch in trange(epochs):  \n",
    "    for images, labels in tqdm(train_loader):\n",
    "        images = images[:,None,:].to(device)\n",
    "        labels = labels.to(device)\n",
    "        # Zero out the gradients\n",
    "        optimizer.zero_grad()\n",
    "\n",
    "        # ADAM\n",
    "        # Forward pass\n",
    "        x = images\n",
    "        y = model_simp(x)\n",
    "        loss = criterion(torch.squeeze(y), torch.squeeze(labels))\n",
    "\n",
    "\n",
    "        \n",
    "        # Backward pass\n",
    "        loss.backward()\n",
    "        optimizer.step()"
   ]
  },
  {
   "cell_type": "code",
   "execution_count": 114,
   "metadata": {},
   "outputs": [],
   "source": [
    "# # Test loader for Hurst package:\n",
    "# from hurst import compute_Hc, random_walk\n",
    "# num = 1000\n",
    "# rand_test = []\n",
    "\n",
    "# for j in range(num):\n",
    "#     H = random.uniform(0.001,1.0)\n",
    "  \n",
    "#     fbm = random_walk(128, proba=H)\n",
    "  \n",
    "\n",
    "#     rand_test.append((np.array(fbm), H))\n",
    "\n",
    "# test_loader = torch.utils.data.DataLoader(rand_test, batch_size=batch, shuffle=False)\n"
   ]
  },
  {
   "cell_type": "code",
   "execution_count": 115,
   "metadata": {},
   "outputs": [
    {
     "name": "stdout",
     "output_type": "stream",
     "text": [
      "Accuracy with threshold 0.01: 14.109999656677246%\n",
      "Accuracy with threshold 0.02: 29.200000762939453%\n",
      "Accuracy with threshold 0.03: 42.41999816894531%\n",
      "Accuracy with threshold 0.04: 55.5099983215332%\n",
      "Accuracy with threshold 0.05: 65.91000366210938%\n",
      "Accuracy with threshold 0.060000000000000005: 74.08999633789062%\n",
      "Accuracy with threshold 0.06999999999999999: 80.41999816894531%\n",
      "Accuracy with threshold 0.08: 85.86000061035156%\n",
      "Accuracy with threshold 0.09: 90.01000213623047%\n"
     ]
    }
   ],
   "source": [
    "## Testing alone\n",
    "for allowed_error in np.arange(0.01,0.1,0.01):\n",
    "    correct = 0\n",
    "    \n",
    "    \n",
    "\n",
    "\n",
    "    with torch.no_grad():\n",
    "        # Iterate through test set minibatchs \n",
    "        for images, labels in test_loader:\n",
    "\n",
    "\n",
    "            images = images[:,None,:].to(device)\n",
    "            labels = labels.to(device)\n",
    "\n",
    "            # Forward pass\n",
    "            x = images  \n",
    "#             print(labels.shape)\n",
    "            \n",
    "            y = torch.reshape(model_simp(x), (batch,))\n",
    "            \n",
    "            \n",
    "\n",
    "\n",
    "            correct += torch.sum((abs(labels-y)<allowed_error).float())\n",
    "    \n",
    "    print(f'Accuracy with threshold {allowed_error}: {100*correct/num_of_test}%')"
   ]
  },
  {
   "cell_type": "code",
   "execution_count": 142,
   "metadata": {},
   "outputs": [],
   "source": [
    "# # # Testing data, random H, not regularised\n",
    "# with open ('regression_train_data_grid128', 'rb') as fp:\n",
    "#     save = pickle.load(fp)[num_of_train:]\n",
    "# test_loader = torch.utils.data.DataLoader(save, batch_size=batch, shuffle=False)"
   ]
  },
  {
   "cell_type": "code",
   "execution_count": 196,
   "metadata": {
    "execution": {
     "iopub.execute_input": "2022-06-12T08:42:11.873989Z",
     "iopub.status.busy": "2022-06-12T08:42:11.873624Z",
     "iopub.status.idle": "2022-06-12T08:42:43.364111Z",
     "shell.execute_reply": "2022-06-12T08:42:43.363287Z",
     "shell.execute_reply.started": "2022-06-12T08:42:11.873961Z"
    },
    "pycharm": {
     "name": "#%%\n"
    }
   },
   "outputs": [],
   "source": [
    "# ## Testing R/S\n",
    "# for allowed_error in np.arange(0.01,0.1,0.01):\n",
    "# #     correct = 0\n",
    "#     RScorrect = 0\n",
    "    \n",
    "\n",
    "\n",
    "#     with torch.no_grad():\n",
    "#         # Iterate through test set minibatchs \n",
    "#         for images, labels in test_loader:\n",
    "\n",
    "\n",
    "#             images = images[:,None,:].to(device)\n",
    "#             labels = labels.to(device)\n",
    "\n",
    "#             # Forward pass\n",
    "#             x = images  \n",
    "#     #         print(labels)\n",
    "            \n",
    "# #             y = torch.reshape(model_simp(x), (batch,))\n",
    "#             x = x.view(-1,128)\n",
    "#             for i in range(batch):\n",
    "#                 H,_,_ = compute_Hc(x[i], kind='change', simplified=True)\n",
    "#                 if np.abs(H-labels[i])<allowed_error:\n",
    "#                     RScorrect+=1\n",
    "\n",
    "\n",
    "# #             correct += torch.sum((abs(labels-y)<allowed_error).float())\n",
    "    \n",
    "# #     print(f'NN accuracy with threshold {allowed_error}: {100*correct/num_of_test}%')\n",
    "#     print(f'R/S accuracy with threshold {allowed_error}: {100*RScorrect/num_of_test}%')"
   ]
  },
  {
   "cell_type": "code",
   "execution_count": null,
   "metadata": {},
   "outputs": [],
   "source": []
  },
  {
   "cell_type": "code",
   "execution_count": 185,
   "metadata": {
    "execution": {
     "iopub.execute_input": "2022-06-12T08:51:30.750685Z",
     "iopub.status.busy": "2022-06-12T08:51:30.750391Z",
     "iopub.status.idle": "2022-06-12T08:51:30.767250Z",
     "shell.execute_reply": "2022-06-12T08:51:30.766453Z",
     "shell.execute_reply.started": "2022-06-12T08:51:30.750660Z"
    },
    "pycharm": {
     "name": "#%%\n"
    },
    "scrolled": false
   },
   "outputs": [
    {
     "name": "stdout",
     "output_type": "stream",
     "text": [
      "0.7970615438984928\n",
      "0.7304589949796204\n",
      "0.7357165872622481\n",
      "0.8286150497919827\n",
      "0.7773985595145659\n",
      "0.7274039518038068\n",
      "0.7795814676508706\n",
      "0.851715822046263\n",
      "0.7315995607442928\n",
      "0.8347689183963088\n",
      "0.7764696168681996\n"
     ]
    }
   ],
   "source": [
    "# Individual checking\n",
    "hurst = 0.8\n",
    "a = 0\n",
    "for i in range(10):\n",
    "    f = FBM(n=grid_points, hurst=hurst, length=1, method='daviesharte')\n",
    "    g =f.fgn()\n",
    "    g = g/np.average(np.abs(g))\n",
    "\n",
    "    t = torch.tensor(g)[None,:].to(device)\n",
    "    a += float(model_simp(t))\n",
    "    print(float(model_simp(t)))\n",
    "    \n",
    "print(a/10)"
   ]
  },
  {
   "cell_type": "code",
   "execution_count": 139,
   "metadata": {},
   "outputs": [
    {
     "data": {
      "text/plain": [
       "[<matplotlib.lines.Line2D at 0x7fdc38bad550>]"
      ]
     },
     "execution_count": 139,
     "metadata": {},
     "output_type": "execute_result"
    },
    {
     "data": {
      "image/png": "[encoded data removed]",
      "text/plain": [
       "<Figure size 432x288 with 1 Axes>"
      ]
     },
     "metadata": {
      "needs_background": "light"
     },
     "output_type": "display_data"
    }
   ],
   "source": [
    "f = FBM(n=grid_points, hurst=hurst, length=1, method='daviesharte')\n",
    "g =f.fgn()\n",
    "g = g/np.average(np.abs(g))\n",
    "plt.plot(np.linspace(0,1,128),g)"
   ]
  },
  {
   "cell_type": "code",
   "execution_count": 192,
   "metadata": {},
   "outputs": [
    {
     "name": "stdout",
     "output_type": "stream",
     "text": [
      "0.8425562820379541\n"
     ]
    }
   ],
   "source": [
    "\n",
    "\n",
    "\n",
    "# Use random_walk() function or generate a random walk series manually:\n",
    "# series = random_walk(99999, cumprod=True)\n",
    "# np.random.seed(42)\n",
    "# random_changes = 1. + np.random.randn(99999) / 1000.\n",
    "# series = np.cumprod(random_changes)  # create a random walk from random changes\n",
    "\n",
    "# Evaluate Hurst equation\n",
    "H, c, data = compute_Hc(g, kind='change', simplified=True)\n",
    "\n",
    "print(H)"
   ]
  },
  {
   "cell_type": "code",
   "execution_count": 121,
   "metadata": {},
   "outputs": [],
   "source": [
    "# import copy\n",
    "# from hurst import compute_Hc, random_walk\n",
    "# newfbm = random_walk(129, proba=hurst)\n",
    "\n",
    "# H, c, data = compute_Hc(newfbm, kind='random_walk', simplified=True)\n",
    "# print(H)\n",
    "\n",
    "# # newfbm = np.array(newfbm)\n",
    "# # lis = []\n",
    "# # for i in range(128):\n",
    "# #     lis.append(newfbm[i+1]-newfbm[i])\n",
    "# # lis  = np.array(lis)\n",
    "# # lis_orig = copy.deepcopy(lis)\n",
    "\n",
    "# # lis = torch.tensor(lis)[None,:].to(device)\n",
    "# # model_simp(lis)\n"
   ]
  },
  {
   "cell_type": "code",
   "execution_count": 122,
   "metadata": {},
   "outputs": [],
   "source": [
    "# a = 0\n",
    "# for i in range(20):\n",
    "#     newfbm = random_walk(129, proba=hurst)\n",
    "#     newfbm = np.array(newfbm)\n",
    "#     lis = []\n",
    "#     for i in range(128):\n",
    "#         lis.append(newfbm[i+1]-newfbm[i])\n",
    "#     lis  = np.array(lis)\n",
    "#     lis_orig = copy.deepcopy(lis)/np.average(np.abs(lis))\n",
    "#     plt.plot(np.linspace(0,1,128),lis_orig)\n",
    "#     lis = torch.tensor(lis_orig)[None,:].to(device)\n",
    "#     a += float(model_simp(lis))\n",
    "#     print(model_simp(lis))\n",
    "# print()\n",
    "# print(a/20)"
   ]
  },
  {
   "cell_type": "code",
   "execution_count": 123,
   "metadata": {},
   "outputs": [],
   "source": [
    "import pandas as pd"
   ]
  },
  {
   "cell_type": "code",
   "execution_count": 124,
   "metadata": {},
   "outputs": [],
   "source": [
    "import yfinance as yf"
   ]
  },
  {
   "cell_type": "code",
   "execution_count": 269,
   "metadata": {},
   "outputs": [
    {
     "data": {
      "image/png": "[encoded data removed]",
      "text/plain": [
       "<Figure size 432x288 with 1 Axes>"
      ]
     },
     "metadata": {
      "needs_background": "light"
     },
     "output_type": "display_data"
    }
   ],
   "source": [
    "markets = ['AAPL','GOOGL','BTC-USD','BE.BE','GBPEUR=X','TSLA','CL=F']\n",
    "market = markets[2]\n",
    "spy_df = yf.download(market, \n",
    "\n",
    "                     start=\"2010-01-01\", \n",
    "\n",
    "                     end=\"2020-12-31\", \n",
    "\n",
    "                     progress=False)\n",
    "\n",
    "spy_df[\"Adj Close\"].plot(title=market);"
   ]
  },
  {
   "cell_type": "code",
   "execution_count": 270,
   "metadata": {},
   "outputs": [],
   "source": [
    "# markets = ['AAPL','GOOGL','BTC-USD','BE.BE','GBPEUR=X','TSLA','CL=F']\n",
    "# market = markets[-1]\n",
    "# spy_df = yf.download(market, \n",
    "\n",
    "#                      start=\"2020-01-01\", \n",
    "\n",
    "#                      end=\"2020-07-31\", \n",
    "\n",
    "#                      progress=False)\n",
    "\n",
    "# spy_df[\"Adj Close\"].plot(title=market);"
   ]
  },
  {
   "cell_type": "code",
   "execution_count": 271,
   "metadata": {},
   "outputs": [
    {
     "name": "stdout",
     "output_type": "stream",
     "text": [
      "0.5470009589386877\n",
      "tensor([[0.5525]], dtype=torch.float64, grad_fn=<AddmmBackward0>)\n"
     ]
    }
   ],
   "source": [
    "start = 0\n",
    "values = spy_df[\"Adj Close\"].values\n",
    "\n",
    "values = np.array(values)\n",
    "values = values[start:start+129]\n",
    "\n",
    "H, _, _ = compute_Hc(values, kind='random_walk', simplified=True)\n",
    "print(H)\n",
    "\n",
    "values = np.diff(values)\n",
    "values = values/np.average(np.abs(values))\n",
    "#     plt.plot(values)\n",
    "\n",
    "values = torch.tensor(values)[None,:].to(device)\n",
    "\n",
    "print(model_simp(values))"
   ]
  },
  {
   "cell_type": "code",
   "execution_count": 272,
   "metadata": {},
   "outputs": [
    {
     "name": "stdout",
     "output_type": "stream",
     "text": [
      "Minimal H\n",
      "0.37777229376753896\n",
      "446\n",
      "Maximal H and place\n",
      "0.7793955277504557\n",
      "1049\n",
      "Average H\n",
      "0.5388220523000625\n"
     ]
    }
   ],
   "source": [
    "sumH = []\n",
    "for start in range(0,len(spy_df[\"Adj Close\"].values)-129):\n",
    "    values = spy_df[\"Adj Close\"].values\n",
    "\n",
    "    values = np.array(values)\n",
    "    values = values[start:start+129]\n",
    "\n",
    "\n",
    "    values = np.diff(values)\n",
    "    values = values/np.average(np.abs(values))\n",
    "\n",
    "\n",
    "    values = torch.tensor(values)[None,:].to(device)\n",
    "    \n",
    "    sumH.append(np.array([float(model_simp(values)),start]))\n",
    "    \n",
    "min_place = np.argmin(np.array(sumH)[:,0])\n",
    "min_H = np.min(np.array(sumH)[:,0])\n",
    "max_place = np.argmax(np.array(sumH)[:,0])\n",
    "max_H = np.max(np.array(sumH)[:,0])\n",
    "\n",
    "print('Minimal H')\n",
    "print(min_H)\n",
    "print(min_place)\n",
    "print('Maximal H and place')\n",
    "print(max_H)\n",
    "print(max_place)\n",
    "print('Average H')\n",
    "print(np.average(np.array(sumH)[:,0]))"
   ]
  },
  {
   "cell_type": "code",
   "execution_count": 273,
   "metadata": {
    "scrolled": true
   },
   "outputs": [
    {
     "data": {
      "image/png": "[encoded data removed]",
      "text/plain": [
       "<Figure size 432x288 with 1 Axes>"
      ]
     },
     "metadata": {
      "needs_background": "light"
     },
     "output_type": "display_data"
    }
   ],
   "source": [
    "spy_df[\"Adj Close\"][min_place:min_place+129].plot(title=market+' at its most volatile part '+f'H={round(min_H,2)}');"
   ]
  },
  {
   "cell_type": "code",
   "execution_count": 274,
   "metadata": {},
   "outputs": [
    {
     "data": {
      "image/png": "[encoded data removed]",
      "text/plain": [
       "<Figure size 432x288 with 1 Axes>"
      ]
     },
     "metadata": {
      "needs_background": "light"
     },
     "output_type": "display_data"
    }
   ],
   "source": [
    "spy_df[\"Adj Close\"][max_place:max_place+129].plot(title=market+' at its most monotonic part '+f'H={round(max_H,2)}');"
   ]
  },
  {
   "cell_type": "code",
   "execution_count": 275,
   "metadata": {
    "scrolled": true
   },
   "outputs": [],
   "source": [
    "# values = torch.tensor(values)[None,:].to(device)\n",
    "# model_simp(values)"
   ]
  },
  {
   "cell_type": "code",
   "execution_count": 276,
   "metadata": {
    "scrolled": true
   },
   "outputs": [],
   "source": [
    "# start = 1\n",
    "# values = spy_df[\"Adj Close\"].values\n",
    "\n",
    "# values = np.array(values)\n",
    "# values = values[0:10*128+1:10]\n",
    "\n",
    "# H, c, data = compute_Hc(values, kind='random_walk', simplified=True)\n",
    "# print(H)\n",
    "\n",
    "# lis = []\n",
    "# for i in range(128):\n",
    "#     lis.append(values[i+1]-values[i])\n",
    "# values = np.array(lis)\n",
    "# values = values/np.average(np.abs(values))\n",
    "# # plt.plot(values)"
   ]
  },
  {
   "cell_type": "code",
   "execution_count": null,
   "metadata": {},
   "outputs": [],
   "source": []
  },
  {
   "cell_type": "code",
   "execution_count": 277,
   "metadata": {},
   "outputs": [],
   "source": [
    "# values = torch.tensor(values)[None,:].to(device)\n",
    "# model_simp(values)"
   ]
  },
  {
   "cell_type": "code",
   "execution_count": null,
   "metadata": {},
   "outputs": [],
   "source": []
  }
 ],
 "metadata": {
  "kernelspec": {
   "display_name": "Python 3",
   "language": "python",
   "name": "python3"
  },
  "language_info": {
   "codemirror_mode": {
    "name": "ipython",
    "version": 3
   },
   "file_extension": ".py",
   "mimetype": "text/x-python",
   "name": "python",
   "nbconvert_exporter": "python",
   "pygments_lexer": "ipython3",
   "version": "3.8.3"
  }
 },
 "nbformat": 4,
 "nbformat_minor": 5
}
