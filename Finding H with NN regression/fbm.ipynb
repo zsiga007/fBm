{
 "cells": [
  {
   "cell_type": "code",
   "execution_count": 1,
   "metadata": {
    "execution": {
     "iopub.execute_input": "2022-06-12T08:25:34.111559Z",
     "iopub.status.busy": "2022-06-12T08:25:34.110843Z",
     "iopub.status.idle": "2022-06-12T08:25:36.785243Z",
     "shell.execute_reply": "2022-06-12T08:25:36.784356Z",
     "shell.execute_reply.started": "2022-06-12T08:25:34.111439Z"
    },
    "pycharm": {
     "name": "#%%\n"
    }
   },
   "outputs": [],
   "source": [
    "import numpy as np\n",
    "import torch\n",
    "import pickle\n",
    "import torch.nn as nn\n",
    "import torch.nn.functional as F\n",
    "from torchvision import datasets, transforms\n",
    "from tqdm.notebook import tqdm\n",
    "\n",
    "from torch.utils.data import Dataset, DataLoader\n",
    "import random"
   ]
  },
  {
   "cell_type": "code",
   "execution_count": 2,
   "metadata": {
    "execution": {
     "iopub.execute_input": "2022-06-12T08:25:44.875381Z",
     "iopub.status.busy": "2022-06-12T08:25:44.875095Z",
     "iopub.status.idle": "2022-06-12T08:25:44.903326Z",
     "shell.execute_reply": "2022-06-12T08:25:44.900495Z",
     "shell.execute_reply.started": "2022-06-12T08:25:44.875357Z"
    },
    "pycharm": {
     "name": "#%%\n"
    }
   },
   "outputs": [
    {
     "data": {
      "text/plain": [
       "'cpu'"
      ]
     },
     "execution_count": 2,
     "metadata": {},
     "output_type": "execute_result"
    }
   ],
   "source": [
    "# For better performance GPU is recommended\n",
    "device = \"cuda\" if torch.cuda.is_available() else \"cpu\"\n",
    "device"
   ]
  },
  {
   "cell_type": "code",
   "execution_count": 3,
   "metadata": {
    "execution": {
     "iopub.execute_input": "2022-06-12T08:26:00.759530Z",
     "iopub.status.busy": "2022-06-12T08:26:00.759256Z",
     "iopub.status.idle": "2022-06-12T08:26:00.769286Z",
     "shell.execute_reply": "2022-06-12T08:26:00.768249Z",
     "shell.execute_reply.started": "2022-06-12T08:26:00.759501Z"
    },
    "pycharm": {
     "name": "#%%\n"
    }
   },
   "outputs": [],
   "source": [
    "from fbm import FBM"
   ]
  },
  {
   "cell_type": "code",
   "execution_count": 1235,
   "metadata": {
    "execution": {
     "iopub.execute_input": "2022-06-12T08:26:26.056991Z",
     "iopub.status.busy": "2022-06-12T08:26:26.056644Z",
     "iopub.status.idle": "2022-06-12T08:26:26.061580Z",
     "shell.execute_reply": "2022-06-12T08:26:26.060764Z",
     "shell.execute_reply.started": "2022-06-12T08:26:26.056929Z"
    },
    "pycharm": {
     "name": "#%%\n"
    }
   },
   "outputs": [],
   "source": [
    "grid_points = 128\n",
    "num_of_train = 40000\n",
    "num_of_test = 10000\n",
    "batch = 100\n",
    "epochs = 12\n",
    "\n",
    "regularised = True\n",
    "CNN = True\n"
   ]
  },
  {
   "cell_type": "code",
   "execution_count": 1236,
   "metadata": {
    "execution": {
     "iopub.execute_input": "2022-06-12T08:27:45.399041Z",
     "iopub.status.busy": "2022-06-12T08:27:45.398727Z",
     "iopub.status.idle": "2022-06-12T08:27:45.404543Z",
     "shell.execute_reply": "2022-06-12T08:27:45.403159Z",
     "shell.execute_reply.started": "2022-06-12T08:27:45.399012Z"
    },
    "pycharm": {
     "name": "#%%\n"
    }
   },
   "outputs": [],
   "source": [
    "# Generating H randomly and then creating fGn-s\n",
    "# %%time\n",
    "# train_data = []\n",
    "\n",
    "\n",
    "# num_test = num_of_train\n",
    "# rand_test = []\n",
    "\n",
    "# for j in range(num_test):\n",
    "#   H = random.uniform(0.01,1.0)\n",
    "  \n",
    "#   f = FBM(n=grid_points, hurst=H, length=1, method='daviesharte')\n",
    "  \n",
    "\n",
    "#   train_data.append((f.fgn(), H))\n"
   ]
  },
  {
   "cell_type": "code",
   "execution_count": 1237,
   "metadata": {
    "execution": {
     "iopub.execute_input": "2022-06-12T08:27:53.152644Z",
     "iopub.status.busy": "2022-06-12T08:27:53.152378Z",
     "iopub.status.idle": "2022-06-12T08:27:53.156932Z",
     "shell.execute_reply": "2022-06-12T08:27:53.155855Z",
     "shell.execute_reply.started": "2022-06-12T08:27:53.152618Z"
    },
    "pycharm": {
     "name": "#%%\n"
    }
   },
   "outputs": [],
   "source": [
    "# H generated from 0.05 grid, behaves better for training\n",
    "# %%time\n",
    "\n",
    "# train_data = []\n",
    "\n",
    "# for H in np.arange(0.05,1.0,0.05):\n",
    "#   f = FBM(n=grid_points, hurst=H, length=1, method='daviesharte')\n",
    "#   for i in range(500):\n",
    "#     train_data.append((f.fgn(), H))\n",
    "\n",
    "# from random import shuffle\n",
    "# shuffle(train_data)"
   ]
  },
  {
   "cell_type": "code",
   "execution_count": 1238,
   "metadata": {
    "execution": {
     "iopub.execute_input": "2022-06-12T08:28:09.642967Z",
     "iopub.status.busy": "2022-06-12T08:28:09.642703Z",
     "iopub.status.idle": "2022-06-12T08:28:09.700594Z",
     "shell.execute_reply": "2022-06-12T08:28:09.699868Z",
     "shell.execute_reply.started": "2022-06-12T08:28:09.642941Z"
    },
    "pycharm": {
     "name": "#%%\n"
    }
   },
   "outputs": [],
   "source": [
    "# # Training data, well behaved H\n",
    "# with open('notrandom_regression_train_data_grid128', 'rb') as fp:\n",
    "#     train_data = pickle.load(fp)"
   ]
  },
  {
   "cell_type": "code",
   "execution_count": 1239,
   "metadata": {},
   "outputs": [],
   "source": [
    "\n",
    "with open('regression_train_data_grid128', 'rb') as fp:\n",
    "    train_data = pickle.load(fp)[:num_of_train]"
   ]
  },
  {
   "cell_type": "code",
   "execution_count": 1240,
   "metadata": {},
   "outputs": [],
   "source": [
    "if regularised:\n",
    "    normalised_train_data = []\n",
    "    for tup in train_data:\n",
    "        normalised_train_data.append((tup[0]/np.average(np.abs(tup[0])),tup[1]))\n",
    "    train_data = normalised_train_data"
   ]
  },
  {
   "cell_type": "code",
   "execution_count": 1241,
   "metadata": {
    "execution": {
     "iopub.execute_input": "2022-06-12T08:28:20.884423Z",
     "iopub.status.busy": "2022-06-12T08:28:20.884133Z",
     "iopub.status.idle": "2022-06-12T08:28:21.107396Z",
     "shell.execute_reply": "2022-06-12T08:28:21.106532Z",
     "shell.execute_reply.started": "2022-06-12T08:28:20.884391Z"
    },
    "pycharm": {
     "name": "#%%\n"
    }
   },
   "outputs": [],
   "source": [
    "# Testing data, random H\n",
    "with open ('regression_train_data_grid128', 'rb') as fp:\n",
    "    save = pickle.load(fp)[num_of_train:]"
   ]
  },
  {
   "cell_type": "code",
   "execution_count": 1242,
   "metadata": {},
   "outputs": [],
   "source": [
    "if regularised:\n",
    "    normalised_save_data = []\n",
    "    for tup in save:\n",
    "        normalised_save_data.append((tup[0]/np.average(np.abs(tup[0])),tup[1]))\n",
    "    save = normalised_save_data"
   ]
  },
  {
   "cell_type": "code",
   "execution_count": 1243,
   "metadata": {
    "execution": {
     "iopub.execute_input": "2022-06-12T08:42:08.029958Z",
     "iopub.status.busy": "2022-06-12T08:42:08.029682Z",
     "iopub.status.idle": "2022-06-12T08:42:08.036069Z",
     "shell.execute_reply": "2022-06-12T08:42:08.035106Z",
     "shell.execute_reply.started": "2022-06-12T08:42:08.029932Z"
    },
    "pycharm": {
     "name": "#%%\n"
    }
   },
   "outputs": [],
   "source": [
    "train_loader = torch.utils.data.DataLoader(train_data, batch_size=batch, shuffle=True)\n",
    "test_loader = torch.utils.data.DataLoader(save, batch_size=batch, shuffle=False)"
   ]
  },
  {
   "cell_type": "code",
   "execution_count": 1244,
   "metadata": {
    "execution": {
     "iopub.execute_input": "2022-06-12T08:30:08.686147Z",
     "iopub.status.busy": "2022-06-12T08:30:08.685271Z",
     "iopub.status.idle": "2022-06-12T08:30:08.693241Z",
     "shell.execute_reply": "2022-06-12T08:30:08.692452Z",
     "shell.execute_reply.started": "2022-06-12T08:30:08.686107Z"
    },
    "pycharm": {
     "name": "#%%\n"
    }
   },
   "outputs": [],
   "source": [
    "class CNN_simplistic(nn.Module):\n",
    "    def __init__(self):\n",
    "        super().__init__()\n",
    "        \n",
    "        \n",
    "        \n",
    "        self.fc1 = nn.Linear(grid_points, 256)\n",
    "        self.fc2 = nn.Linear(256, 190)\n",
    "        self.fc3 = nn.Linear(190, 190)\n",
    "        self.fc4 = nn.Linear(190, 1)\n",
    "        self.dropout = nn.Dropout(p)\n",
    "\n",
    "    def forward(self, x):\n",
    "\n",
    "        x = self.fc1(x)\n",
    "        x = F.relu(x)\n",
    "        \n",
    "        #fc layer 2\n",
    "        x = self.fc2(x)\n",
    "        x = F.relu(x)\n",
    "\n",
    "        #fc layer 3\n",
    "        x = self.fc3(x)\n",
    "        x = F.relu(x)\n",
    "\n",
    "        x=self.fc4(x)\n",
    "        \n",
    "        return x"
   ]
  },
  {
   "cell_type": "code",
   "execution_count": 1245,
   "metadata": {},
   "outputs": [],
   "source": [
    "if CNN:\n",
    "    p=0.2\n",
    "    class CNN_simplistic(nn.Module):\n",
    "        def __init__(self):\n",
    "            super().__init__()\n",
    "            self.conv1 = nn.Conv1d(1, 32, padding = 'same', kernel_size = 11)\n",
    "            self.conv2 = nn.Conv1d(32, 32, padding = 'same',kernel_size = 11)\n",
    "            self.conv3 = nn.Conv1d(32, 64, padding = 'same',kernel_size = 11)\n",
    "            self.conv4 = nn.Conv1d(64, 64, padding = 'same',kernel_size = 11)\n",
    "\n",
    "            self.fc1 = nn.Linear(grid_points*64//(4*4*2*2), 256)\n",
    "            self.fc2 = nn.Linear(256, 190)\n",
    "            self.fc3 = nn.Linear(190, 100)\n",
    "            self.fc4 = nn.Linear(100, 1)\n",
    "            self.dropout = nn.Dropout(p)\n",
    "\n",
    "        def forward(self, x):\n",
    "\n",
    "            x = self.conv1(x)\n",
    "            x = F.relu(x)\n",
    "            x = F.max_pool1d(x,kernel_size = 4)\n",
    "\n",
    "            x = self.dropout(self.conv2(x))\n",
    "            x = F.relu(x)\n",
    "            x = F.max_pool1d(x,kernel_size = 4)\n",
    "\n",
    "\n",
    "            x = self.conv3(x)\n",
    "            x = F.relu(x)\n",
    "            x = F.max_pool1d(x,kernel_size = 2)\n",
    "\n",
    "            x = self.dropout(self.conv4(x))\n",
    "            x = F.relu(x)\n",
    "            x = F.avg_pool1d(x,kernel_size = 2)\n",
    "\n",
    "\n",
    "            x = x.view(-1,grid_points*64//(4*4*2*2))\n",
    "            x = self.fc1(x)\n",
    "            x = F.relu(x)\n",
    "\n",
    "            #fc layer 2\n",
    "            x = self.fc2(x)\n",
    "            x = F.relu(x)\n",
    "\n",
    "            #fc layer 3\n",
    "            x = self.fc3(x)\n",
    "            x = F.relu(x)\n",
    "\n",
    "            x=self.fc4(x)\n",
    "\n",
    "            return x"
   ]
  },
  {
   "cell_type": "code",
   "execution_count": 1246,
   "metadata": {
    "execution": {
     "iopub.execute_input": "2022-06-12T08:35:04.448759Z",
     "iopub.status.busy": "2022-06-12T08:35:04.448464Z",
     "iopub.status.idle": "2022-06-12T08:37:18.597385Z",
     "shell.execute_reply": "2022-06-12T08:37:18.596759Z",
     "shell.execute_reply.started": "2022-06-12T08:35:04.448733Z"
    },
    "pycharm": {
     "name": "#%%\n"
    }
   },
   "outputs": [
    {
     "data": {
      "application/vnd.jupyter.widget-view+json": {
       "model_id": "7709339cf3114d4f9544c5bbe9a9bbb4",
       "version_major": 2,
       "version_minor": 0
      },
      "text/plain": [
       "HBox(children=(FloatProgress(value=0.0, max=12.0), HTML(value='')))"
      ]
     },
     "metadata": {},
     "output_type": "display_data"
    },
    {
     "data": {
      "application/vnd.jupyter.widget-view+json": {
       "model_id": "286b70a2d82d4c18b7a31548e7164a44",
       "version_major": 2,
       "version_minor": 0
      },
      "text/plain": [
       "HBox(children=(FloatProgress(value=0.0, max=400.0), HTML(value='')))"
      ]
     },
     "metadata": {},
     "output_type": "display_data"
    },
    {
     "name": "stdout",
     "output_type": "stream",
     "text": [
      "\n"
     ]
    },
    {
     "data": {
      "application/vnd.jupyter.widget-view+json": {
       "model_id": "4d11823006b549d6abfcd4cfe9aa1d75",
       "version_major": 2,
       "version_minor": 0
      },
      "text/plain": [
       "HBox(children=(FloatProgress(value=0.0, max=400.0), HTML(value='')))"
      ]
     },
     "metadata": {},
     "output_type": "display_data"
    },
    {
     "name": "stdout",
     "output_type": "stream",
     "text": [
      "\n"
     ]
    },
    {
     "data": {
      "application/vnd.jupyter.widget-view+json": {
       "model_id": "74af87e73b5a47ca8b850cfd3f892c57",
       "version_major": 2,
       "version_minor": 0
      },
      "text/plain": [
       "HBox(children=(FloatProgress(value=0.0, max=400.0), HTML(value='')))"
      ]
     },
     "metadata": {},
     "output_type": "display_data"
    },
    {
     "name": "stdout",
     "output_type": "stream",
     "text": [
      "\n"
     ]
    },
    {
     "data": {
      "application/vnd.jupyter.widget-view+json": {
       "model_id": "6a6cfce9caa14e2483052820215bd981",
       "version_major": 2,
       "version_minor": 0
      },
      "text/plain": [
       "HBox(children=(FloatProgress(value=0.0, max=400.0), HTML(value='')))"
      ]
     },
     "metadata": {},
     "output_type": "display_data"
    },
    {
     "name": "stdout",
     "output_type": "stream",
     "text": [
      "\n"
     ]
    },
    {
     "data": {
      "application/vnd.jupyter.widget-view+json": {
       "model_id": "43cb79ef1eca463e8c168a530e09f38d",
       "version_major": 2,
       "version_minor": 0
      },
      "text/plain": [
       "HBox(children=(FloatProgress(value=0.0, max=400.0), HTML(value='')))"
      ]
     },
     "metadata": {},
     "output_type": "display_data"
    },
    {
     "name": "stdout",
     "output_type": "stream",
     "text": [
      "\n"
     ]
    },
    {
     "data": {
      "application/vnd.jupyter.widget-view+json": {
       "model_id": "f91e2eb4f4fb449fa9510bdf02b6e91e",
       "version_major": 2,
       "version_minor": 0
      },
      "text/plain": [
       "HBox(children=(FloatProgress(value=0.0, max=400.0), HTML(value='')))"
      ]
     },
     "metadata": {},
     "output_type": "display_data"
    },
    {
     "name": "stdout",
     "output_type": "stream",
     "text": [
      "\n"
     ]
    },
    {
     "data": {
      "application/vnd.jupyter.widget-view+json": {
       "model_id": "25a2d6949692461fadf8ae9fda3faf9c",
       "version_major": 2,
       "version_minor": 0
      },
      "text/plain": [
       "HBox(children=(FloatProgress(value=0.0, max=400.0), HTML(value='')))"
      ]
     },
     "metadata": {},
     "output_type": "display_data"
    },
    {
     "name": "stdout",
     "output_type": "stream",
     "text": [
      "\n"
     ]
    },
    {
     "data": {
      "application/vnd.jupyter.widget-view+json": {
       "model_id": "b1c50a0cd6f84527ac8e89afe20bef0d",
       "version_major": 2,
       "version_minor": 0
      },
      "text/plain": [
       "HBox(children=(FloatProgress(value=0.0, max=400.0), HTML(value='')))"
      ]
     },
     "metadata": {},
     "output_type": "display_data"
    },
    {
     "name": "stdout",
     "output_type": "stream",
     "text": [
      "\n"
     ]
    },
    {
     "data": {
      "application/vnd.jupyter.widget-view+json": {
       "model_id": "6a82d10a5ed04b21a64cfd8e6217b448",
       "version_major": 2,
       "version_minor": 0
      },
      "text/plain": [
       "HBox(children=(FloatProgress(value=0.0, max=400.0), HTML(value='')))"
      ]
     },
     "metadata": {},
     "output_type": "display_data"
    },
    {
     "name": "stdout",
     "output_type": "stream",
     "text": [
      "\n"
     ]
    },
    {
     "data": {
      "application/vnd.jupyter.widget-view+json": {
       "model_id": "19f6ab3d8b5846fc914375e8f59f6d90",
       "version_major": 2,
       "version_minor": 0
      },
      "text/plain": [
       "HBox(children=(FloatProgress(value=0.0, max=400.0), HTML(value='')))"
      ]
     },
     "metadata": {},
     "output_type": "display_data"
    },
    {
     "name": "stdout",
     "output_type": "stream",
     "text": [
      "\n"
     ]
    },
    {
     "data": {
      "application/vnd.jupyter.widget-view+json": {
       "model_id": "162d5271069543adacf53750812f391e",
       "version_major": 2,
       "version_minor": 0
      },
      "text/plain": [
       "HBox(children=(FloatProgress(value=0.0, max=400.0), HTML(value='')))"
      ]
     },
     "metadata": {},
     "output_type": "display_data"
    },
    {
     "name": "stdout",
     "output_type": "stream",
     "text": [
      "\n"
     ]
    },
    {
     "data": {
      "application/vnd.jupyter.widget-view+json": {
       "model_id": "9b027845f00d469ba3cf63f82d20e2a8",
       "version_major": 2,
       "version_minor": 0
      },
      "text/plain": [
       "HBox(children=(FloatProgress(value=0.0, max=400.0), HTML(value='')))"
      ]
     },
     "metadata": {},
     "output_type": "display_data"
    },
    {
     "name": "stdout",
     "output_type": "stream",
     "text": [
      "\n",
      "\n"
     ]
    }
   ],
   "source": [
    "from torchvision import datasets, transforms\n",
    "from tqdm.notebook import tqdm, trange\n",
    "\n",
    "\n",
    "## Training\n",
    "# Instantiate model  \n",
    "model_simp = CNN_simplistic().double().to(device) \n",
    "\n",
    "\n",
    "\n",
    "# Loss and Optimizer\n",
    "base_optimizer = torch.optim.SGD\n",
    "optimizer = torch.optim.Adam(model_simp.parameters(), lr=0.001)\n",
    "criterion = nn.MSELoss()\n",
    "\n",
    "\n",
    "\n",
    "\n",
    "# Iterate through train set minibatchs \n",
    "for epoch in trange(epochs):  \n",
    "    for images, labels in tqdm(train_loader):\n",
    "        images = images[:,None,:].to(device)\n",
    "        labels = labels.to(device)\n",
    "        # Zero out the gradients\n",
    "        optimizer.zero_grad()\n",
    "\n",
    "        # ADAM\n",
    "        # Forward pass\n",
    "        x = images\n",
    "        y = model_simp(x)\n",
    "        loss = criterion(torch.squeeze(y), torch.squeeze(labels))\n",
    "\n",
    "\n",
    "        \n",
    "        # Backward pass\n",
    "        loss.backward()\n",
    "        optimizer.step()"
   ]
  },
  {
   "cell_type": "code",
   "execution_count": 1247,
   "metadata": {},
   "outputs": [],
   "source": [
    "# # Test loader for Hurst package:\n",
    "# from hurst import compute_Hc, random_walk\n",
    "# num = 1000\n",
    "# rand_test = []\n",
    "\n",
    "# for j in range(num):\n",
    "#     H = random.uniform(0.001,1.0)\n",
    "  \n",
    "#     fbm = random_walk(128, proba=H)\n",
    "  \n",
    "\n",
    "#     rand_test.append((np.array(fbm), H))\n",
    "\n",
    "# test_loader = torch.utils.data.DataLoader(rand_test, batch_size=batch, shuffle=False)\n"
   ]
  },
  {
   "cell_type": "code",
   "execution_count": 1248,
   "metadata": {},
   "outputs": [
    {
     "name": "stdout",
     "output_type": "stream",
     "text": [
      "Accuracy with threshold 0.01: 13.569999694824219%\n",
      "Accuracy with threshold 0.02: 28.440000534057617%\n",
      "Accuracy with threshold 0.03: 41.83000183105469%\n",
      "Accuracy with threshold 0.04: 52.08000183105469%\n",
      "Accuracy with threshold 0.05: 61.689998626708984%\n",
      "Accuracy with threshold 0.060000000000000005: 70.19000244140625%\n",
      "Accuracy with threshold 0.06999999999999999: 77.61000061035156%\n",
      "Accuracy with threshold 0.08: 83.58999633789062%\n",
      "Accuracy with threshold 0.09: 87.88999938964844%\n"
     ]
    }
   ],
   "source": [
    "## Testing alone\n",
    "for allowed_error in np.arange(0.01,0.1,0.01):\n",
    "    correct = 0\n",
    "    \n",
    "    \n",
    "\n",
    "\n",
    "    with torch.no_grad():\n",
    "        # Iterate through test set minibatchs \n",
    "        for images, labels in test_loader:\n",
    "\n",
    "\n",
    "            images = images[:,None,:].to(device)\n",
    "            labels = labels.to(device)\n",
    "\n",
    "            # Forward pass\n",
    "            x = images  \n",
    "#             print(labels.shape)\n",
    "            \n",
    "            y = torch.reshape(model_simp(x), (batch,))\n",
    "            \n",
    "            \n",
    "\n",
    "\n",
    "            correct += torch.sum((abs(labels-y)<allowed_error).float())\n",
    "    \n",
    "    print(f'Accuracy with threshold {allowed_error}: {100*correct/num_of_test}%')"
   ]
  },
  {
   "cell_type": "code",
   "execution_count": 1249,
   "metadata": {
    "execution": {
     "iopub.execute_input": "2022-06-12T08:42:11.873989Z",
     "iopub.status.busy": "2022-06-12T08:42:11.873624Z",
     "iopub.status.idle": "2022-06-12T08:42:43.364111Z",
     "shell.execute_reply": "2022-06-12T08:42:43.363287Z",
     "shell.execute_reply.started": "2022-06-12T08:42:11.873961Z"
    },
    "pycharm": {
     "name": "#%%\n"
    }
   },
   "outputs": [
    {
     "name": "stdout",
     "output_type": "stream",
     "text": [
      "R/S accuracy with threshold 0.01: 4.25%\n",
      "R/S accuracy with threshold 0.02: 8.88%\n",
      "R/S accuracy with threshold 0.03: 13.16%\n",
      "R/S accuracy with threshold 0.04: 17.33%\n",
      "R/S accuracy with threshold 0.05: 21.8%\n",
      "R/S accuracy with threshold 0.060000000000000005: 26.15%\n",
      "R/S accuracy with threshold 0.06999999999999999: 30.28%\n",
      "R/S accuracy with threshold 0.08: 34.26%\n",
      "R/S accuracy with threshold 0.09: 38.91%\n"
     ]
    }
   ],
   "source": [
    "## Testing R/S\n",
    "for allowed_error in np.arange(0.01,0.1,0.01):\n",
    "#     correct = 0\n",
    "    RScorrect = 0\n",
    "    \n",
    "\n",
    "\n",
    "    with torch.no_grad():\n",
    "        # Iterate through test set minibatchs \n",
    "        for images, labels in test_loader:\n",
    "\n",
    "\n",
    "            images = images[:,None,:].to(device)\n",
    "            labels = labels.to(device)\n",
    "\n",
    "            # Forward pass\n",
    "            x = images  \n",
    "    #         print(labels)\n",
    "            \n",
    "#             y = torch.reshape(model_simp(x), (batch,))\n",
    "            x = x.view(-1,128)\n",
    "            for i in range(batch):\n",
    "                H,_,_ = compute_Hc(x[i], kind='change', simplified=True)\n",
    "                if np.abs(H-labels[i])<allowed_error:\n",
    "                    RScorrect+=1\n",
    "\n",
    "\n",
    "#             correct += torch.sum((abs(labels-y)<allowed_error).float())\n",
    "    \n",
    "#     print(f'NN accuracy with threshold {allowed_error}: {100*correct/num_of_test}%')\n",
    "    print(f'R/S accuracy with threshold {allowed_error}: {100*RScorrect/num_of_test}%')"
   ]
  },
  {
   "cell_type": "code",
   "execution_count": 1250,
   "metadata": {
    "execution": {
     "iopub.execute_input": "2022-06-12T08:51:30.750685Z",
     "iopub.status.busy": "2022-06-12T08:51:30.750391Z",
     "iopub.status.idle": "2022-06-12T08:51:30.767250Z",
     "shell.execute_reply": "2022-06-12T08:51:30.766453Z",
     "shell.execute_reply.started": "2022-06-12T08:51:30.750660Z"
    },
    "pycharm": {
     "name": "#%%\n"
    },
    "scrolled": true
   },
   "outputs": [],
   "source": [
    "# Individual checking\n",
    "hurst = 0.5\n",
    "# a = 0\n",
    "# for i in range(10):\n",
    "#     f = FBM(n=grid_points, hurst=hurst, length=1, method='daviesharte')\n",
    "#     g =f.fgn()\n",
    "#     g = g/np.average(np.abs(g))\n",
    "#     plt.plot(np.linspace(0,1,128),g)\n",
    "#     t = torch.tensor(g)[None,:].to(device)\n",
    "#     a += float(model_simp(t))\n",
    "#     print(float(model_simp(t)))\n",
    "    \n",
    "# print(a/10)"
   ]
  },
  {
   "cell_type": "code",
   "execution_count": 1251,
   "metadata": {},
   "outputs": [],
   "source": [
    "f = FBM(n=grid_points, hurst=hurst, length=1, method='daviesharte')\n",
    "g =f.fbm()\n",
    "g = g/np.average(np.abs(g))"
   ]
  },
  {
   "cell_type": "code",
   "execution_count": 1252,
   "metadata": {},
   "outputs": [
    {
     "name": "stdout",
     "output_type": "stream",
     "text": [
      "0.21424536674628591\n"
     ]
    }
   ],
   "source": [
    "\n",
    "from hurst import compute_Hc, random_walk\n",
    "\n",
    "# Use random_walk() function or generate a random walk series manually:\n",
    "# series = random_walk(99999, cumprod=True)\n",
    "# np.random.seed(42)\n",
    "# random_changes = 1. + np.random.randn(99999) / 1000.\n",
    "# series = np.cumprod(random_changes)  # create a random walk from random changes\n",
    "\n",
    "# Evaluate Hurst equation\n",
    "H, c, data = compute_Hc(g, kind='change', simplified=True)\n",
    "\n",
    "print(H)"
   ]
  },
  {
   "cell_type": "code",
   "execution_count": 1253,
   "metadata": {},
   "outputs": [],
   "source": [
    "# import copy\n",
    "# from hurst import compute_Hc, random_walk\n",
    "# newfbm = random_walk(129, proba=hurst)\n",
    "\n",
    "# H, c, data = compute_Hc(newfbm, kind='random_walk', simplified=True)\n",
    "# print(H)\n",
    "\n",
    "# # newfbm = np.array(newfbm)\n",
    "# # lis = []\n",
    "# # for i in range(128):\n",
    "# #     lis.append(newfbm[i+1]-newfbm[i])\n",
    "# # lis  = np.array(lis)\n",
    "# # lis_orig = copy.deepcopy(lis)\n",
    "\n",
    "# # lis = torch.tensor(lis)[None,:].to(device)\n",
    "# # model_simp(lis)\n"
   ]
  },
  {
   "cell_type": "code",
   "execution_count": 1254,
   "metadata": {},
   "outputs": [],
   "source": [
    "# a = 0\n",
    "# for i in range(20):\n",
    "#     newfbm = random_walk(129, proba=hurst)\n",
    "#     newfbm = np.array(newfbm)\n",
    "#     lis = []\n",
    "#     for i in range(128):\n",
    "#         lis.append(newfbm[i+1]-newfbm[i])\n",
    "#     lis  = np.array(lis)\n",
    "#     lis_orig = copy.deepcopy(lis)/np.average(np.abs(lis))\n",
    "#     plt.plot(np.linspace(0,1,128),lis_orig)\n",
    "#     lis = torch.tensor(lis_orig)[None,:].to(device)\n",
    "#     a += float(model_simp(lis))\n",
    "#     print(model_simp(lis))\n",
    "# print()\n",
    "# print(a/20)"
   ]
  },
  {
   "cell_type": "code",
   "execution_count": 1255,
   "metadata": {},
   "outputs": [],
   "source": [
    "import pandas as pd"
   ]
  },
  {
   "cell_type": "code",
   "execution_count": 1256,
   "metadata": {},
   "outputs": [],
   "source": [
    "import yfinance as yf"
   ]
  },
  {
   "cell_type": "code",
   "execution_count": 1257,
   "metadata": {},
   "outputs": [
    {
     "data": {
      "image/png": "[encoded data removed]",
      "text/plain": [
       "<Figure size 432x288 with 1 Axes>"
      ]
     },
     "metadata": {
      "needs_background": "light"
     },
     "output_type": "display_data"
    }
   ],
   "source": [
    "market = 'GOOGL'\n",
    "spy_df = yf.download(market, \n",
    "\n",
    "                     start=\"2010-01-01\", \n",
    "\n",
    "                     end=\"2020-12-31\", \n",
    "\n",
    "                     progress=False)\n",
    "\n",
    "spy_df[\"Adj Close\"].plot(title=market);"
   ]
  },
  {
   "cell_type": "code",
   "execution_count": 1270,
   "metadata": {},
   "outputs": [
    {
     "name": "stdout",
     "output_type": "stream",
     "text": [
      "[-2.41709214 -2.17584952  1.21699724 -0.13982852 -1.6334284  -0.52090904\n",
      "  0.42410467 -1.51356601  1.17089993 -1.10790026  0.39490971 -5.0662168\n",
      " -1.53815125  0.37186105 -0.04917047 -1.20009489 -0.66842982  0.47327514\n",
      " -0.29194967  1.49051735 -2.15741059  0.69301505  0.3349832   0.4563728\n",
      " -0.30578823  0.29964192 -0.50401606  1.25695762 -0.47482109  0.76985328\n",
      " -0.37800736  0.31346175 -1.18780228 -0.55317716 -0.77445364  0.05685336\n",
      "  0.9050627   1.28615259  0.65459125  1.42444453  1.47822474 -0.26583722\n",
      " -0.35188555  2.4985401   0.72067344 -0.24586172 -2.5138965   0.31038859\n",
      "  0.05531678  0.12908185 -0.98343751 -0.38415367 -1.30611872  1.27999691\n",
      "  0.85281908 -0.02919497 -0.03687785  0.65460062  0.06299966  0.25815434\n",
      "  0.33959293 -0.42871441 -0.71913686  0.60695736 -0.1951453   1.00033049\n",
      "  2.15741059  0.34266608  0.96806237 -6.93781467 -0.00768289  0.75908787\n",
      " -0.11370671 -1.11250999 -0.31808085 -2.0513774  -0.39644628  0.0199755\n",
      "  0.43178756 -0.96807174  0.75294156 -3.72321554  0.52091372 -1.70410627\n",
      " -0.84974593  4.38088932 -1.93613411 -0.56240131  0.84359962 -0.51476741\n",
      "  0.06761408 -1.47515158 -0.60542547 -2.98410786 -0.45483622  0.78520968\n",
      " -0.01382919 -0.24585704  2.30338543 -0.74218552 -0.50093822  1.69027707\n",
      "  1.87928075 -1.05719322 -2.02832874 -0.1137114  -1.65339453  1.99606062\n",
      "  0.22895469 -0.81594123  2.27419046  0.50400669 -0.18285737 -0.00768289\n",
      " -1.7624962  -0.3549587  -0.64537647 -1.06794926 -0.37185636 -0.09219932\n",
      " -2.73824614 -1.43059084 -0.83898988 -0.45176306 -0.07376039  2.1712351\n",
      "  0.9772912   1.67951635]\n"
     ]
    }
   ],
   "source": [
    "values = spy_df[\"Adj Close\"].values\n",
    "start = 1 \n",
    "values = np.array(values)\n",
    "values = values[start:start+129]\n",
    "lis = []\n",
    "for i in range(128):\n",
    "    lis.append(values[i+1]-values[i])\n",
    "values = np.array(lis)\n",
    "values = values/np.average(np.abs(values))\n",
    "\n",
    "print(values)"
   ]
  },
  {
   "cell_type": "code",
   "execution_count": 1262,
   "metadata": {},
   "outputs": [],
   "source": [
    "# for start in range(len(spy_df[\"Adj Close\"].values)-130):\n",
    "#     values = spy_df[\"Adj Close\"].values\n",
    "\n",
    "#     values = np.array(values)\n",
    "#     values = values[start:start+129]\n",
    "\n",
    "#     # H, c, data = compute_Hc(values, kind='random_walk', simplified=True)\n",
    "#     # print(H)\n",
    "\n",
    "#     lis = []\n",
    "#     for i in range(128):\n",
    "#         lis.append(values[i+1]-values[i])\n",
    "#     values = np.array(lis)\n",
    "#     values = values/np.average(np.abs(values))\n",
    "# #     plt.plot(values)\n",
    "\n",
    "#     values = torch.tensor(values)[None,:].to(device)\n",
    "    \n",
    "#     print(model_simp(values))"
   ]
  },
  {
   "cell_type": "code",
   "execution_count": 1259,
   "metadata": {
    "scrolled": true
   },
   "outputs": [],
   "source": [
    "# values = torch.tensor(values)[None,:].to(device)\n",
    "# model_simp(values)"
   ]
  },
  {
   "cell_type": "code",
   "execution_count": 1260,
   "metadata": {
    "scrolled": true
   },
   "outputs": [
    {
     "name": "stdout",
     "output_type": "stream",
     "text": [
      "0.7157479981781395\n"
     ]
    },
    {
     "data": {
      "text/plain": [
       "[<matplotlib.lines.Line2D at 0x7fbcf99fa5b0>]"
      ]
     },
     "execution_count": 1260,
     "metadata": {},
     "output_type": "execute_result"
    },
    {
     "data": {
      "image/png": "[encoded data removed]",
      "text/plain": [
       "<Figure size 432x288 with 1 Axes>"
      ]
     },
     "metadata": {
      "needs_background": "light"
     },
     "output_type": "display_data"
    }
   ],
   "source": [
    "start = 1\n",
    "values = spy_df[\"Adj Close\"].values\n",
    "\n",
    "values = np.array(values)\n",
    "values = values[0:10*128+1:10]\n",
    "\n",
    "H, c, data = compute_Hc(values, kind='random_walk', simplified=True)\n",
    "print(H)\n",
    "\n",
    "lis = []\n",
    "for i in range(128):\n",
    "    lis.append(values[i+1]-values[i])\n",
    "values = np.array(lis)\n",
    "values = values/np.average(np.abs(values))\n",
    "plt.plot(values)"
   ]
  },
  {
   "cell_type": "code",
   "execution_count": null,
   "metadata": {},
   "outputs": [],
   "source": []
  },
  {
   "cell_type": "code",
   "execution_count": 1261,
   "metadata": {},
   "outputs": [
    {
     "data": {
      "text/plain": [
       "tensor([[0.5502]], dtype=torch.float64, grad_fn=<AddmmBackward0>)"
      ]
     },
     "execution_count": 1261,
     "metadata": {},
     "output_type": "execute_result"
    }
   ],
   "source": [
    "values = torch.tensor(values)[None,:].to(device)\n",
    "model_simp(values)"
   ]
  },
  {
   "cell_type": "code",
   "execution_count": null,
   "metadata": {},
   "outputs": [],
   "source": []
  }
 ],
 "metadata": {
  "kernelspec": {
   "display_name": "Python 3",
   "language": "python",
   "name": "python3"
  },
  "language_info": {
   "codemirror_mode": {
    "name": "ipython",
    "version": 3
   },
   "file_extension": ".py",
   "mimetype": "text/x-python",
   "name": "python",
   "nbconvert_exporter": "python",
   "pygments_lexer": "ipython3",
   "version": "3.8.3"
  }
 },
 "nbformat": 4,
 "nbformat_minor": 5
}
