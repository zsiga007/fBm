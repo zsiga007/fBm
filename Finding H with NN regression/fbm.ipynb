{
 "cells": [
  {
   "cell_type": "code",
   "execution_count": 1,
   "id": "9b550fcc-ca8c-4d69-aa3e-4edc64c7c5eb",
   "metadata": {
    "execution": {
     "iopub.execute_input": "2022-06-12T08:25:34.111559Z",
     "iopub.status.busy": "2022-06-12T08:25:34.110843Z",
     "iopub.status.idle": "2022-06-12T08:25:36.785243Z",
     "shell.execute_reply": "2022-06-12T08:25:36.784356Z",
     "shell.execute_reply.started": "2022-06-12T08:25:34.111439Z"
    },
    "pycharm": {
     "name": "#%%\n"
    }
   },
   "outputs": [],
   "source": [
    "import numpy as np\n",
    "import torch\n",
    "import pickle\n",
    "import torch.nn as nn\n",
    "import torch.nn.functional as F\n",
    "from torchvision import datasets, transforms\n",
    "from tqdm.notebook import tqdm\n",
    "import matplotlib.pyplot as plt\n",
    "import pandas as pd\n",
    "from torch.utils.data import Dataset, DataLoader\n",
    "import random"
   ]
  },
  {
   "cell_type": "code",
   "execution_count": 2,
   "id": "89807fec-635b-435d-afce-3205a53ef819",
   "metadata": {
    "execution": {
     "iopub.execute_input": "2022-06-12T08:25:44.875381Z",
     "iopub.status.busy": "2022-06-12T08:25:44.875095Z",
     "iopub.status.idle": "2022-06-12T08:25:44.903326Z",
     "shell.execute_reply": "2022-06-12T08:25:44.900495Z",
     "shell.execute_reply.started": "2022-06-12T08:25:44.875357Z"
    },
    "pycharm": {
     "name": "#%%\n"
    }
   },
   "outputs": [
    {
     "data": {
      "text/plain": [
       "'cuda'"
      ]
     },
     "execution_count": 2,
     "metadata": {},
     "output_type": "execute_result"
    }
   ],
   "source": [
    "device = \"cuda\" if torch.cuda.is_available() else \"cpu\"\n",
    "device"
   ]
  },
  {
   "cell_type": "code",
   "execution_count": 3,
   "id": "47c9484f-0ec5-4cee-950b-4b8d7bd44b27",
   "metadata": {
    "execution": {
     "iopub.execute_input": "2022-06-12T08:25:52.408002Z",
     "iopub.status.busy": "2022-06-12T08:25:52.407705Z",
     "iopub.status.idle": "2022-06-12T08:25:56.307490Z",
     "shell.execute_reply": "2022-06-12T08:25:56.306493Z",
     "shell.execute_reply.started": "2022-06-12T08:25:52.407976Z"
    },
    "pycharm": {
     "name": "#%%\n"
    }
   },
   "outputs": [
    {
     "name": "stdout",
     "output_type": "stream",
     "text": [
      "Looking in indexes: https://pypi.org/simple, https://pypi.ngc.nvidia.com\n",
      "Collecting fbm\n",
      "  Downloading fbm-0.3.0-py3-none-any.whl (9.4 kB)\n",
      "Requirement already satisfied: numpy in /opt/conda/lib/python3.8/site-packages (from fbm) (1.22.2)\n",
      "Installing collected packages: fbm\n",
      "Successfully installed fbm-0.3.0\n",
      "\u001B[33mWARNING: Running pip as the 'root' user can result in broken permissions and conflicting behaviour with the system package manager. It is recommended to use a virtual environment instead: https://pip.pypa.io/warnings/venv\u001B[0m\n",
      "Note: you may need to restart the kernel to use updated packages.\n"
     ]
    }
   ],
   "source": [
    "pip install fbm"
   ]
  },
  {
   "cell_type": "code",
   "execution_count": 4,
   "id": "5ebfba66-a303-495d-9b2c-cdbcabd88339",
   "metadata": {
    "execution": {
     "iopub.execute_input": "2022-06-12T08:26:00.759530Z",
     "iopub.status.busy": "2022-06-12T08:26:00.759256Z",
     "iopub.status.idle": "2022-06-12T08:26:00.769286Z",
     "shell.execute_reply": "2022-06-12T08:26:00.768249Z",
     "shell.execute_reply.started": "2022-06-12T08:26:00.759501Z"
    },
    "pycharm": {
     "name": "#%%\n"
    }
   },
   "outputs": [],
   "source": [
    "from fbm import FBM\n",
    "import numpy as np"
   ]
  },
  {
   "cell_type": "code",
   "execution_count": 5,
   "id": "4c64e957-09e3-42fb-8430-ed8ef97c751e",
   "metadata": {
    "execution": {
     "iopub.execute_input": "2022-06-12T08:26:26.056991Z",
     "iopub.status.busy": "2022-06-12T08:26:26.056644Z",
     "iopub.status.idle": "2022-06-12T08:26:26.061580Z",
     "shell.execute_reply": "2022-06-12T08:26:26.060764Z",
     "shell.execute_reply.started": "2022-06-12T08:26:26.056929Z"
    },
    "pycharm": {
     "name": "#%%\n"
    }
   },
   "outputs": [],
   "source": [
    "grid_points = 128\n",
    "num_of_train = 50000 \n",
    "batch = 1\n"
   ]
  },
  {
   "cell_type": "code",
   "execution_count": 6,
   "id": "67326f1a-392e-44f6-8895-86b9115e7c70",
   "metadata": {
    "execution": {
     "iopub.execute_input": "2022-06-12T08:27:45.399041Z",
     "iopub.status.busy": "2022-06-12T08:27:45.398727Z",
     "iopub.status.idle": "2022-06-12T08:27:45.404543Z",
     "shell.execute_reply": "2022-06-12T08:27:45.403159Z",
     "shell.execute_reply.started": "2022-06-12T08:27:45.399012Z"
    },
    "pycharm": {
     "name": "#%%\n"
    }
   },
   "outputs": [],
   "source": [
    "# Generating H randomly and then creating fGn-s\n",
    "# %%time\n",
    "# train_data = []\n",
    "\n",
    "\n",
    "# num_test = num_of_train\n",
    "# rand_test = []\n",
    "\n",
    "# for j in range(num_test):\n",
    "#   H = random.uniform(0.01,1.0)\n",
    "  \n",
    "#   f = FBM(n=grid_points, hurst=H, length=1, method='daviesharte')\n",
    "  \n",
    "\n",
    "#   train_data.append((f.fgn(), H))\n"
   ]
  },
  {
   "cell_type": "code",
   "execution_count": 7,
   "id": "ed95719d-f4da-407c-81ff-3b73ffe8cf1f",
   "metadata": {
    "execution": {
     "iopub.execute_input": "2022-06-12T08:27:53.152644Z",
     "iopub.status.busy": "2022-06-12T08:27:53.152378Z",
     "iopub.status.idle": "2022-06-12T08:27:53.156932Z",
     "shell.execute_reply": "2022-06-12T08:27:53.155855Z",
     "shell.execute_reply.started": "2022-06-12T08:27:53.152618Z"
    },
    "pycharm": {
     "name": "#%%\n"
    }
   },
   "outputs": [],
   "source": [
    "# H generated from 0.05 grid, behaves better for training\n",
    "# %%time\n",
    "\n",
    "# train_data = []\n",
    "\n",
    "# for H in np.arange(0.05,1.0,0.05):\n",
    "#   f = FBM(n=grid_points, hurst=H, length=1, method='daviesharte')\n",
    "#   for i in range(500):\n",
    "#     train_data.append((f.fgn(), H))\n",
    "\n",
    "# from random import shuffle\n",
    "# shuffle(train_data)"
   ]
  },
  {
   "cell_type": "code",
   "execution_count": 8,
   "id": "6f896ad3-74d5-42d2-b563-2e40c3ebf318",
   "metadata": {
    "execution": {
     "iopub.execute_input": "2022-06-12T08:28:09.642967Z",
     "iopub.status.busy": "2022-06-12T08:28:09.642703Z",
     "iopub.status.idle": "2022-06-12T08:28:09.700594Z",
     "shell.execute_reply": "2022-06-12T08:28:09.699868Z",
     "shell.execute_reply.started": "2022-06-12T08:28:09.642941Z"
    },
    "pycharm": {
     "name": "#%%\n"
    }
   },
   "outputs": [],
   "source": [
    "# Training data, well behaved H\n",
    "with open('notrandom_regression_train_data_grid128', 'rb') as fp:\n",
    "    train_data = pickle.load(fp)"
   ]
  },
  {
   "cell_type": "code",
   "execution_count": 9,
   "id": "f9b8c151-1787-4f02-b36d-428d2046d732",
   "metadata": {
    "execution": {
     "iopub.execute_input": "2022-06-12T08:28:20.884423Z",
     "iopub.status.busy": "2022-06-12T08:28:20.884133Z",
     "iopub.status.idle": "2022-06-12T08:28:21.107396Z",
     "shell.execute_reply": "2022-06-12T08:28:21.106532Z",
     "shell.execute_reply.started": "2022-06-12T08:28:20.884391Z"
    },
    "pycharm": {
     "name": "#%%\n"
    }
   },
   "outputs": [],
   "source": [
    "# Testing data, random H\n",
    "with open ('regression_train_data_grid128', 'rb') as fp:\n",
    "    save = pickle.load(fp)"
   ]
  },
  {
   "cell_type": "code",
   "execution_count": 32,
   "id": "ebdfe054-a0e3-435f-844a-ce71a45749be",
   "metadata": {
    "execution": {
     "iopub.execute_input": "2022-06-12T08:42:08.029958Z",
     "iopub.status.busy": "2022-06-12T08:42:08.029682Z",
     "iopub.status.idle": "2022-06-12T08:42:08.036069Z",
     "shell.execute_reply": "2022-06-12T08:42:08.035106Z",
     "shell.execute_reply.started": "2022-06-12T08:42:08.029932Z"
    },
    "pycharm": {
     "name": "#%%\n"
    }
   },
   "outputs": [],
   "source": [
    "test_loader = torch.utils.data.DataLoader(save[:50000], batch_size=batch, shuffle=False)\n",
    "train_loader = torch.utils.data.DataLoader(train_data, batch_size=batch, shuffle=True)"
   ]
  },
  {
   "cell_type": "code",
   "execution_count": 13,
   "id": "f9d5e7d5-6829-45f5-a4ff-9df2390323a3",
   "metadata": {
    "execution": {
     "iopub.execute_input": "2022-06-12T08:30:08.686147Z",
     "iopub.status.busy": "2022-06-12T08:30:08.685271Z",
     "iopub.status.idle": "2022-06-12T08:30:08.693241Z",
     "shell.execute_reply": "2022-06-12T08:30:08.692452Z",
     "shell.execute_reply.started": "2022-06-12T08:30:08.686107Z"
    },
    "pycharm": {
     "name": "#%%\n"
    }
   },
   "outputs": [],
   "source": [
    "p=0.4\n",
    "class CNN_simplistic(nn.Module):\n",
    "    def __init__(self):\n",
    "        super().__init__()\n",
    "        self.fc1 = nn.Linear(grid_points, 256)\n",
    "        self.fc2 = nn.Linear(256, 190)\n",
    "        self.fc3 = nn.Linear(190, 190)\n",
    "        self.fc4 = nn.Linear(190, 1)\n",
    "        self.dropout = nn.Dropout(p)\n",
    "\n",
    "    def forward(self, x):\n",
    "\n",
    "        x = self.fc1(x)\n",
    "        x = F.relu(x)\n",
    "        \n",
    "        #fc layer 2\n",
    "        x = self.fc2(x)\n",
    "        x = F.relu(x)\n",
    "\n",
    "        #fc layer 3\n",
    "        x = self.fc3(x)\n",
    "        x = F.relu(x)\n",
    "\n",
    "        x=self.fc4(x)\n",
    "        \n",
    "        return x"
   ]
  },
  {
   "cell_type": "code",
   "execution_count": 23,
   "id": "0e3a4e78-273f-49a7-ad76-e3f01728ee47",
   "metadata": {
    "execution": {
     "iopub.execute_input": "2022-06-12T08:35:04.448759Z",
     "iopub.status.busy": "2022-06-12T08:35:04.448464Z",
     "iopub.status.idle": "2022-06-12T08:37:18.597385Z",
     "shell.execute_reply": "2022-06-12T08:37:18.596759Z",
     "shell.execute_reply.started": "2022-06-12T08:35:04.448733Z"
    },
    "pycharm": {
     "name": "#%%\n"
    }
   },
   "outputs": [
    {
     "data": {
      "application/vnd.jupyter.widget-view+json": {
       "model_id": "975b337cccbc4c6395feb389d2bb668b",
       "version_major": 2,
       "version_minor": 0
      },
      "text/plain": [
       "  0%|          | 0/5 [00:00<?, ?it/s]"
      ]
     },
     "metadata": {},
     "output_type": "display_data"
    },
    {
     "data": {
      "application/vnd.jupyter.widget-view+json": {
       "model_id": "3a720e5f0cdb43f98854f0c01cf8f28b",
       "version_major": 2,
       "version_minor": 0
      },
      "text/plain": [
       "  0%|          | 0/9500 [00:00<?, ?it/s]"
      ]
     },
     "metadata": {},
     "output_type": "display_data"
    },
    {
     "data": {
      "application/vnd.jupyter.widget-view+json": {
       "model_id": "1713896aaa554490bd80f3c0c56307c3",
       "version_major": 2,
       "version_minor": 0
      },
      "text/plain": [
       "  0%|          | 0/9500 [00:00<?, ?it/s]"
      ]
     },
     "metadata": {},
     "output_type": "display_data"
    },
    {
     "data": {
      "application/vnd.jupyter.widget-view+json": {
       "model_id": "885d349f6eca42cfb790ab606306de2e",
       "version_major": 2,
       "version_minor": 0
      },
      "text/plain": [
       "  0%|          | 0/9500 [00:00<?, ?it/s]"
      ]
     },
     "metadata": {},
     "output_type": "display_data"
    },
    {
     "data": {
      "application/vnd.jupyter.widget-view+json": {
       "model_id": "a160cf387b73493a9664259c86f9f6c7",
       "version_major": 2,
       "version_minor": 0
      },
      "text/plain": [
       "  0%|          | 0/9500 [00:00<?, ?it/s]"
      ]
     },
     "metadata": {},
     "output_type": "display_data"
    },
    {
     "data": {
      "application/vnd.jupyter.widget-view+json": {
       "model_id": "92d9614b1bb7417c99ba2861c54dd339",
       "version_major": 2,
       "version_minor": 0
      },
      "text/plain": [
       "  0%|          | 0/9500 [00:00<?, ?it/s]"
      ]
     },
     "metadata": {},
     "output_type": "display_data"
    }
   ],
   "source": [
    "from torchvision import datasets, transforms\n",
    "from tqdm.notebook import tqdm, trange\n",
    "\n",
    "## Training\n",
    "# Instantiate model  \n",
    "model_simp = CNN_simplistic().double().to(device) \n",
    "\n",
    "\n",
    "# model = MNIST_CNN().to(device) \n",
    "\n",
    "# Loss and Optimizer\n",
    "base_optimizer = torch.optim.SGD\n",
    "optimizer = torch.optim.Adam(model_simp.parameters(), lr=0.001)\n",
    "criterion = nn.L1Loss()\n",
    "\n",
    "\n",
    "\n",
    "\n",
    "# Iterate through train set minibatchs \n",
    "for epoch in trange(5):  \n",
    "    for images, labels in tqdm(train_loader):\n",
    "        images = images[:,None,:].to(device)\n",
    "        labels = labels.to(device)\n",
    "        # Zero out the gradients\n",
    "        optimizer.zero_grad()\n",
    "\n",
    "        # ADAM\n",
    "        # Forward pass\n",
    "        x = images\n",
    "        y = model_simp(x)\n",
    "        loss = criterion(torch.squeeze(y), torch.squeeze(labels))\n",
    "\n",
    "\n",
    "        \n",
    "        # Backward pass\n",
    "        loss.backward()\n",
    "        optimizer.step()"
   ]
  },
  {
   "cell_type": "code",
   "execution_count": 33,
   "id": "eb0fd1c9-b54e-4df7-bacc-d86cb73c0368",
   "metadata": {
    "execution": {
     "iopub.execute_input": "2022-06-12T08:42:11.873989Z",
     "iopub.status.busy": "2022-06-12T08:42:11.873624Z",
     "iopub.status.idle": "2022-06-12T08:42:43.364111Z",
     "shell.execute_reply": "2022-06-12T08:42:43.363287Z",
     "shell.execute_reply.started": "2022-06-12T08:42:11.873961Z"
    },
    "pycharm": {
     "name": "#%%\n"
    }
   },
   "outputs": [
    {
     "data": {
      "application/vnd.jupyter.widget-view+json": {
       "model_id": "46c8e7092b0c45258ebf24f44f45866d",
       "version_major": 2,
       "version_minor": 0
      },
      "text/plain": [
       "  0%|          | 0/50000 [00:00<?, ?it/s]"
      ]
     },
     "metadata": {},
     "output_type": "display_data"
    },
    {
     "name": "stdout",
     "output_type": "stream",
     "text": [
      "Accuracy: 0.9193999767303467\n"
     ]
    }
   ],
   "source": [
    "## Testing\n",
    "allowed_error = 0.04\n",
    "norm = 0\n",
    "total = num_of_train*2//10\n",
    "counter = 0\n",
    "correct=0\n",
    "\n",
    "with torch.no_grad():\n",
    "    # Iterate through test set minibatchs \n",
    "    for images, labels in tqdm(test_loader):\n",
    "\n",
    "        counter += 1\n",
    "\n",
    "        images = images[:,None,:].to(device)\n",
    "        labels = labels.to(device)\n",
    "\n",
    "        # Forward pass\n",
    "        x = images  \n",
    "        y = model_simp(x)\n",
    "        # print(torch.abs(labels-y))\n",
    "        correct += torch.sum((abs(labels-y)<allowed_error).float())\n",
    "\n",
    "print('Accuracy: {}'.format(correct/batch/counter))"
   ]
  },
  {
   "cell_type": "code",
   "execution_count": 35,
   "id": "abf9db70-3979-405b-9cbd-134e31624ce9",
   "metadata": {
    "execution": {
     "iopub.execute_input": "2022-06-12T08:51:30.750685Z",
     "iopub.status.busy": "2022-06-12T08:51:30.750391Z",
     "iopub.status.idle": "2022-06-12T08:51:30.767250Z",
     "shell.execute_reply": "2022-06-12T08:51:30.766453Z",
     "shell.execute_reply.started": "2022-06-12T08:51:30.750660Z"
    },
    "pycharm": {
     "name": "#%%\n"
    }
   },
   "outputs": [
    {
     "data": {
      "text/plain": [
       "tensor([[0.6688]], device='cuda:0', dtype=torch.float64,\n",
       "       grad_fn=<AddmmBackward0>)"
      ]
     },
     "execution_count": 35,
     "metadata": {},
     "output_type": "execute_result"
    }
   ],
   "source": [
    "\n",
    "f = FBM(n=grid_points, hurst=0.675, length=1, method='daviesharte')\n",
    "g =f.fgn()\n",
    "\n",
    "t = torch.tensor((g))[None,:].to(device)\n",
    "model_simp(t)"
   ]
  },
  {
   "cell_type": "code",
   "execution_count": null,
   "id": "171a72ae-8f31-48c1-b9fa-7c8d9f8f40d5",
   "metadata": {
    "pycharm": {
     "name": "#%%\n"
    }
   },
   "outputs": [],
   "source": []
  }
 ],
 "metadata": {
  "kernelspec": {
   "display_name": "Python 3 (ipykernel)",
   "language": "python",
   "name": "python3"
  },
  "language_info": {
   "codemirror_mode": {
    "name": "ipython",
    "version": 3
   },
   "file_extension": ".py",
   "mimetype": "text/x-python",
   "name": "python",
   "nbconvert_exporter": "python",
   "pygments_lexer": "ipython3",
   "version": "3.8.12"
  }
 },
 "nbformat": 4,
 "nbformat_minor": 5
}