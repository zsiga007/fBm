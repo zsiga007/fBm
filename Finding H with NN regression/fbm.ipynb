{
 "cells": [
  {
   "cell_type": "code",
   "execution_count": 1,
   "metadata": {
    "execution": {
     "iopub.execute_input": "2022-06-12T08:25:34.111559Z",
     "iopub.status.busy": "2022-06-12T08:25:34.110843Z",
     "iopub.status.idle": "2022-06-12T08:25:36.785243Z",
     "shell.execute_reply": "2022-06-12T08:25:36.784356Z",
     "shell.execute_reply.started": "2022-06-12T08:25:34.111439Z"
    },
    "pycharm": {
     "name": "#%%\n"
    }
   },
   "outputs": [],
   "source": [
    "import numpy as np\n",
    "import torch\n",
    "import pickle\n",
    "import torch.nn as nn\n",
    "import torch.nn.functional as F\n",
    "from torchvision import datasets, transforms\n",
    "from tqdm.notebook import tqdm\n",
    "\n",
    "from torch.utils.data import Dataset, DataLoader\n",
    "import random\n",
    "from hurst import compute_Hc, random_walk\n",
    "import matplotlib.pyplot as plt"
   ]
  },
  {
   "cell_type": "code",
   "execution_count": 2,
   "metadata": {
    "execution": {
     "iopub.execute_input": "2022-06-12T08:25:44.875381Z",
     "iopub.status.busy": "2022-06-12T08:25:44.875095Z",
     "iopub.status.idle": "2022-06-12T08:25:44.903326Z",
     "shell.execute_reply": "2022-06-12T08:25:44.900495Z",
     "shell.execute_reply.started": "2022-06-12T08:25:44.875357Z"
    },
    "pycharm": {
     "name": "#%%\n"
    }
   },
   "outputs": [
    {
     "name": "stdout",
     "output_type": "stream",
     "text": [
      "Yor device is: cpu\n"
     ]
    }
   ],
   "source": [
    "# For better performance GPU is recommended\n",
    "\n",
    "device = \"cuda\" if torch.cuda.is_available() else \"cpu\"\n",
    "print(f'Yor device is: {device}')"
   ]
  },
  {
   "cell_type": "code",
   "execution_count": 43,
   "metadata": {},
   "outputs": [],
   "source": [
    "# Useful fns\n",
    "\n",
    "def diffnormaliser(array):\n",
    "    \"\"\"\n",
    "    Takes in np array takes increment series and normalises it.\n",
    "    \"\"\"\n",
    "    diff = np.diff(array)\n",
    "    return diff/np.average(np.abs(diff))\n",
    "\n",
    "def totensor(array):\n",
    "    \"\"\"\n",
    "    converts to tensor and puts array to device\n",
    "    \"\"\"\n",
    "    return torch.tensor(array)[None,:].to(device)"
   ]
  },
  {
   "cell_type": "code",
   "execution_count": 3,
   "metadata": {
    "execution": {
     "iopub.execute_input": "2022-06-12T08:26:00.759530Z",
     "iopub.status.busy": "2022-06-12T08:26:00.759256Z",
     "iopub.status.idle": "2022-06-12T08:26:00.769286Z",
     "shell.execute_reply": "2022-06-12T08:26:00.768249Z",
     "shell.execute_reply.started": "2022-06-12T08:26:00.759501Z"
    },
    "pycharm": {
     "name": "#%%\n"
    }
   },
   "outputs": [],
   "source": [
    "from fbm import FBM"
   ]
  },
  {
   "cell_type": "code",
   "execution_count": 4,
   "metadata": {
    "execution": {
     "iopub.execute_input": "2022-06-12T08:26:26.056991Z",
     "iopub.status.busy": "2022-06-12T08:26:26.056644Z",
     "iopub.status.idle": "2022-06-12T08:26:26.061580Z",
     "shell.execute_reply": "2022-06-12T08:26:26.060764Z",
     "shell.execute_reply.started": "2022-06-12T08:26:26.056929Z"
    },
    "pycharm": {
     "name": "#%%\n"
    }
   },
   "outputs": [],
   "source": [
    "grid_points = 128\n",
    "num_of_train = 40000\n",
    "num_of_test = 10000\n",
    "batch = 100\n",
    "epochs = 10\n",
    "\n",
    "normalised = True\n",
    "# If set to False, it is a neural net without conv. layer\n",
    "CNN = True\n"
   ]
  },
  {
   "cell_type": "code",
   "execution_count": 5,
   "metadata": {
    "execution": {
     "iopub.execute_input": "2022-06-12T08:27:45.399041Z",
     "iopub.status.busy": "2022-06-12T08:27:45.398727Z",
     "iopub.status.idle": "2022-06-12T08:27:45.404543Z",
     "shell.execute_reply": "2022-06-12T08:27:45.403159Z",
     "shell.execute_reply.started": "2022-06-12T08:27:45.399012Z"
    },
    "pycharm": {
     "name": "#%%\n"
    }
   },
   "outputs": [],
   "source": [
    "# Generating H randomly and then creating fGn-s, the file is created using these commented codes\n",
    "# %%time\n",
    "# train_data = []\n",
    "\n",
    "\n",
    "# num_test = num_of_train\n",
    "# rand_test = []\n",
    "\n",
    "# for j in range(num_test):\n",
    "#   H = random.uniform(0.01,1.0)\n",
    "  \n",
    "#   f = FBM(n=grid_points, hurst=H, length=1, method='daviesharte')\n",
    "  \n",
    "\n",
    "#   train_data.append((f.fgn(), H))\n"
   ]
  },
  {
   "cell_type": "code",
   "execution_count": 6,
   "metadata": {
    "execution": {
     "iopub.execute_input": "2022-06-12T08:27:53.152644Z",
     "iopub.status.busy": "2022-06-12T08:27:53.152378Z",
     "iopub.status.idle": "2022-06-12T08:27:53.156932Z",
     "shell.execute_reply": "2022-06-12T08:27:53.155855Z",
     "shell.execute_reply.started": "2022-06-12T08:27:53.152618Z"
    },
    "pycharm": {
     "name": "#%%\n"
    }
   },
   "outputs": [],
   "source": [
    "# H generated from 0.05 grid\n",
    "# %%time\n",
    "\n",
    "# train_data = []\n",
    "\n",
    "# for H in np.arange(0.05,1.0,0.05):\n",
    "#   f = FBM(n=grid_points, hurst=H, length=1, method='daviesharte')\n",
    "#   for i in range(500):\n",
    "#     train_data.append((f.fgn(), H))\n",
    "\n",
    "# from random import shuffle\n",
    "# shuffle(train_data)"
   ]
  },
  {
   "cell_type": "code",
   "execution_count": 7,
   "metadata": {
    "execution": {
     "iopub.execute_input": "2022-06-12T08:28:09.642967Z",
     "iopub.status.busy": "2022-06-12T08:28:09.642703Z",
     "iopub.status.idle": "2022-06-12T08:28:09.700594Z",
     "shell.execute_reply": "2022-06-12T08:28:09.699868Z",
     "shell.execute_reply.started": "2022-06-12T08:28:09.642941Z"
    },
    "pycharm": {
     "name": "#%%\n"
    }
   },
   "outputs": [],
   "source": [
    "# # Training data containing data where H is taken from discrete grid\n",
    "# with open('notrandom_regression_train_data_grid128', 'rb') as fp:\n",
    "#     train_data = pickle.load(fp)"
   ]
  },
  {
   "cell_type": "code",
   "execution_count": 39,
   "metadata": {},
   "outputs": [],
   "source": []
  },
  {
   "cell_type": "code",
   "execution_count": 8,
   "metadata": {},
   "outputs": [],
   "source": [
    "# Opening the file containing the data\n",
    "with open('regression_train_data_grid128', 'rb') as fp:\n",
    "    train_data = pickle.load(fp)[:num_of_train]"
   ]
  },
  {
   "cell_type": "code",
   "execution_count": 9,
   "metadata": {},
   "outputs": [],
   "source": [
    "if normalised:\n",
    "    normalised_train_data = []\n",
    "    for tup in train_data:\n",
    "        \n",
    "        normalised_train_data.append([tup[0][:grid_points]/np.average(np.abs(tup[0][:grid_points])),tup[1]])\n",
    "        \n",
    "    train_data = normalised_train_data"
   ]
  },
  {
   "cell_type": "code",
   "execution_count": 10,
   "metadata": {
    "execution": {
     "iopub.execute_input": "2022-06-12T08:28:20.884423Z",
     "iopub.status.busy": "2022-06-12T08:28:20.884133Z",
     "iopub.status.idle": "2022-06-12T08:28:21.107396Z",
     "shell.execute_reply": "2022-06-12T08:28:21.106532Z",
     "shell.execute_reply.started": "2022-06-12T08:28:20.884391Z"
    },
    "pycharm": {
     "name": "#%%\n"
    }
   },
   "outputs": [],
   "source": [
    "# Testing data, random H\n",
    "with open ('regression_train_data_grid128', 'rb') as fp:\n",
    "    save = pickle.load(fp)[num_of_train:]"
   ]
  },
  {
   "cell_type": "code",
   "execution_count": 11,
   "metadata": {},
   "outputs": [],
   "source": [
    "if normalised:\n",
    "    normalised_save_data = []\n",
    "    for tup in save:\n",
    "        normalised_save_data.append([tup[0][:grid_points]/np.average(np.abs(tup[0][:grid_points])),tup[1]])\n",
    "    save = normalised_save_data"
   ]
  },
  {
   "cell_type": "code",
   "execution_count": 12,
   "metadata": {
    "execution": {
     "iopub.execute_input": "2022-06-12T08:42:08.029958Z",
     "iopub.status.busy": "2022-06-12T08:42:08.029682Z",
     "iopub.status.idle": "2022-06-12T08:42:08.036069Z",
     "shell.execute_reply": "2022-06-12T08:42:08.035106Z",
     "shell.execute_reply.started": "2022-06-12T08:42:08.029932Z"
    },
    "pycharm": {
     "name": "#%%\n"
    }
   },
   "outputs": [],
   "source": [
    "train_loader = torch.utils.data.DataLoader(train_data, batch_size=batch, shuffle=True)\n",
    "test_loader = torch.utils.data.DataLoader(save, batch_size=batch, shuffle=False)"
   ]
  },
  {
   "cell_type": "code",
   "execution_count": 13,
   "metadata": {
    "execution": {
     "iopub.execute_input": "2022-06-12T08:30:08.686147Z",
     "iopub.status.busy": "2022-06-12T08:30:08.685271Z",
     "iopub.status.idle": "2022-06-12T08:30:08.693241Z",
     "shell.execute_reply": "2022-06-12T08:30:08.692452Z",
     "shell.execute_reply.started": "2022-06-12T08:30:08.686107Z"
    },
    "pycharm": {
     "name": "#%%\n"
    }
   },
   "outputs": [],
   "source": [
    "if not CNN:\n",
    "    class CNN_simplistic(nn.Module):\n",
    "        def __init__(self):\n",
    "            super().__init__()\n",
    "\n",
    "\n",
    "\n",
    "            self.fc1 = nn.Linear(grid_points, 256)\n",
    "            self.fc2 = nn.Linear(256, 190)\n",
    "            self.fc3 = nn.Linear(190, 190)\n",
    "            self.fc4 = nn.Linear(190, 1)\n",
    "            \n",
    "\n",
    "        def forward(self, x):\n",
    "\n",
    "            x = self.fc1(x)\n",
    "            x = F.relu(x)\n",
    "\n",
    "            #fc layer 2\n",
    "            x = self.fc2(x)\n",
    "            x = F.relu(x)\n",
    "\n",
    "            #fc layer 3\n",
    "            x = self.fc3(x)\n",
    "            x = F.relu(x)\n",
    "\n",
    "            x=self.fc4(x)\n",
    "\n",
    "            return x"
   ]
  },
  {
   "cell_type": "code",
   "execution_count": 14,
   "metadata": {},
   "outputs": [],
   "source": [
    "if CNN:\n",
    "    p=0.2\n",
    "    class CNN_simplistic(nn.Module):\n",
    "        def __init__(self):\n",
    "            super().__init__()\n",
    "            self.conv1 = nn.Conv1d(1, 32, padding = 'same', kernel_size = 11)\n",
    "            self.conv2 = nn.Conv1d(32, 32, padding = 'same',kernel_size = 11)\n",
    "            self.conv3 = nn.Conv1d(32, 64, padding = 'same',kernel_size = 11)\n",
    "            self.conv4 = nn.Conv1d(64, 64, padding = 'same',kernel_size = 11)\n",
    "\n",
    "            self.fc1 = nn.Linear(grid_points*64//(4*4*2*2), 256)\n",
    "            self.fc2 = nn.Linear(256, 190)\n",
    "            self.fc3 = nn.Linear(190, 100)\n",
    "            self.fc4 = nn.Linear(100, 1)\n",
    "            self.dropout = nn.Dropout(p)\n",
    "\n",
    "        def forward(self, x):\n",
    "\n",
    "            x = self.conv1(x)\n",
    "            x = F.relu(x)\n",
    "            x = F.max_pool1d(x,kernel_size = 4)\n",
    "\n",
    "            x = self.dropout(self.conv2(x))\n",
    "            x = F.relu(x)\n",
    "            x = F.max_pool1d(x,kernel_size = 4)\n",
    "\n",
    "\n",
    "            x = self.conv3(x)\n",
    "            x = F.relu(x)\n",
    "            x = F.max_pool1d(x,kernel_size = 2)\n",
    "\n",
    "            x = self.dropout(self.conv4(x))\n",
    "            x = F.relu(x)\n",
    "            x = F.avg_pool1d(x,kernel_size = 2)\n",
    "\n",
    "\n",
    "            x = x.view(-1,grid_points*64//(4*4*2*2))\n",
    "            x = self.fc1(x)\n",
    "            x = F.relu(x)\n",
    "\n",
    "            #fc layer 2\n",
    "            x = self.fc2(x)\n",
    "            x = F.relu(x)\n",
    "\n",
    "            #fc layer 3\n",
    "            x = self.fc3(x)\n",
    "            x = F.relu(x)\n",
    "\n",
    "            x=self.fc4(x)\n",
    "\n",
    "            return x"
   ]
  },
  {
   "cell_type": "code",
   "execution_count": 15,
   "metadata": {
    "execution": {
     "iopub.execute_input": "2022-06-12T08:35:04.448759Z",
     "iopub.status.busy": "2022-06-12T08:35:04.448464Z",
     "iopub.status.idle": "2022-06-12T08:37:18.597385Z",
     "shell.execute_reply": "2022-06-12T08:37:18.596759Z",
     "shell.execute_reply.started": "2022-06-12T08:35:04.448733Z"
    },
    "pycharm": {
     "name": "#%%\n"
    }
   },
   "outputs": [
    {
     "data": {
      "application/vnd.jupyter.widget-view+json": {
       "model_id": "eeef1946fbd44ec48f224e4868889587",
       "version_major": 2,
       "version_minor": 0
      },
      "text/plain": [
       "HBox(children=(FloatProgress(value=0.0, max=10.0), HTML(value='')))"
      ]
     },
     "metadata": {},
     "output_type": "display_data"
    },
    {
     "data": {
      "application/vnd.jupyter.widget-view+json": {
       "model_id": "bd8bea5677214b1f8e07755a3bbe1c23",
       "version_major": 2,
       "version_minor": 0
      },
      "text/plain": [
       "HBox(children=(FloatProgress(value=0.0, max=400.0), HTML(value='')))"
      ]
     },
     "metadata": {},
     "output_type": "display_data"
    },
    {
     "name": "stdout",
     "output_type": "stream",
     "text": [
      "\n"
     ]
    },
    {
     "data": {
      "application/vnd.jupyter.widget-view+json": {
       "model_id": "5b496a34bfce4b3e8c18170d41d8ce98",
       "version_major": 2,
       "version_minor": 0
      },
      "text/plain": [
       "HBox(children=(FloatProgress(value=0.0, max=400.0), HTML(value='')))"
      ]
     },
     "metadata": {},
     "output_type": "display_data"
    },
    {
     "name": "stdout",
     "output_type": "stream",
     "text": [
      "\n"
     ]
    },
    {
     "data": {
      "application/vnd.jupyter.widget-view+json": {
       "model_id": "fc4e105a13934551b309b5d122f6715f",
       "version_major": 2,
       "version_minor": 0
      },
      "text/plain": [
       "HBox(children=(FloatProgress(value=0.0, max=400.0), HTML(value='')))"
      ]
     },
     "metadata": {},
     "output_type": "display_data"
    },
    {
     "name": "stdout",
     "output_type": "stream",
     "text": [
      "\n"
     ]
    },
    {
     "data": {
      "application/vnd.jupyter.widget-view+json": {
       "model_id": "ab0a12ccfcc84168bc3811842f7a034a",
       "version_major": 2,
       "version_minor": 0
      },
      "text/plain": [
       "HBox(children=(FloatProgress(value=0.0, max=400.0), HTML(value='')))"
      ]
     },
     "metadata": {},
     "output_type": "display_data"
    },
    {
     "name": "stdout",
     "output_type": "stream",
     "text": [
      "\n"
     ]
    },
    {
     "data": {
      "application/vnd.jupyter.widget-view+json": {
       "model_id": "e10ba80672a947ac8d5b6095db605ac3",
       "version_major": 2,
       "version_minor": 0
      },
      "text/plain": [
       "HBox(children=(FloatProgress(value=0.0, max=400.0), HTML(value='')))"
      ]
     },
     "metadata": {},
     "output_type": "display_data"
    },
    {
     "name": "stdout",
     "output_type": "stream",
     "text": [
      "\n"
     ]
    },
    {
     "data": {
      "application/vnd.jupyter.widget-view+json": {
       "model_id": "8030fee76f1042a8bf7cb5041ed2f2f2",
       "version_major": 2,
       "version_minor": 0
      },
      "text/plain": [
       "HBox(children=(FloatProgress(value=0.0, max=400.0), HTML(value='')))"
      ]
     },
     "metadata": {},
     "output_type": "display_data"
    },
    {
     "name": "stdout",
     "output_type": "stream",
     "text": [
      "\n"
     ]
    },
    {
     "data": {
      "application/vnd.jupyter.widget-view+json": {
       "model_id": "dbbe1d819c7e40118dc6fcdab4ab6147",
       "version_major": 2,
       "version_minor": 0
      },
      "text/plain": [
       "HBox(children=(FloatProgress(value=0.0, max=400.0), HTML(value='')))"
      ]
     },
     "metadata": {},
     "output_type": "display_data"
    },
    {
     "name": "stdout",
     "output_type": "stream",
     "text": [
      "\n"
     ]
    },
    {
     "data": {
      "application/vnd.jupyter.widget-view+json": {
       "model_id": "f58c47abacf440bc8acce2627a531fac",
       "version_major": 2,
       "version_minor": 0
      },
      "text/plain": [
       "HBox(children=(FloatProgress(value=0.0, max=400.0), HTML(value='')))"
      ]
     },
     "metadata": {},
     "output_type": "display_data"
    },
    {
     "name": "stdout",
     "output_type": "stream",
     "text": [
      "\n"
     ]
    },
    {
     "data": {
      "application/vnd.jupyter.widget-view+json": {
       "model_id": "21d5a9491a50448c8d56a79d34eb1934",
       "version_major": 2,
       "version_minor": 0
      },
      "text/plain": [
       "HBox(children=(FloatProgress(value=0.0, max=400.0), HTML(value='')))"
      ]
     },
     "metadata": {},
     "output_type": "display_data"
    },
    {
     "name": "stdout",
     "output_type": "stream",
     "text": [
      "\n"
     ]
    },
    {
     "data": {
      "application/vnd.jupyter.widget-view+json": {
       "model_id": "28a07bfc4744415e8decc141d183b485",
       "version_major": 2,
       "version_minor": 0
      },
      "text/plain": [
       "HBox(children=(FloatProgress(value=0.0, max=400.0), HTML(value='')))"
      ]
     },
     "metadata": {},
     "output_type": "display_data"
    },
    {
     "name": "stdout",
     "output_type": "stream",
     "text": [
      "\n",
      "\n"
     ]
    }
   ],
   "source": [
    "from torchvision import datasets, transforms\n",
    "from tqdm.notebook import tqdm, trange\n",
    "\n",
    "\n",
    "## Training\n",
    "# Instantiate model  \n",
    "model_simp = CNN_simplistic().double().to(device) \n",
    "\n",
    "\n",
    "\n",
    "# Loss and Optimizer\n",
    "base_optimizer = torch.optim.SGD\n",
    "optimizer = torch.optim.Adam(model_simp.parameters(), lr=0.001)\n",
    "criterion = nn.MSELoss()\n",
    "\n",
    "\n",
    "\n",
    "\n",
    "# Iterate through train set minibatchs \n",
    "for epoch in trange(epochs):  \n",
    "    for images, labels in tqdm(train_loader):\n",
    "        images = images[:,None,:].to(device)\n",
    "        labels = labels.to(device)\n",
    "        # Zero out the gradients\n",
    "        optimizer.zero_grad()\n",
    "\n",
    "        # ADAM\n",
    "        # Forward pass\n",
    "        x = images\n",
    "\n",
    "        y = model_simp(x)\n",
    "\n",
    "        loss = criterion(torch.squeeze(y), torch.squeeze(labels))\n",
    "\n",
    "\n",
    "        \n",
    "        # Backward pass\n",
    "        loss.backward()\n",
    "        optimizer.step()"
   ]
  },
  {
   "cell_type": "code",
   "execution_count": 16,
   "metadata": {},
   "outputs": [],
   "source": [
    "# # Test loader for Hurst package:\n",
    "# from hurst import compute_Hc, random_walk\n",
    "# num = 1000\n",
    "# rand_test = []\n",
    "\n",
    "# for j in range(num):\n",
    "#     H = random.uniform(0.001,1.0)\n",
    "  \n",
    "#     fbm = random_walk(128, proba=H)\n",
    "  \n",
    "\n",
    "#     rand_test.append((np.array(fbm), H))\n",
    "\n",
    "# test_loader = torch.utils.data.DataLoader(rand_test, batch_size=batch, shuffle=False)\n"
   ]
  },
  {
   "cell_type": "code",
   "execution_count": 17,
   "metadata": {},
   "outputs": [
    {
     "name": "stdout",
     "output_type": "stream",
     "text": [
      "Accuracy with threshold 0.01: 15.40999984741211%\n",
      "Accuracy with threshold 0.02: 31.049999237060547%\n",
      "Accuracy with threshold 0.03: 45.029998779296875%\n",
      "Accuracy with threshold 0.04: 57.0099983215332%\n",
      "Accuracy with threshold 0.05: 67.33000183105469%\n",
      "Accuracy with threshold 0.060000000000000005: 74.9800033569336%\n",
      "Accuracy with threshold 0.06999999999999999: 81.38999938964844%\n",
      "Accuracy with threshold 0.08: 86.29000091552734%\n",
      "Accuracy with threshold 0.09: 90.05000305175781%\n"
     ]
    }
   ],
   "source": [
    "## Testing alone\n",
    "for allowed_error in np.arange(0.01,0.1,0.01):\n",
    "    correct = 0\n",
    "    \n",
    "    \n",
    "\n",
    "\n",
    "    with torch.no_grad():\n",
    "        # Iterate through test set minibatchs \n",
    "        for images, labels in test_loader:\n",
    "\n",
    "\n",
    "            images = images[:,None,:].to(device)\n",
    "            labels = labels.to(device)\n",
    "\n",
    "            # Forward pass\n",
    "            x = images  \n",
    "            y = torch.reshape(model_simp(x), (batch,))\n",
    "            \n",
    "            \n",
    "\n",
    "\n",
    "            correct += torch.sum((abs(labels-y)<allowed_error).float())\n",
    "    \n",
    "    print(f'Accuracy with threshold {allowed_error}: {100*correct/num_of_test}%')"
   ]
  },
  {
   "cell_type": "code",
   "execution_count": 18,
   "metadata": {},
   "outputs": [],
   "source": [
    "# # # Testing data, random H, not regularised\n",
    "# with open ('regression_train_data_grid128', 'rb') as fp:\n",
    "#     save = pickle.load(fp)[num_of_train:]\n",
    "# test_loader = torch.utils.data.DataLoader(save, batch_size=batch, shuffle=False)"
   ]
  },
  {
   "cell_type": "code",
   "execution_count": 19,
   "metadata": {
    "execution": {
     "iopub.execute_input": "2022-06-12T08:42:11.873989Z",
     "iopub.status.busy": "2022-06-12T08:42:11.873624Z",
     "iopub.status.idle": "2022-06-12T08:42:43.364111Z",
     "shell.execute_reply": "2022-06-12T08:42:43.363287Z",
     "shell.execute_reply.started": "2022-06-12T08:42:11.873961Z"
    },
    "pycharm": {
     "name": "#%%\n"
    }
   },
   "outputs": [],
   "source": [
    "# ## Testing R/S\n",
    "# for allowed_error in np.arange(0.01,0.1,0.01):\n",
    "# #     correct = 0\n",
    "#     RScorrect = 0\n",
    "    \n",
    "\n",
    "\n",
    "#     with torch.no_grad():\n",
    "#         # Iterate through test set minibatchs \n",
    "#         for images, labels in test_loader:\n",
    "\n",
    "\n",
    "#             images = images[:,None,:].to(device)\n",
    "#             labels = labels.to(device)\n",
    "\n",
    "#             # Forward pass\n",
    "#             x = images  \n",
    "#     #         print(labels)\n",
    "            \n",
    "# #             y = torch.reshape(model_simp(x), (batch,))\n",
    "#             x = x.view(-1,128)\n",
    "#             for i in range(batch):\n",
    "#                 H,_,_ = compute_Hc(x[i], kind='change', simplified=True)\n",
    "#                 if np.abs(H-labels[i])<allowed_error:\n",
    "#                     RScorrect+=1\n",
    "\n",
    "\n",
    "# #             correct += torch.sum((abs(labels-y)<allowed_error).float())\n",
    "    \n",
    "# #     print(f'NN accuracy with threshold {allowed_error}: {100*correct/num_of_test}%')\n",
    "#     print(f'R/S accuracy with threshold {allowed_error}: {100*RScorrect/num_of_test}%')"
   ]
  },
  {
   "cell_type": "code",
   "execution_count": null,
   "metadata": {},
   "outputs": [],
   "source": []
  },
  {
   "cell_type": "code",
   "execution_count": 159,
   "metadata": {
    "execution": {
     "iopub.execute_input": "2022-06-12T08:51:30.750685Z",
     "iopub.status.busy": "2022-06-12T08:51:30.750391Z",
     "iopub.status.idle": "2022-06-12T08:51:30.767250Z",
     "shell.execute_reply": "2022-06-12T08:51:30.766453Z",
     "shell.execute_reply.started": "2022-06-12T08:51:30.750660Z"
    },
    "pycharm": {
     "name": "#%%\n"
    },
    "scrolled": false
   },
   "outputs": [
    {
     "name": "stdout",
     "output_type": "stream",
     "text": [
      "0.8005655618764885\n",
      "0.7528983593420033\n",
      "0.7855051568361132\n",
      "0.8380556295153759\n",
      "0.7721763998202377\n",
      "0.7815074258710549\n",
      "0.7642350804820416\n",
      "0.8779502439918886\n",
      "0.8091133639037518\n",
      "0.8030681471873211\n",
      "0.7972277025638457\n"
     ]
    }
   ],
   "source": [
    "# Individual checking\n",
    "hurst = 0.8\n",
    "a = 0\n",
    "for i in range(10):\n",
    "    f = FBM(n=grid_points, hurst=hurst, length=1, method='daviesharte')\n",
    "    g =f.fgn()\n",
    "    g = g/np.average(np.abs(g))\n",
    "\n",
    "    t = torch.tensor(g)[None,:].to(device)\n",
    "    a += float(model_simp(t))\n",
    "    print(float(model_simp(t)))\n",
    "    \n",
    "print(a/10)"
   ]
  },
  {
   "cell_type": "code",
   "execution_count": 169,
   "metadata": {},
   "outputs": [
    {
     "data": {
      "text/plain": [
       "tensor([[0.3427]], dtype=torch.float64, grad_fn=<AddmmBackward0>)"
      ]
     },
     "execution_count": 169,
     "metadata": {},
     "output_type": "execute_result"
    }
   ],
   "source": [
    "hurst = 0.3\n",
    "f = FBM(n=grid_points, hurst=hurst, length=1, method='daviesharte')\n",
    "g =f.fbm()\n",
    "g = diffnormaliser(g)\n",
    "g = totensor(g)\n",
    "model_simp(g)"
   ]
  },
  {
   "cell_type": "code",
   "execution_count": 160,
   "metadata": {},
   "outputs": [
    {
     "data": {
      "text/plain": [
       "[<matplotlib.lines.Line2D at 0x7fa51819c310>]"
      ]
     },
     "execution_count": 160,
     "metadata": {},
     "output_type": "execute_result"
    },
    {
     "data": {
      "image/png": "[encoded data removed]",
      "text/plain": [
       "<Figure size 432x288 with 1 Axes>"
      ]
     },
     "metadata": {
      "needs_background": "light"
     },
     "output_type": "display_data"
    }
   ],
   "source": [
    "f = FBM(n=grid_points, hurst=hurst, length=1, method='daviesharte')\n",
    "g =f.fgn()\n",
    "g = g/np.average(np.abs(g))\n",
    "plt.plot(np.linspace(0,1,grid_points),g)"
   ]
  },
  {
   "cell_type": "code",
   "execution_count": 161,
   "metadata": {},
   "outputs": [
    {
     "name": "stdout",
     "output_type": "stream",
     "text": [
      "0.6864682874018546\n"
     ]
    }
   ],
   "source": [
    "\n",
    "\n",
    "\n",
    "# Use random_walk() function or generate a random walk series manually:\n",
    "# series = random_walk(99999, cumprod=True)\n",
    "# np.random.seed(42)\n",
    "# random_changes = 1. + np.random.randn(99999) / 1000.\n",
    "# series = np.cumprod(random_changes)  # create a random walk from random changes\n",
    "\n",
    "# Evaluate Hurst equation\n",
    "H, c, data = compute_Hc(g, kind='change', simplified=True)\n",
    "\n",
    "print(H)"
   ]
  },
  {
   "cell_type": "markdown",
   "metadata": {},
   "source": [
    "Predicting with our model on a different type of simulation of fBm"
   ]
  },
  {
   "cell_type": "code",
   "execution_count": 164,
   "metadata": {},
   "outputs": [
    {
     "data": {
      "text/plain": [
       "tensor([[0.3774]], dtype=torch.float64, grad_fn=<AddmmBackward0>)"
      ]
     },
     "execution_count": 164,
     "metadata": {},
     "output_type": "execute_result"
    }
   ],
   "source": [
    "import copy\n",
    "from hurst import compute_Hc, random_walk\n",
    "hurst = 0.3\n",
    "newfbm = random_walk(129, proba=hurst)\n",
    "\n",
    "# H, c, data = compute_Hc(newfbm, kind='random_walk', simplified=True)\n",
    "# print(H)\n",
    "\n",
    "newfbm = np.array(newfbm)\n",
    "lis = diffnormaliser(newfbm)\n",
    "\n",
    "lis = torch.tensor(lis)[None,:].to(device)\n",
    "model_simp(lis)\n"
   ]
  },
  {
   "cell_type": "code",
   "execution_count": 24,
   "metadata": {},
   "outputs": [],
   "source": [
    "# a = 0\n",
    "# for i in range(20):\n",
    "#     newfbm = random_walk(129, proba=hurst)\n",
    "#     newfbm = np.array(newfbm)\n",
    "#     lis = []\n",
    "#     for i in range(128):\n",
    "#         lis.append(newfbm[i+1]-newfbm[i])\n",
    "#     lis  = np.array(lis)\n",
    "#     lis_orig = copy.deepcopy(lis)/np.average(np.abs(lis))\n",
    "#     plt.plot(np.linspace(0,1,128),lis_orig)\n",
    "#     lis = torch.tensor(lis_orig)[None,:].to(device)\n",
    "#     a += float(model_simp(lis))\n",
    "#     print(model_simp(lis))\n",
    "# print()\n",
    "# print(a/20)"
   ]
  },
  {
   "cell_type": "code",
   "execution_count": 25,
   "metadata": {},
   "outputs": [],
   "source": [
    "import pandas as pd"
   ]
  },
  {
   "cell_type": "code",
   "execution_count": 26,
   "metadata": {},
   "outputs": [],
   "source": [
    "import yfinance as yf"
   ]
  },
  {
   "cell_type": "code",
   "execution_count": 27,
   "metadata": {},
   "outputs": [
    {
     "data": {
      "image/png": "[encoded data removed]",
      "text/plain": [
       "<Figure size 432x288 with 1 Axes>"
      ]
     },
     "metadata": {
      "needs_background": "light"
     },
     "output_type": "display_data"
    }
   ],
   "source": [
    "markets = ['AAPL','GOOGL','BTC-USD','BE.BE','GBPEUR=X','TSLA','CL=F']\n",
    "market = markets[-1]\n",
    "spy_df = yf.download(market, \n",
    "\n",
    "                     start=\"2010-01-01\", \n",
    "\n",
    "                     end=\"2020-12-31\", \n",
    "\n",
    "                     progress=False)\n",
    "\n",
    "spy_df[\"Adj Close\"].plot(title=market);"
   ]
  },
  {
   "cell_type": "code",
   "execution_count": 28,
   "metadata": {},
   "outputs": [],
   "source": [
    "# markets = ['AAPL','GOOGL','BTC-USD','BE.BE','GBPEUR=X','TSLA','CL=F']\n",
    "# market = markets[-1]\n",
    "# spy_df = yf.download(market, \n",
    "\n",
    "#                      start=\"2020-01-01\", \n",
    "\n",
    "#                      end=\"2020-07-31\", \n",
    "\n",
    "#                      progress=False)\n",
    "\n",
    "# spy_df[\"Adj Close\"].plot(title=market);"
   ]
  },
  {
   "cell_type": "code",
   "execution_count": 29,
   "metadata": {},
   "outputs": [],
   "source": [
    "# start = 0\n",
    "# values = spy_df[\"Adj Close\"].values\n",
    "\n",
    "# values = np.array(values)\n",
    "# values = values[start:start+grid_points+1]\n",
    "\n",
    "# H, _, _ = compute_Hc(values, kind='random_walk', simplified=True)\n",
    "# print(H)\n",
    "\n",
    "# values = np.diff(values)\n",
    "# values = values/np.average(np.abs(values))\n",
    "# #     plt.plot(values)\n",
    "\n",
    "# values = torch.tensor(values)[None,:].to(device)\n",
    "\n",
    "# print(model_simp(values))"
   ]
  },
  {
   "cell_type": "code",
   "execution_count": 30,
   "metadata": {},
   "outputs": [
    {
     "name": "stdout",
     "output_type": "stream",
     "text": [
      "Minimal H\n",
      "0.31708304855231595\n",
      "456\n",
      "Maximal H and place\n",
      "0.684091491830438\n",
      "2438\n",
      "Average H\n",
      "0.4890092549788413\n"
     ]
    }
   ],
   "source": [
    "# Moving averages\n",
    "sumH = []\n",
    "for start in range(0,len(spy_df[\"Adj Close\"].values)-grid_points):\n",
    "    values = spy_df[\"Adj Close\"].values\n",
    "\n",
    "    values = np.array(values)\n",
    "    values = values[start:start+129]\n",
    "\n",
    "\n",
    "    values = np.diff(values)\n",
    "    values = values/np.average(np.abs(values))\n",
    "\n",
    "\n",
    "    values = torch.tensor(values)[None,:].to(device)\n",
    "    \n",
    "    sumH.append(np.array([float(model_simp(values)),start]))\n",
    "    \n",
    "min_place = np.argmin(np.array(sumH)[:,0])\n",
    "min_H = np.min(np.array(sumH)[:,0])\n",
    "max_place = np.argmax(np.array(sumH)[:,0])\n",
    "max_H = np.max(np.array(sumH)[:,0])\n",
    "\n",
    "print('Minimal H')\n",
    "print(min_H)\n",
    "print(min_place)\n",
    "print('Maximal H and place')\n",
    "print(max_H)\n",
    "print(max_place)\n",
    "print('Average H')\n",
    "print(np.average(np.array(sumH)[:,0]))"
   ]
  },
  {
   "cell_type": "code",
   "execution_count": 31,
   "metadata": {
    "scrolled": true
   },
   "outputs": [
    {
     "data": {
      "image/png": "[encoded data removed]",
      "text/plain": [
       "<Figure size 432x288 with 1 Axes>"
      ]
     },
     "metadata": {
      "needs_background": "light"
     },
     "output_type": "display_data"
    }
   ],
   "source": [
    "spy_df[\"Adj Close\"][min_place:min_place+129].plot(title=market+' at its most volatile part '+f'H={round(min_H,2)}');"
   ]
  },
  {
   "cell_type": "code",
   "execution_count": 32,
   "metadata": {},
   "outputs": [
    {
     "data": {
      "image/png": "[encoded data removed]",
      "text/plain": [
       "<Figure size 432x288 with 1 Axes>"
      ]
     },
     "metadata": {
      "needs_background": "light"
     },
     "output_type": "display_data"
    }
   ],
   "source": [
    "spy_df[\"Adj Close\"][max_place:max_place+129].plot(title=market+' at its most monotonic part '+f'H={round(max_H,2)}');"
   ]
  },
  {
   "cell_type": "code",
   "execution_count": 33,
   "metadata": {
    "scrolled": true
   },
   "outputs": [],
   "source": [
    "# values = torch.tensor(values)[None,:].to(device)\n",
    "# model_simp(values)"
   ]
  },
  {
   "cell_type": "code",
   "execution_count": 34,
   "metadata": {
    "scrolled": true
   },
   "outputs": [],
   "source": [
    "# start = 1\n",
    "# values = spy_df[\"Adj Close\"].values\n",
    "\n",
    "# values = np.array(values)\n",
    "# values = values[0:10*128+1:10]\n",
    "\n",
    "# H, c, data = compute_Hc(values, kind='random_walk', simplified=True)\n",
    "# print(H)\n",
    "\n",
    "# lis = []\n",
    "# for i in range(128):\n",
    "#     lis.append(values[i+1]-values[i])\n",
    "# values = np.array(lis)\n",
    "# values = values/np.average(np.abs(values))\n",
    "# # plt.plot(values)"
   ]
  },
  {
   "cell_type": "code",
   "execution_count": null,
   "metadata": {},
   "outputs": [],
   "source": []
  },
  {
   "cell_type": "code",
   "execution_count": 35,
   "metadata": {},
   "outputs": [],
   "source": [
    "# values = torch.tensor(values)[None,:].to(device)\n",
    "# model_simp(values)"
   ]
  },
  {
   "cell_type": "markdown",
   "metadata": {},
   "source": [
    "1 minute refreshed data"
   ]
  },
  {
   "cell_type": "code",
   "execution_count": 315,
   "metadata": {
    "scrolled": true
   },
   "outputs": [
    {
     "name": "stdout",
     "output_type": "stream",
     "text": [
      "[*********************100%***********************]  1 of 1 completed\n",
      "                                   Open          High           Low  \\\n",
      "Datetime                                                              \n",
      "2022-05-16 00:00:00+00:00  31304.375000  31305.341797  31206.667969   \n",
      "2022-05-16 00:05:00+00:00  31196.410156  31208.248047  31196.410156   \n",
      "2022-05-16 00:10:00+00:00  31178.404297  31178.404297  31171.085938   \n",
      "2022-05-16 00:15:00+00:00  31166.474609  31166.474609  31053.544922   \n",
      "2022-05-16 00:20:00+00:00  31065.480469  31065.480469  31057.628906   \n",
      "...                                 ...           ...           ...   \n",
      "2022-06-14 12:10:00+00:00  22016.080078  22016.080078  21961.013672   \n",
      "2022-06-14 12:15:00+00:00  21972.828125  21979.039062  21911.812500   \n",
      "2022-06-14 12:20:00+00:00  21924.046875  21924.046875  21909.654297   \n",
      "2022-06-14 12:25:00+00:00  21937.105469  21937.105469  21878.166016   \n",
      "2022-06-14 12:30:00+00:00  21872.710938  21872.710938  21872.710938   \n",
      "\n",
      "                                  Close     Adj Close    Volume  \n",
      "Datetime                                                         \n",
      "2022-05-16 00:00:00+00:00  31206.667969  31206.667969         0  \n",
      "2022-05-16 00:05:00+00:00  31197.445312  31197.445312  25253888  \n",
      "2022-05-16 00:10:00+00:00  31171.085938  31171.085938   5310464  \n",
      "2022-05-16 00:15:00+00:00  31053.544922  31053.544922         0  \n",
      "2022-05-16 00:20:00+00:00  31062.005859  31062.005859         0  \n",
      "...                                 ...           ...       ...  \n",
      "2022-06-14 12:10:00+00:00  21961.013672  21961.013672         0  \n",
      "2022-06-14 12:15:00+00:00  21911.812500  21911.812500         0  \n",
      "2022-06-14 12:20:00+00:00  21919.978516  21919.978516   4907008  \n",
      "2022-06-14 12:25:00+00:00  21878.677734  21878.677734   1089536  \n",
      "2022-06-14 12:30:00+00:00  21872.710938  21872.710938         0  \n",
      "\n",
      "[8503 rows x 6 columns]\n",
      "[31304.375      31196.41015625 31178.40429688 ... 21924.046875\n",
      " 21937.10546875 21872.7109375 ]\n"
     ]
    },
    {
     "data": {
      "image/png": "[encoded data removed]",
      "text/plain": [
       "<Figure size 432x288 with 1 Axes>"
      ]
     },
     "metadata": {
      "needs_background": "light"
     },
     "output_type": "display_data"
    }
   ],
   "source": [
    "import pandas as pd\n",
    "\n",
    "\n",
    "# Get the data\n",
    "data = yf.download(tickers=\"BTC-USD\", period=\"30d\", interval=\"5m\")\n",
    "# data = yf.download(\"AAPL\", start=\"2017-01-01\", end=\"2020-04-30\")\n",
    "data['Open'].plot()\n",
    "print(data)\n",
    "\n",
    "# Print the data\n",
    "nparray = np.array(data['Open'])\n",
    "print(nparray)"
   ]
  },
  {
   "cell_type": "code",
   "execution_count": 316,
   "metadata": {
    "scrolled": true
   },
   "outputs": [
    {
     "data": {
      "text/plain": [
       "[<matplotlib.lines.Line2D at 0x7fa54986bc40>]"
      ]
     },
     "execution_count": 316,
     "metadata": {},
     "output_type": "execute_result"
    },
    {
     "data": {
      "image/png": "[encoded data removed]",
      "text/plain": [
       "<Figure size 432x288 with 1 Axes>"
      ]
     },
     "metadata": {
      "needs_background": "light"
     },
     "output_type": "display_data"
    }
   ],
   "source": [
    "start = 0\n",
    "diff = diffnormaliser(nparray[start:start+129])\n",
    "plt.plot(diff)\n"
   ]
  },
  {
   "cell_type": "code",
   "execution_count": 317,
   "metadata": {},
   "outputs": [
    {
     "data": {
      "text/plain": [
       "<matplotlib.axes._subplots.AxesSubplot at 0x7fa530bfee20>"
      ]
     },
     "execution_count": 317,
     "metadata": {},
     "output_type": "execute_result"
    },
    {
     "data": {
      "image/png": "[encoded data removed]",
      "text/plain": [
       "<Figure size 432x288 with 1 Axes>"
      ]
     },
     "metadata": {
      "needs_background": "light"
     },
     "output_type": "display_data"
    }
   ],
   "source": [
    "data['Open'][start:start+129].plot()"
   ]
  },
  {
   "cell_type": "code",
   "execution_count": 318,
   "metadata": {},
   "outputs": [
    {
     "data": {
      "text/plain": [
       "tensor([[0.7093]], dtype=torch.float64, grad_fn=<AddmmBackward0>)"
      ]
     },
     "execution_count": 318,
     "metadata": {},
     "output_type": "execute_result"
    }
   ],
   "source": [
    "diff = totensor(diff)\n",
    "model_simp(diff)"
   ]
  },
  {
   "cell_type": "code",
   "execution_count": 319,
   "metadata": {},
   "outputs": [
    {
     "name": "stdout",
     "output_type": "stream",
     "text": [
      "Minimal H\n",
      "0.37379876618316177\n",
      "4559\n",
      "Maximal H and place\n",
      "0.812039661392103\n",
      "6652\n",
      "Average H\n",
      "0.5922632141712343\n"
     ]
    }
   ],
   "source": [
    "sumH = []\n",
    "\n",
    "for i in range(len(nparray)-129):\n",
    "    \n",
    "    start = i\n",
    "    diff = diffnormaliser(nparray[start:start+129])\n",
    "    \n",
    "    diff = totensor(diff)\n",
    "    sumH.append(np.array([float(model_simp(diff)),start]))\n",
    "    \n",
    "min_place = np.argmin(np.array(sumH)[:,0])\n",
    "min_H = np.min(np.array(sumH)[:,0])\n",
    "max_place = np.argmax(np.array(sumH)[:,0])\n",
    "max_H = np.max(np.array(sumH)[:,0])\n",
    "\n",
    "print('Minimal H')\n",
    "print(min_H)\n",
    "print(min_place)\n",
    "print('Maximal H and place')\n",
    "print(max_H)\n",
    "print(max_place)\n",
    "print('Average H')\n",
    "print(np.average(np.array(sumH)[:,0]))"
   ]
  },
  {
   "cell_type": "code",
   "execution_count": 320,
   "metadata": {},
   "outputs": [
    {
     "data": {
      "image/png": "[encoded data removed]",
      "text/plain": [
       "<Figure size 432x288 with 1 Axes>"
      ]
     },
     "metadata": {
      "needs_background": "light"
     },
     "output_type": "display_data"
    }
   ],
   "source": [
    "data['Open'][min_place:min_place+129].plot(title=market+' at its most volatile part '+f'H={round(min_H,2)}');"
   ]
  },
  {
   "cell_type": "code",
   "execution_count": 321,
   "metadata": {},
   "outputs": [
    {
     "data": {
      "image/png": "[encoded data removed]",
      "text/plain": [
       "<Figure size 432x288 with 1 Axes>"
      ]
     },
     "metadata": {
      "needs_background": "light"
     },
     "output_type": "display_data"
    }
   ],
   "source": [
    "data['Open'][max_place:max_place+129].plot(title=market+' at its most monotone part '+f'H={round(max_H,2)}');\n",
    "\n"
   ]
  },
  {
   "cell_type": "code",
   "execution_count": 322,
   "metadata": {},
   "outputs": [],
   "source": [
    "def transaction(array,stocks,money):\n",
    "    arr = diffnormaliser(array)\n",
    "    arr = totensor(arr)\n",
    "    H = float(model_simp(arr))\n",
    "    if H > 0.65:\n",
    "        if array[-1]-array[-10]>10:\n",
    "            stocks += H\n",
    "            money -= H*array[-1]\n",
    "        elif array[-1]-array[-10] <= 0:\n",
    "            if stocks >= H:\n",
    "                stocks -= H\n",
    "                money += H*array[-1]\n",
    "                \n",
    "    return stocks,money, H"
   ]
  },
  {
   "cell_type": "code",
   "execution_count": 324,
   "metadata": {
    "scrolled": false
   },
   "outputs": [
    {
     "name": "stdout",
     "output_type": "stream",
     "text": [
      "Net before: 406956.875\n",
      "Stocks: 0.007081459926973954, Money: 223912.562215668, Net: -182889.42205833382\n"
     ]
    }
   ],
   "source": [
    "money = 10*nparray[0]\n",
    "stocks = 3\n",
    "net = money + stocks*nparray[0]\n",
    "\n",
    "print(f'Net before: {net}')\n",
    "\n",
    "for time in range(len(nparray)-129):\n",
    "    array = nparray[time:time+129]\n",
    "    stocks, money, H = transaction(array,stocks,money)\n",
    "#     print(H,stocks,money)\n",
    "    \n",
    "print(f'Stocks: {stocks}, Money: {money}, Net: {money + stocks*nparray[-1]-net}')\n"
   ]
  },
  {
   "cell_type": "code",
   "execution_count": null,
   "metadata": {},
   "outputs": [],
   "source": []
  }
 ],
 "metadata": {
  "kernelspec": {
   "display_name": "Python 3",
   "language": "python",
   "name": "python3"
  },
  "language_info": {
   "codemirror_mode": {
    "name": "ipython",
    "version": 3
   },
   "file_extension": ".py",
   "mimetype": "text/x-python",
   "name": "python",
   "nbconvert_exporter": "python",
   "pygments_lexer": "ipython3",
   "version": "3.8.3"
  }
 },
 "nbformat": 4,
 "nbformat_minor": 5
}
