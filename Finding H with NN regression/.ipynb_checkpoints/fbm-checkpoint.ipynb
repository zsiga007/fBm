{
 "cells": [
  {
   "cell_type": "code",
   "execution_count": 1,
   "metadata": {
    "execution": {
     "iopub.execute_input": "2022-06-12T08:25:34.111559Z",
     "iopub.status.busy": "2022-06-12T08:25:34.110843Z",
     "iopub.status.idle": "2022-06-12T08:25:36.785243Z",
     "shell.execute_reply": "2022-06-12T08:25:36.784356Z",
     "shell.execute_reply.started": "2022-06-12T08:25:34.111439Z"
    },
    "pycharm": {
     "name": "#%%\n"
    }
   },
   "outputs": [],
   "source": [
    "import numpy as np\n",
    "import torch\n",
    "import pickle\n",
    "import torch.nn as nn\n",
    "import torch.nn.functional as F\n",
    "from torchvision import datasets, transforms\n",
    "from tqdm.notebook import tqdm\n",
    "\n",
    "from torch.utils.data import Dataset, DataLoader\n",
    "import random\n",
    "from hurst import compute_Hc, random_walk\n",
    "import matplotlib.pyplot as plt"
   ]
  },
  {
   "cell_type": "code",
   "execution_count": 2,
   "metadata": {
    "execution": {
     "iopub.execute_input": "2022-06-12T08:25:44.875381Z",
     "iopub.status.busy": "2022-06-12T08:25:44.875095Z",
     "iopub.status.idle": "2022-06-12T08:25:44.903326Z",
     "shell.execute_reply": "2022-06-12T08:25:44.900495Z",
     "shell.execute_reply.started": "2022-06-12T08:25:44.875357Z"
    },
    "pycharm": {
     "name": "#%%\n"
    }
   },
   "outputs": [
    {
     "name": "stdout",
     "output_type": "stream",
     "text": [
      "Yor device is: cpu\n"
     ]
    }
   ],
   "source": [
    "# For better performance GPU is recommended\n",
    "\n",
    "device = \"cuda\" if torch.cuda.is_available() else \"cpu\"\n",
    "print(f'Yor device is: {device}')"
   ]
  },
  {
   "cell_type": "code",
   "execution_count": 43,
   "metadata": {},
   "outputs": [],
   "source": [
    "# Useful fns\n",
    "\n",
    "def diffnormaliser(array):\n",
    "    \"\"\"\n",
    "    Takes in np array takes increment series and normalises it.\n",
    "    \"\"\"\n",
    "    diff = np.diff(array)\n",
    "    return diff/np.average(np.abs(diff))\n",
    "\n",
    "def totensor(array):\n",
    "    \"\"\"\n",
    "    converts to tensor and puts array to device\n",
    "    \"\"\"\n",
    "    return torch.tensor(array)[None,:].to(device)"
   ]
  },
  {
   "cell_type": "code",
   "execution_count": 3,
   "metadata": {
    "execution": {
     "iopub.execute_input": "2022-06-12T08:26:00.759530Z",
     "iopub.status.busy": "2022-06-12T08:26:00.759256Z",
     "iopub.status.idle": "2022-06-12T08:26:00.769286Z",
     "shell.execute_reply": "2022-06-12T08:26:00.768249Z",
     "shell.execute_reply.started": "2022-06-12T08:26:00.759501Z"
    },
    "pycharm": {
     "name": "#%%\n"
    }
   },
   "outputs": [],
   "source": [
    "from fbm import FBM"
   ]
  },
  {
   "cell_type": "code",
   "execution_count": 4,
   "metadata": {
    "execution": {
     "iopub.execute_input": "2022-06-12T08:26:26.056991Z",
     "iopub.status.busy": "2022-06-12T08:26:26.056644Z",
     "iopub.status.idle": "2022-06-12T08:26:26.061580Z",
     "shell.execute_reply": "2022-06-12T08:26:26.060764Z",
     "shell.execute_reply.started": "2022-06-12T08:26:26.056929Z"
    },
    "pycharm": {
     "name": "#%%\n"
    }
   },
   "outputs": [],
   "source": [
    "grid_points = 128\n",
    "num_of_train = 40000\n",
    "num_of_test = 10000\n",
    "batch = 100\n",
    "epochs = 10\n",
    "\n",
    "normalised = True\n",
    "# If set to False, it is a neural net without conv. layer\n",
    "CNN = True\n"
   ]
  },
  {
   "cell_type": "code",
   "execution_count": 5,
   "metadata": {
    "execution": {
     "iopub.execute_input": "2022-06-12T08:27:45.399041Z",
     "iopub.status.busy": "2022-06-12T08:27:45.398727Z",
     "iopub.status.idle": "2022-06-12T08:27:45.404543Z",
     "shell.execute_reply": "2022-06-12T08:27:45.403159Z",
     "shell.execute_reply.started": "2022-06-12T08:27:45.399012Z"
    },
    "pycharm": {
     "name": "#%%\n"
    }
   },
   "outputs": [],
   "source": [
    "# Generating H randomly and then creating fGn-s, the file is created using these commented codes\n",
    "# %%time\n",
    "# train_data = []\n",
    "\n",
    "\n",
    "# num_test = num_of_train\n",
    "# rand_test = []\n",
    "\n",
    "# for j in range(num_test):\n",
    "#   H = random.uniform(0.01,1.0)\n",
    "  \n",
    "#   f = FBM(n=grid_points, hurst=H, length=1, method='daviesharte')\n",
    "  \n",
    "\n",
    "#   train_data.append((f.fgn(), H))\n"
   ]
  },
  {
   "cell_type": "code",
   "execution_count": 6,
   "metadata": {
    "execution": {
     "iopub.execute_input": "2022-06-12T08:27:53.152644Z",
     "iopub.status.busy": "2022-06-12T08:27:53.152378Z",
     "iopub.status.idle": "2022-06-12T08:27:53.156932Z",
     "shell.execute_reply": "2022-06-12T08:27:53.155855Z",
     "shell.execute_reply.started": "2022-06-12T08:27:53.152618Z"
    },
    "pycharm": {
     "name": "#%%\n"
    }
   },
   "outputs": [],
   "source": [
    "# H generated from 0.05 grid\n",
    "# %%time\n",
    "\n",
    "# train_data = []\n",
    "\n",
    "# for H in np.arange(0.05,1.0,0.05):\n",
    "#   f = FBM(n=grid_points, hurst=H, length=1, method='daviesharte')\n",
    "#   for i in range(500):\n",
    "#     train_data.append((f.fgn(), H))\n",
    "\n",
    "# from random import shuffle\n",
    "# shuffle(train_data)"
   ]
  },
  {
   "cell_type": "code",
   "execution_count": 7,
   "metadata": {
    "execution": {
     "iopub.execute_input": "2022-06-12T08:28:09.642967Z",
     "iopub.status.busy": "2022-06-12T08:28:09.642703Z",
     "iopub.status.idle": "2022-06-12T08:28:09.700594Z",
     "shell.execute_reply": "2022-06-12T08:28:09.699868Z",
     "shell.execute_reply.started": "2022-06-12T08:28:09.642941Z"
    },
    "pycharm": {
     "name": "#%%\n"
    }
   },
   "outputs": [],
   "source": [
    "# # Training data containing data where H is taken from discrete grid\n",
    "# with open('notrandom_regression_train_data_grid128', 'rb') as fp:\n",
    "#     train_data = pickle.load(fp)"
   ]
  },
  {
   "cell_type": "code",
   "execution_count": 39,
   "metadata": {},
   "outputs": [],
   "source": []
  },
  {
   "cell_type": "code",
   "execution_count": 8,
   "metadata": {},
   "outputs": [],
   "source": [
    "# Opening the file containing the data\n",
    "with open('regression_train_data_grid128', 'rb') as fp:\n",
    "    train_data = pickle.load(fp)[:num_of_train]"
   ]
  },
  {
   "cell_type": "code",
   "execution_count": 9,
   "metadata": {},
   "outputs": [],
   "source": [
    "if normalised:\n",
    "    normalised_train_data = []\n",
    "    for tup in train_data:\n",
    "        \n",
    "        normalised_train_data.append([tup[0][:grid_points]/np.average(np.abs(tup[0][:grid_points])),tup[1]])\n",
    "        \n",
    "    train_data = normalised_train_data"
   ]
  },
  {
   "cell_type": "code",
   "execution_count": 10,
   "metadata": {
    "execution": {
     "iopub.execute_input": "2022-06-12T08:28:20.884423Z",
     "iopub.status.busy": "2022-06-12T08:28:20.884133Z",
     "iopub.status.idle": "2022-06-12T08:28:21.107396Z",
     "shell.execute_reply": "2022-06-12T08:28:21.106532Z",
     "shell.execute_reply.started": "2022-06-12T08:28:20.884391Z"
    },
    "pycharm": {
     "name": "#%%\n"
    }
   },
   "outputs": [],
   "source": [
    "# Testing data, random H\n",
    "with open ('regression_train_data_grid128', 'rb') as fp:\n",
    "    save = pickle.load(fp)[num_of_train:]"
   ]
  },
  {
   "cell_type": "code",
   "execution_count": 11,
   "metadata": {},
   "outputs": [],
   "source": [
    "if normalised:\n",
    "    normalised_save_data = []\n",
    "    for tup in save:\n",
    "        normalised_save_data.append([tup[0][:grid_points]/np.average(np.abs(tup[0][:grid_points])),tup[1]])\n",
    "    save = normalised_save_data"
   ]
  },
  {
   "cell_type": "code",
   "execution_count": 12,
   "metadata": {
    "execution": {
     "iopub.execute_input": "2022-06-12T08:42:08.029958Z",
     "iopub.status.busy": "2022-06-12T08:42:08.029682Z",
     "iopub.status.idle": "2022-06-12T08:42:08.036069Z",
     "shell.execute_reply": "2022-06-12T08:42:08.035106Z",
     "shell.execute_reply.started": "2022-06-12T08:42:08.029932Z"
    },
    "pycharm": {
     "name": "#%%\n"
    }
   },
   "outputs": [],
   "source": [
    "train_loader = torch.utils.data.DataLoader(train_data, batch_size=batch, shuffle=True)\n",
    "test_loader = torch.utils.data.DataLoader(save, batch_size=batch, shuffle=False)"
   ]
  },
  {
   "cell_type": "code",
   "execution_count": 13,
   "metadata": {
    "execution": {
     "iopub.execute_input": "2022-06-12T08:30:08.686147Z",
     "iopub.status.busy": "2022-06-12T08:30:08.685271Z",
     "iopub.status.idle": "2022-06-12T08:30:08.693241Z",
     "shell.execute_reply": "2022-06-12T08:30:08.692452Z",
     "shell.execute_reply.started": "2022-06-12T08:30:08.686107Z"
    },
    "pycharm": {
     "name": "#%%\n"
    }
   },
   "outputs": [],
   "source": [
    "if not CNN:\n",
    "    class CNN_simplistic(nn.Module):\n",
    "        def __init__(self):\n",
    "            super().__init__()\n",
    "\n",
    "\n",
    "\n",
    "            self.fc1 = nn.Linear(grid_points, 256)\n",
    "            self.fc2 = nn.Linear(256, 190)\n",
    "            self.fc3 = nn.Linear(190, 190)\n",
    "            self.fc4 = nn.Linear(190, 1)\n",
    "            \n",
    "\n",
    "        def forward(self, x):\n",
    "\n",
    "            x = self.fc1(x)\n",
    "            x = F.relu(x)\n",
    "\n",
    "            #fc layer 2\n",
    "            x = self.fc2(x)\n",
    "            x = F.relu(x)\n",
    "\n",
    "            #fc layer 3\n",
    "            x = self.fc3(x)\n",
    "            x = F.relu(x)\n",
    "\n",
    "            x=self.fc4(x)\n",
    "\n",
    "            return x"
   ]
  },
  {
   "cell_type": "code",
   "execution_count": 14,
   "metadata": {},
   "outputs": [],
   "source": [
    "if CNN:\n",
    "    p=0.2\n",
    "    class CNN_simplistic(nn.Module):\n",
    "        def __init__(self):\n",
    "            super().__init__()\n",
    "            self.conv1 = nn.Conv1d(1, 32, padding = 'same', kernel_size = 11)\n",
    "            self.conv2 = nn.Conv1d(32, 32, padding = 'same',kernel_size = 11)\n",
    "            self.conv3 = nn.Conv1d(32, 64, padding = 'same',kernel_size = 11)\n",
    "            self.conv4 = nn.Conv1d(64, 64, padding = 'same',kernel_size = 11)\n",
    "\n",
    "            self.fc1 = nn.Linear(grid_points*64//(4*4*2*2), 256)\n",
    "            self.fc2 = nn.Linear(256, 190)\n",
    "            self.fc3 = nn.Linear(190, 100)\n",
    "            self.fc4 = nn.Linear(100, 1)\n",
    "            self.dropout = nn.Dropout(p)\n",
    "\n",
    "        def forward(self, x):\n",
    "\n",
    "            x = self.conv1(x)\n",
    "            x = F.relu(x)\n",
    "            x = F.max_pool1d(x,kernel_size = 4)\n",
    "\n",
    "            x = self.dropout(self.conv2(x))\n",
    "            x = F.relu(x)\n",
    "            x = F.max_pool1d(x,kernel_size = 4)\n",
    "\n",
    "\n",
    "            x = self.conv3(x)\n",
    "            x = F.relu(x)\n",
    "            x = F.max_pool1d(x,kernel_size = 2)\n",
    "\n",
    "            x = self.dropout(self.conv4(x))\n",
    "            x = F.relu(x)\n",
    "            x = F.avg_pool1d(x,kernel_size = 2)\n",
    "\n",
    "\n",
    "            x = x.view(-1,grid_points*64//(4*4*2*2))\n",
    "            x = self.fc1(x)\n",
    "            x = F.relu(x)\n",
    "\n",
    "            #fc layer 2\n",
    "            x = self.fc2(x)\n",
    "            x = F.relu(x)\n",
    "\n",
    "            #fc layer 3\n",
    "            x = self.fc3(x)\n",
    "            x = F.relu(x)\n",
    "\n",
    "            x=self.fc4(x)\n",
    "\n",
    "            return x"
   ]
  },
  {
   "cell_type": "code",
   "execution_count": 15,
   "metadata": {
    "execution": {
     "iopub.execute_input": "2022-06-12T08:35:04.448759Z",
     "iopub.status.busy": "2022-06-12T08:35:04.448464Z",
     "iopub.status.idle": "2022-06-12T08:37:18.597385Z",
     "shell.execute_reply": "2022-06-12T08:37:18.596759Z",
     "shell.execute_reply.started": "2022-06-12T08:35:04.448733Z"
    },
    "pycharm": {
     "name": "#%%\n"
    }
   },
   "outputs": [
    {
     "data": {
      "application/vnd.jupyter.widget-view+json": {
       "model_id": "eeef1946fbd44ec48f224e4868889587",
       "version_major": 2,
       "version_minor": 0
      },
      "text/plain": [
       "HBox(children=(FloatProgress(value=0.0, max=10.0), HTML(value='')))"
      ]
     },
     "metadata": {},
     "output_type": "display_data"
    },
    {
     "data": {
      "application/vnd.jupyter.widget-view+json": {
       "model_id": "bd8bea5677214b1f8e07755a3bbe1c23",
       "version_major": 2,
       "version_minor": 0
      },
      "text/plain": [
       "HBox(children=(FloatProgress(value=0.0, max=400.0), HTML(value='')))"
      ]
     },
     "metadata": {},
     "output_type": "display_data"
    },
    {
     "name": "stdout",
     "output_type": "stream",
     "text": [
      "\n"
     ]
    },
    {
     "data": {
      "application/vnd.jupyter.widget-view+json": {
       "model_id": "5b496a34bfce4b3e8c18170d41d8ce98",
       "version_major": 2,
       "version_minor": 0
      },
      "text/plain": [
       "HBox(children=(FloatProgress(value=0.0, max=400.0), HTML(value='')))"
      ]
     },
     "metadata": {},
     "output_type": "display_data"
    },
    {
     "name": "stdout",
     "output_type": "stream",
     "text": [
      "\n"
     ]
    },
    {
     "data": {
      "application/vnd.jupyter.widget-view+json": {
       "model_id": "fc4e105a13934551b309b5d122f6715f",
       "version_major": 2,
       "version_minor": 0
      },
      "text/plain": [
       "HBox(children=(FloatProgress(value=0.0, max=400.0), HTML(value='')))"
      ]
     },
     "metadata": {},
     "output_type": "display_data"
    },
    {
     "name": "stdout",
     "output_type": "stream",
     "text": [
      "\n"
     ]
    },
    {
     "data": {
      "application/vnd.jupyter.widget-view+json": {
       "model_id": "ab0a12ccfcc84168bc3811842f7a034a",
       "version_major": 2,
       "version_minor": 0
      },
      "text/plain": [
       "HBox(children=(FloatProgress(value=0.0, max=400.0), HTML(value='')))"
      ]
     },
     "metadata": {},
     "output_type": "display_data"
    },
    {
     "name": "stdout",
     "output_type": "stream",
     "text": [
      "\n"
     ]
    },
    {
     "data": {
      "application/vnd.jupyter.widget-view+json": {
       "model_id": "e10ba80672a947ac8d5b6095db605ac3",
       "version_major": 2,
       "version_minor": 0
      },
      "text/plain": [
       "HBox(children=(FloatProgress(value=0.0, max=400.0), HTML(value='')))"
      ]
     },
     "metadata": {},
     "output_type": "display_data"
    },
    {
     "name": "stdout",
     "output_type": "stream",
     "text": [
      "\n"
     ]
    },
    {
     "data": {
      "application/vnd.jupyter.widget-view+json": {
       "model_id": "8030fee76f1042a8bf7cb5041ed2f2f2",
       "version_major": 2,
       "version_minor": 0
      },
      "text/plain": [
       "HBox(children=(FloatProgress(value=0.0, max=400.0), HTML(value='')))"
      ]
     },
     "metadata": {},
     "output_type": "display_data"
    },
    {
     "name": "stdout",
     "output_type": "stream",
     "text": [
      "\n"
     ]
    },
    {
     "data": {
      "application/vnd.jupyter.widget-view+json": {
       "model_id": "dbbe1d819c7e40118dc6fcdab4ab6147",
       "version_major": 2,
       "version_minor": 0
      },
      "text/plain": [
       "HBox(children=(FloatProgress(value=0.0, max=400.0), HTML(value='')))"
      ]
     },
     "metadata": {},
     "output_type": "display_data"
    },
    {
     "name": "stdout",
     "output_type": "stream",
     "text": [
      "\n"
     ]
    },
    {
     "data": {
      "application/vnd.jupyter.widget-view+json": {
       "model_id": "f58c47abacf440bc8acce2627a531fac",
       "version_major": 2,
       "version_minor": 0
      },
      "text/plain": [
       "HBox(children=(FloatProgress(value=0.0, max=400.0), HTML(value='')))"
      ]
     },
     "metadata": {},
     "output_type": "display_data"
    },
    {
     "name": "stdout",
     "output_type": "stream",
     "text": [
      "\n"
     ]
    },
    {
     "data": {
      "application/vnd.jupyter.widget-view+json": {
       "model_id": "21d5a9491a50448c8d56a79d34eb1934",
       "version_major": 2,
       "version_minor": 0
      },
      "text/plain": [
       "HBox(children=(FloatProgress(value=0.0, max=400.0), HTML(value='')))"
      ]
     },
     "metadata": {},
     "output_type": "display_data"
    },
    {
     "name": "stdout",
     "output_type": "stream",
     "text": [
      "\n"
     ]
    },
    {
     "data": {
      "application/vnd.jupyter.widget-view+json": {
       "model_id": "28a07bfc4744415e8decc141d183b485",
       "version_major": 2,
       "version_minor": 0
      },
      "text/plain": [
       "HBox(children=(FloatProgress(value=0.0, max=400.0), HTML(value='')))"
      ]
     },
     "metadata": {},
     "output_type": "display_data"
    },
    {
     "name": "stdout",
     "output_type": "stream",
     "text": [
      "\n",
      "\n"
     ]
    }
   ],
   "source": [
    "from torchvision import datasets, transforms\n",
    "from tqdm.notebook import tqdm, trange\n",
    "\n",
    "\n",
    "## Training\n",
    "# Instantiate model  \n",
    "model_simp = CNN_simplistic().double().to(device) \n",
    "\n",
    "\n",
    "\n",
    "# Loss and Optimizer\n",
    "base_optimizer = torch.optim.SGD\n",
    "optimizer = torch.optim.Adam(model_simp.parameters(), lr=0.001)\n",
    "criterion = nn.MSELoss()\n",
    "\n",
    "\n",
    "\n",
    "\n",
    "# Iterate through train set minibatchs \n",
    "for epoch in trange(epochs):  \n",
    "    for images, labels in tqdm(train_loader):\n",
    "        images = images[:,None,:].to(device)\n",
    "        labels = labels.to(device)\n",
    "        # Zero out the gradients\n",
    "        optimizer.zero_grad()\n",
    "\n",
    "        # ADAM\n",
    "        # Forward pass\n",
    "        x = images\n",
    "\n",
    "        y = model_simp(x)\n",
    "\n",
    "        loss = criterion(torch.squeeze(y), torch.squeeze(labels))\n",
    "\n",
    "\n",
    "        \n",
    "        # Backward pass\n",
    "        loss.backward()\n",
    "        optimizer.step()"
   ]
  },
  {
   "cell_type": "code",
   "execution_count": 16,
   "metadata": {},
   "outputs": [],
   "source": [
    "# # Test loader for Hurst package:\n",
    "# from hurst import compute_Hc, random_walk\n",
    "# num = 1000\n",
    "# rand_test = []\n",
    "\n",
    "# for j in range(num):\n",
    "#     H = random.uniform(0.001,1.0)\n",
    "  \n",
    "#     fbm = random_walk(128, proba=H)\n",
    "  \n",
    "\n",
    "#     rand_test.append((np.array(fbm), H))\n",
    "\n",
    "# test_loader = torch.utils.data.DataLoader(rand_test, batch_size=batch, shuffle=False)\n"
   ]
  },
  {
   "cell_type": "code",
   "execution_count": 17,
   "metadata": {},
   "outputs": [
    {
     "name": "stdout",
     "output_type": "stream",
     "text": [
      "Accuracy with threshold 0.01: 15.40999984741211%\n",
      "Accuracy with threshold 0.02: 31.049999237060547%\n",
      "Accuracy with threshold 0.03: 45.029998779296875%\n",
      "Accuracy with threshold 0.04: 57.0099983215332%\n",
      "Accuracy with threshold 0.05: 67.33000183105469%\n",
      "Accuracy with threshold 0.060000000000000005: 74.9800033569336%\n",
      "Accuracy with threshold 0.06999999999999999: 81.38999938964844%\n",
      "Accuracy with threshold 0.08: 86.29000091552734%\n",
      "Accuracy with threshold 0.09: 90.05000305175781%\n"
     ]
    }
   ],
   "source": [
    "## Testing alone\n",
    "for allowed_error in np.arange(0.01,0.1,0.01):\n",
    "    correct = 0\n",
    "    \n",
    "    \n",
    "\n",
    "\n",
    "    with torch.no_grad():\n",
    "        # Iterate through test set minibatchs \n",
    "        for images, labels in test_loader:\n",
    "\n",
    "\n",
    "            images = images[:,None,:].to(device)\n",
    "            labels = labels.to(device)\n",
    "\n",
    "            # Forward pass\n",
    "            x = images  \n",
    "            y = torch.reshape(model_simp(x), (batch,))\n",
    "            \n",
    "            \n",
    "\n",
    "\n",
    "            correct += torch.sum((abs(labels-y)<allowed_error).float())\n",
    "    \n",
    "    print(f'Accuracy with threshold {allowed_error}: {100*correct/num_of_test}%')"
   ]
  },
  {
   "cell_type": "code",
   "execution_count": 18,
   "metadata": {},
   "outputs": [],
   "source": [
    "# # # Testing data, random H, not regularised\n",
    "# with open ('regression_train_data_grid128', 'rb') as fp:\n",
    "#     save = pickle.load(fp)[num_of_train:]\n",
    "# test_loader = torch.utils.data.DataLoader(save, batch_size=batch, shuffle=False)"
   ]
  },
  {
   "cell_type": "code",
   "execution_count": 19,
   "metadata": {
    "execution": {
     "iopub.execute_input": "2022-06-12T08:42:11.873989Z",
     "iopub.status.busy": "2022-06-12T08:42:11.873624Z",
     "iopub.status.idle": "2022-06-12T08:42:43.364111Z",
     "shell.execute_reply": "2022-06-12T08:42:43.363287Z",
     "shell.execute_reply.started": "2022-06-12T08:42:11.873961Z"
    },
    "pycharm": {
     "name": "#%%\n"
    }
   },
   "outputs": [],
   "source": [
    "# ## Testing R/S\n",
    "# for allowed_error in np.arange(0.01,0.1,0.01):\n",
    "# #     correct = 0\n",
    "#     RScorrect = 0\n",
    "    \n",
    "\n",
    "\n",
    "#     with torch.no_grad():\n",
    "#         # Iterate through test set minibatchs \n",
    "#         for images, labels in test_loader:\n",
    "\n",
    "\n",
    "#             images = images[:,None,:].to(device)\n",
    "#             labels = labels.to(device)\n",
    "\n",
    "#             # Forward pass\n",
    "#             x = images  \n",
    "#     #         print(labels)\n",
    "            \n",
    "# #             y = torch.reshape(model_simp(x), (batch,))\n",
    "#             x = x.view(-1,128)\n",
    "#             for i in range(batch):\n",
    "#                 H,_,_ = compute_Hc(x[i], kind='change', simplified=True)\n",
    "#                 if np.abs(H-labels[i])<allowed_error:\n",
    "#                     RScorrect+=1\n",
    "\n",
    "\n",
    "# #             correct += torch.sum((abs(labels-y)<allowed_error).float())\n",
    "    \n",
    "# #     print(f'NN accuracy with threshold {allowed_error}: {100*correct/num_of_test}%')\n",
    "#     print(f'R/S accuracy with threshold {allowed_error}: {100*RScorrect/num_of_test}%')"
   ]
  },
  {
   "cell_type": "code",
   "execution_count": null,
   "metadata": {},
   "outputs": [],
   "source": []
  },
  {
   "cell_type": "code",
   "execution_count": 159,
   "metadata": {
    "execution": {
     "iopub.execute_input": "2022-06-12T08:51:30.750685Z",
     "iopub.status.busy": "2022-06-12T08:51:30.750391Z",
     "iopub.status.idle": "2022-06-12T08:51:30.767250Z",
     "shell.execute_reply": "2022-06-12T08:51:30.766453Z",
     "shell.execute_reply.started": "2022-06-12T08:51:30.750660Z"
    },
    "pycharm": {
     "name": "#%%\n"
    },
    "scrolled": false
   },
   "outputs": [
    {
     "name": "stdout",
     "output_type": "stream",
     "text": [
      "0.8005655618764885\n",
      "0.7528983593420033\n",
      "0.7855051568361132\n",
      "0.8380556295153759\n",
      "0.7721763998202377\n",
      "0.7815074258710549\n",
      "0.7642350804820416\n",
      "0.8779502439918886\n",
      "0.8091133639037518\n",
      "0.8030681471873211\n",
      "0.7972277025638457\n"
     ]
    }
   ],
   "source": [
    "# Individual checking\n",
    "hurst = 0.8\n",
    "a = 0\n",
    "for i in range(10):\n",
    "    f = FBM(n=grid_points, hurst=hurst, length=1, method='daviesharte')\n",
    "    g =f.fgn()\n",
    "    g = g/np.average(np.abs(g))\n",
    "\n",
    "    t = torch.tensor(g)[None,:].to(device)\n",
    "    a += float(model_simp(t))\n",
    "    print(float(model_simp(t)))\n",
    "    \n",
    "print(a/10)"
   ]
  },
  {
   "cell_type": "code",
   "execution_count": 169,
   "metadata": {},
   "outputs": [
    {
     "data": {
      "text/plain": [
       "tensor([[0.3427]], dtype=torch.float64, grad_fn=<AddmmBackward0>)"
      ]
     },
     "execution_count": 169,
     "metadata": {},
     "output_type": "execute_result"
    }
   ],
   "source": [
    "hurst = 0.3\n",
    "f = FBM(n=grid_points, hurst=hurst, length=1, method='daviesharte')\n",
    "g =f.fbm()\n",
    "g = diffnormaliser(g)\n",
    "g = totensor(g)\n",
    "model_simp(g)"
   ]
  },
  {
   "cell_type": "code",
   "execution_count": 160,
   "metadata": {},
   "outputs": [
    {
     "data": {
      "text/plain": [
       "[<matplotlib.lines.Line2D at 0x7fa51819c310>]"
      ]
     },
     "execution_count": 160,
     "metadata": {},
     "output_type": "execute_result"
    },
    {
     "data": {
      "image/png": "[encoded data removed]",
      "text/plain": [
       "<Figure size 432x288 with 1 Axes>"
      ]
     },
     "metadata": {
      "needs_background": "light"
     },
     "output_type": "display_data"
    }
   ],
   "source": [
    "f = FBM(n=grid_points, hurst=hurst, length=1, method='daviesharte')\n",
    "g =f.fgn()\n",
    "g = g/np.average(np.abs(g))\n",
    "plt.plot(np.linspace(0,1,grid_points),g)"
   ]
  },
  {
   "cell_type": "code",
   "execution_count": 161,
   "metadata": {},
   "outputs": [
    {
     "name": "stdout",
     "output_type": "stream",
     "text": [
      "0.6864682874018546\n"
     ]
    }
   ],
   "source": [
    "\n",
    "\n",
    "\n",
    "# Use random_walk() function or generate a random walk series manually:\n",
    "# series = random_walk(99999, cumprod=True)\n",
    "# np.random.seed(42)\n",
    "# random_changes = 1. + np.random.randn(99999) / 1000.\n",
    "# series = np.cumprod(random_changes)  # create a random walk from random changes\n",
    "\n",
    "# Evaluate Hurst equation\n",
    "H, c, data = compute_Hc(g, kind='change', simplified=True)\n",
    "\n",
    "print(H)"
   ]
  },
  {
   "cell_type": "markdown",
   "metadata": {},
   "source": [
    "Predicting with our model on a different type of simulation of fBm"
   ]
  },
  {
   "cell_type": "code",
   "execution_count": 164,
   "metadata": {},
   "outputs": [
    {
     "data": {
      "text/plain": [
       "tensor([[0.3774]], dtype=torch.float64, grad_fn=<AddmmBackward0>)"
      ]
     },
     "execution_count": 164,
     "metadata": {},
     "output_type": "execute_result"
    }
   ],
   "source": [
    "import copy\n",
    "from hurst import compute_Hc, random_walk\n",
    "hurst = 0.3\n",
    "newfbm = random_walk(129, proba=hurst)\n",
    "\n",
    "# H, c, data = compute_Hc(newfbm, kind='random_walk', simplified=True)\n",
    "# print(H)\n",
    "\n",
    "newfbm = np.array(newfbm)\n",
    "lis = diffnormaliser(newfbm)\n",
    "\n",
    "lis = torch.tensor(lis)[None,:].to(device)\n",
    "model_simp(lis)\n"
   ]
  },
  {
   "cell_type": "code",
   "execution_count": 24,
   "metadata": {},
   "outputs": [],
   "source": [
    "# a = 0\n",
    "# for i in range(20):\n",
    "#     newfbm = random_walk(129, proba=hurst)\n",
    "#     newfbm = np.array(newfbm)\n",
    "#     lis = []\n",
    "#     for i in range(128):\n",
    "#         lis.append(newfbm[i+1]-newfbm[i])\n",
    "#     lis  = np.array(lis)\n",
    "#     lis_orig = copy.deepcopy(lis)/np.average(np.abs(lis))\n",
    "#     plt.plot(np.linspace(0,1,128),lis_orig)\n",
    "#     lis = torch.tensor(lis_orig)[None,:].to(device)\n",
    "#     a += float(model_simp(lis))\n",
    "#     print(model_simp(lis))\n",
    "# print()\n",
    "# print(a/20)"
   ]
  },
  {
   "cell_type": "code",
   "execution_count": 25,
   "metadata": {},
   "outputs": [],
   "source": [
    "import pandas as pd"
   ]
  },
  {
   "cell_type": "code",
   "execution_count": 26,
   "metadata": {},
   "outputs": [],
   "source": [
    "import yfinance as yf"
   ]
  },
  {
   "cell_type": "code",
   "execution_count": 27,
   "metadata": {},
   "outputs": [
    {
     "data": {
      "image/png": "[encoded data removed]",
      "text/plain": [
       "<Figure size 432x288 with 1 Axes>"
      ]
     },
     "metadata": {
      "needs_background": "light"
     },
     "output_type": "display_data"
    }
   ],
   "source": [
    "markets = ['AAPL','GOOGL','BTC-USD','BE.BE','GBPEUR=X','TSLA','CL=F']\n",
    "market = markets[-1]\n",
    "spy_df = yf.download(market, \n",
    "\n",
    "                     start=\"2010-01-01\", \n",
    "\n",
    "                     end=\"2020-12-31\", \n",
    "\n",
    "                     progress=False)\n",
    "\n",
    "spy_df[\"Adj Close\"].plot(title=market);"
   ]
  },
  {
   "cell_type": "code",
   "execution_count": 28,
   "metadata": {},
   "outputs": [],
   "source": [
    "# markets = ['AAPL','GOOGL','BTC-USD','BE.BE','GBPEUR=X','TSLA','CL=F']\n",
    "# market = markets[-1]\n",
    "# spy_df = yf.download(market, \n",
    "\n",
    "#                      start=\"2020-01-01\", \n",
    "\n",
    "#                      end=\"2020-07-31\", \n",
    "\n",
    "#                      progress=False)\n",
    "\n",
    "# spy_df[\"Adj Close\"].plot(title=market);"
   ]
  },
  {
   "cell_type": "code",
   "execution_count": 29,
   "metadata": {},
   "outputs": [],
   "source": [
    "# start = 0\n",
    "# values = spy_df[\"Adj Close\"].values\n",
    "\n",
    "# values = np.array(values)\n",
    "# values = values[start:start+grid_points+1]\n",
    "\n",
    "# H, _, _ = compute_Hc(values, kind='random_walk', simplified=True)\n",
    "# print(H)\n",
    "\n",
    "# values = np.diff(values)\n",
    "# values = values/np.average(np.abs(values))\n",
    "# #     plt.plot(values)\n",
    "\n",
    "# values = torch.tensor(values)[None,:].to(device)\n",
    "\n",
    "# print(model_simp(values))"
   ]
  },
  {
   "cell_type": "code",
   "execution_count": 30,
   "metadata": {},
   "outputs": [
    {
     "name": "stdout",
     "output_type": "stream",
     "text": [
      "Minimal H\n",
      "0.31708304855231595\n",
      "456\n",
      "Maximal H and place\n",
      "0.684091491830438\n",
      "2438\n",
      "Average H\n",
      "0.4890092549788413\n"
     ]
    }
   ],
   "source": [
    "# Moving averages\n",
    "sumH = []\n",
    "for start in range(0,len(spy_df[\"Adj Close\"].values)-grid_points):\n",
    "    values = spy_df[\"Adj Close\"].values\n",
    "\n",
    "    values = np.array(values)\n",
    "    values = values[start:start+129]\n",
    "\n",
    "\n",
    "    values = np.diff(values)\n",
    "    values = values/np.average(np.abs(values))\n",
    "\n",
    "\n",
    "    values = torch.tensor(values)[None,:].to(device)\n",
    "    \n",
    "    sumH.append(np.array([float(model_simp(values)),start]))\n",
    "    \n",
    "min_place = np.argmin(np.array(sumH)[:,0])\n",
    "min_H = np.min(np.array(sumH)[:,0])\n",
    "max_place = np.argmax(np.array(sumH)[:,0])\n",
    "max_H = np.max(np.array(sumH)[:,0])\n",
    "\n",
    "print('Minimal H')\n",
    "print(min_H)\n",
    "print(min_place)\n",
    "print('Maximal H and place')\n",
    "print(max_H)\n",
    "print(max_place)\n",
    "print('Average H')\n",
    "print(np.average(np.array(sumH)[:,0]))"
   ]
  },
  {
   "cell_type": "code",
   "execution_count": 31,
   "metadata": {
    "scrolled": true
   },
   "outputs": [
    {
     "data": {
      "image/png": "[encoded data removed]",
      "text/plain": [
       "<Figure size 432x288 with 1 Axes>"
      ]
     },
     "metadata": {
      "needs_background": "light"
     },
     "output_type": "display_data"
    }
   ],
   "source": [
    "spy_df[\"Adj Close\"][min_place:min_place+129].plot(title=market+' at its most volatile part '+f'H={round(min_H,2)}');"
   ]
  },
  {
   "cell_type": "code",
   "execution_count": 32,
   "metadata": {},
   "outputs": [
    {
     "data": {
      "image/png": "[encoded data removed]",
      "text/plain": [
       "<Figure size 432x288 with 1 Axes>"
      ]
     },
     "metadata": {
      "needs_background": "light"
     },
     "output_type": "display_data"
    }
   ],
   "source": [
    "spy_df[\"Adj Close\"][max_place:max_place+129].plot(title=market+' at its most monotonic part '+f'H={round(max_H,2)}');"
   ]
  },
  {
   "cell_type": "code",
   "execution_count": 33,
   "metadata": {
    "scrolled": true
   },
   "outputs": [],
   "source": [
    "# values = torch.tensor(values)[None,:].to(device)\n",
    "# model_simp(values)"
   ]
  },
  {
   "cell_type": "code",
   "execution_count": 34,
   "metadata": {
    "scrolled": true
   },
   "outputs": [],
   "source": [
    "# start = 1\n",
    "# values = spy_df[\"Adj Close\"].values\n",
    "\n",
    "# values = np.array(values)\n",
    "# values = values[0:10*128+1:10]\n",
    "\n",
    "# H, c, data = compute_Hc(values, kind='random_walk', simplified=True)\n",
    "# print(H)\n",
    "\n",
    "# lis = []\n",
    "# for i in range(128):\n",
    "#     lis.append(values[i+1]-values[i])\n",
    "# values = np.array(lis)\n",
    "# values = values/np.average(np.abs(values))\n",
    "# # plt.plot(values)"
   ]
  },
  {
   "cell_type": "code",
   "execution_count": null,
   "metadata": {},
   "outputs": [],
   "source": []
  },
  {
   "cell_type": "code",
   "execution_count": 35,
   "metadata": {},
   "outputs": [],
   "source": [
    "# values = torch.tensor(values)[None,:].to(device)\n",
    "# model_simp(values)"
   ]
  },
  {
   "cell_type": "markdown",
   "metadata": {},
   "source": [
    "1 minute refreshed data"
   ]
  },
  {
   "cell_type": "code",
   "execution_count": 143,
   "metadata": {
    "scrolled": true
   },
   "outputs": [
    {
     "name": "stdout",
     "output_type": "stream",
     "text": [
      "[*********************100%***********************]  1 of 1 completed\n",
      "                                  Open         High          Low        Close  \\\n",
      "Datetime                                                                        \n",
      "2022-06-13 09:30:00-04:00  3838.149902  3838.149902  3801.409912  3805.959961   \n",
      "2022-06-13 09:31:00-04:00  3806.139893  3809.770020  3805.530029  3808.639893   \n",
      "2022-06-13 09:32:00-04:00  3809.280029  3811.739990  3808.370117  3811.739990   \n",
      "2022-06-13 09:33:00-04:00  3811.570068  3816.189941  3811.570068  3816.030029   \n",
      "2022-06-13 09:34:00-04:00  3816.209961  3816.209961  3812.780029  3812.919922   \n",
      "...                                ...          ...          ...          ...   \n",
      "2022-06-13 15:56:00-04:00  3751.659912  3755.310059  3749.010010  3749.010010   \n",
      "2022-06-13 15:57:00-04:00  3748.959961  3751.159912  3746.030029  3750.090088   \n",
      "2022-06-13 15:58:00-04:00  3750.459961  3750.889893  3747.250000  3747.580078   \n",
      "2022-06-13 15:59:00-04:00  3747.399902  3752.189941  3746.320068  3750.949951   \n",
      "2022-06-13 16:00:00-04:00  3749.629883  3749.629883  3749.629883  3749.629883   \n",
      "\n",
      "                             Adj Close    Volume  \n",
      "Datetime                                          \n",
      "2022-06-13 09:30:00-04:00  3805.959961         0  \n",
      "2022-06-13 09:31:00-04:00  3808.639893  17423723  \n",
      "2022-06-13 09:32:00-04:00  3811.739990  15476149  \n",
      "2022-06-13 09:33:00-04:00  3816.030029  12557462  \n",
      "2022-06-13 09:34:00-04:00  3812.919922  11175374  \n",
      "...                                ...       ...  \n",
      "2022-06-13 15:56:00-04:00  3749.010010  30073000  \n",
      "2022-06-13 15:57:00-04:00  3750.090088  27834000  \n",
      "2022-06-13 15:58:00-04:00  3747.580078  29757000  \n",
      "2022-06-13 15:59:00-04:00  3750.949951  60052000  \n",
      "2022-06-13 16:00:00-04:00  3749.629883         0  \n",
      "\n",
      "[391 rows x 6 columns]\n",
      "[3838.14990234 3806.13989258 3809.2800293  3811.57006836 3816.20996094\n",
      " 3812.82006836 3808.31005859 3812.5        3815.22998047 3811.63989258\n",
      " 3803.85009766 3799.26000977 3797.60009766 3796.40991211 3803.0300293\n",
      " 3808.27001953 3810.66992188 3809.30004883 3804.30004883 3799.47998047\n",
      " 3799.52001953 3801.5        3802.37988281 3799.69995117 3799.19995117\n",
      " 3799.4699707  3800.10009766 3803.98999023 3801.79003906 3802.11010742\n",
      " 3798.11010742 3803.01000977 3800.62011719 3795.76000977 3794.18994141\n",
      " 3796.48999023 3805.2800293  3801.29003906 3801.63989258 3800.54003906\n",
      " 3797.06005859 3792.63989258 3787.97998047 3787.84008789 3786.07006836\n",
      " 3785.89990234 3782.61010742 3780.72998047 3779.80004883 3774.47998047\n",
      " 3775.98999023 3779.02001953 3778.63989258 3775.94995117 3773.10009766\n",
      " 3771.81005859 3772.37011719 3771.62988281 3771.08007812 3771.\n",
      " 3773.04003906 3773.12011719 3770.82006836 3771.04003906 3774.88989258\n",
      " 3776.23999023 3778.90991211 3777.2199707  3776.82006836 3777.48999023\n",
      " 3775.90991211 3773.75       3773.16992188 3767.16992188 3762.57006836\n",
      " 3763.92993164 3762.37988281 3761.93994141 3759.60009766 3759.05004883\n",
      " 3759.22998047 3757.09008789 3759.31005859 3761.41992188 3763.07006836\n",
      " 3763.14990234 3761.27001953 3761.81005859 3765.94995117 3766.19995117\n",
      " 3762.60009766 3761.12988281 3759.85009766 3762.75       3755.20996094\n",
      " 3754.7199707  3753.66992188 3754.60009766 3752.97998047 3753.39990234\n",
      " 3753.86010742 3750.87011719 3756.82006836 3758.13989258 3759.01000977\n",
      " 3760.16992188 3765.60009766 3766.32006836 3768.59008789 3770.39990234\n",
      " 3773.18994141 3773.7199707  3773.91992188 3775.39990234 3778.2199707\n",
      " 3782.66992188 3781.45996094 3776.97998047 3778.4699707  3775.20996094\n",
      " 3774.9699707  3775.56005859 3772.5300293  3769.01000977 3773.79003906\n",
      " 3775.2800293  3782.16992188 3780.90991211 3779.87011719 3783.2800293\n",
      " 3786.59008789 3789.2199707  3783.82006836 3790.29003906 3792.59008789\n",
      " 3790.54003906 3787.93994141 3785.37011719 3782.2199707  3785.35009766\n",
      " 3786.77001953 3784.56005859 3780.32006836 3779.98999023 3780.27001953\n",
      " 3777.55004883 3778.84008789 3781.31005859 3779.64990234 3783.19995117\n",
      " 3783.98999023 3782.2199707  3781.45996094 3789.42993164 3782.10009766\n",
      " 3783.73999023 3784.81005859 3784.77001953 3782.54003906 3790.26000977\n",
      " 3786.7800293  3790.84008789 3792.37988281 3795.16992188 3791.76000977\n",
      " 3790.39990234 3794.58007812 3789.43994141 3787.58007812 3789.45996094\n",
      " 3790.09008789 3793.5        3792.52001953 3795.02001953 3788.77001953\n",
      " 3789.87011719 3793.51000977 3792.5        3793.7199707  3790.5300293\n",
      " 3791.9699707  3789.33007812 3794.38989258 3794.54003906 3802.27001953\n",
      " 3802.95996094 3806.58007812 3806.52001953 3807.18994141 3812.31005859\n",
      " 3810.86010742 3807.59008789 3802.84008789 3802.7800293  3801.0300293\n",
      " 3796.66992188 3798.37988281 3797.31005859 3794.10009766 3795.36010742\n",
      " 3794.58007812 3794.5300293  3793.54003906 3797.63989258 3793.89990234\n",
      " 3788.76000977 3790.27001953 3786.37011719 3784.81005859 3783.7800293\n",
      " 3782.73999023 3781.70996094 3778.57006836 3779.12988281 3777.85009766\n",
      " 3777.64990234 3775.5        3778.27001953 3777.87011719 3778.87011719\n",
      " 3779.86010742 3778.68994141 3778.81005859 3778.45996094 3776.0300293\n",
      " 3779.36010742 3778.42993164 3779.29003906 3779.17993164 3778.17993164\n",
      " 3779.59008789 3778.61010742 3777.86010742 3777.66992188 3779.56005859\n",
      " 3776.92993164 3777.63989258 3773.02001953 3772.73999023 3773.30004883\n",
      " 3775.87011719 3776.26000977 3777.26000977 3774.86010742 3772.85009766\n",
      " 3771.58007812 3772.73999023 3776.0300293  3773.87011719 3774.12988281\n",
      " 3779.14990234 3780.08007812 3781.25       3787.37988281 3788.83007812\n",
      " 3791.23999023 3791.31005859 3793.97998047 3796.06005859 3796.91992188\n",
      " 3798.52001953 3797.12011719 3796.54003906 3794.18994141 3790.81005859\n",
      " 3790.90991211 3794.72998047 3793.63989258 3795.18994141 3794.87011719\n",
      " 3794.92993164 3790.93994141 3790.37988281 3787.81005859 3787.12011719\n",
      " 3786.62988281 3783.85009766 3782.98999023 3780.47998047 3781.10009766\n",
      " 3779.18994141 3776.92993164 3776.73999023 3779.45996094 3776.68994141\n",
      " 3774.07006836 3775.94995117 3778.91992188 3776.85009766 3778.12988281\n",
      " 3778.91992188 3779.2199707  3781.01000977 3780.37988281 3778.34008789\n",
      " 3778.37988281 3779.39990234 3777.98999023 3781.22998047 3779.91992188\n",
      " 3778.44995117 3778.38989258 3772.97998047 3769.58007812 3773.25\n",
      " 3776.20996094 3778.23999023 3783.97998047 3784.81005859 3784.06005859\n",
      " 3785.11010742 3785.62988281 3790.05004883 3786.39990234 3782.84008789\n",
      " 3785.41992188 3787.80004883 3786.47998047 3782.37988281 3784.02001953\n",
      " 3783.64990234 3781.18994141 3781.18994141 3777.57006836 3777.81005859\n",
      " 3778.68994141 3774.27001953 3772.55004883 3770.41992188 3773.9699707\n",
      " 3770.87988281 3771.41992188 3767.73999023 3766.38989258 3774.35009766\n",
      " 3773.26000977 3772.61010742 3767.01000977 3768.90991211 3766.42993164\n",
      " 3766.34008789 3764.         3762.7800293  3763.57006836 3760.58007812\n",
      " 3761.67993164 3756.38989258 3767.81005859 3765.79003906 3763.64990234\n",
      " 3765.93994141 3766.45996094 3763.88989258 3760.22998047 3759.07006836\n",
      " 3758.58007812 3759.83007812 3754.97998047 3756.7800293  3753.91992188\n",
      " 3751.93994141 3749.85009766 3751.14990234 3746.45996094 3747.08007812\n",
      " 3748.37988281 3751.79003906 3753.80004883 3754.73999023 3747.43994141\n",
      " 3746.14990234 3743.67993164 3744.20996094 3741.82006836 3741.52001953\n",
      " 3742.31005859 3745.14990234 3744.05004883 3744.95996094 3746.56005859\n",
      " 3744.47998047 3735.22998047 3734.57006836 3739.94995117 3744.58007812\n",
      " 3747.87011719 3751.65991211 3748.95996094 3750.45996094 3747.39990234\n",
      " 3749.62988281]\n"
     ]
    },
    {
     "data": {
      "image/png": "[encoded data removed]",
      "text/plain": [
       "<Figure size 432x288 with 1 Axes>"
      ]
     },
     "metadata": {
      "needs_background": "light"
     },
     "output_type": "display_data"
    }
   ],
   "source": [
    "import pandas as pd\n",
    "\n",
    "\n",
    "# Get the data\n",
    "data = yf.download(tickers=\"^GSPC\", period=\"1d\", interval=\"1m\")\n",
    "data['Open'].plot()\n",
    "print(data)\n",
    "\n",
    "# Print the data\n",
    "nparray = np.array(data['Open'])\n",
    "print(nparray)"
   ]
  },
  {
   "cell_type": "code",
   "execution_count": 150,
   "metadata": {
    "scrolled": true
   },
   "outputs": [
    {
     "data": {
      "text/plain": [
       "[<matplotlib.lines.Line2D at 0x7fa548b3d280>]"
      ]
     },
     "execution_count": 150,
     "metadata": {},
     "output_type": "execute_result"
    },
    {
     "data": {
      "image/png": "[encoded data removed]",
      "text/plain": [
       "<Figure size 432x288 with 1 Axes>"
      ]
     },
     "metadata": {
      "needs_background": "light"
     },
     "output_type": "display_data"
    }
   ],
   "source": [
    "start = 0\n",
    "diff = diffnormaliser(nparray[start:start+129])\n",
    "plt.plot(diff)\n"
   ]
  },
  {
   "cell_type": "code",
   "execution_count": 151,
   "metadata": {},
   "outputs": [
    {
     "data": {
      "text/plain": [
       "<matplotlib.axes._subplots.AxesSubplot at 0x7fa548c116a0>"
      ]
     },
     "execution_count": 151,
     "metadata": {},
     "output_type": "execute_result"
    },
    {
     "data": {
      "image/png": "[encoded data removed]",
      "text/plain": [
       "<Figure size 432x288 with 1 Axes>"
      ]
     },
     "metadata": {
      "needs_background": "light"
     },
     "output_type": "display_data"
    }
   ],
   "source": [
    "data['Open'][start:start+129].plot()"
   ]
  },
  {
   "cell_type": "code",
   "execution_count": 152,
   "metadata": {},
   "outputs": [
    {
     "data": {
      "text/plain": [
       "tensor([[0.6094]], dtype=torch.float64, grad_fn=<AddmmBackward0>)"
      ]
     },
     "execution_count": 152,
     "metadata": {},
     "output_type": "execute_result"
    }
   ],
   "source": [
    "diff = totensor(diff)\n",
    "model_simp(diff)"
   ]
  },
  {
   "cell_type": "code",
   "execution_count": 153,
   "metadata": {},
   "outputs": [
    {
     "name": "stdout",
     "output_type": "stream",
     "text": [
      "Minimal H\n",
      "0.37822948213256763\n",
      "120\n",
      "Maximal H and place\n",
      "0.6073651641438295\n",
      "4\n",
      "Average H\n",
      "0.5123422361667638\n"
     ]
    }
   ],
   "source": [
    "sumH = []\n",
    "\n",
    "for i in range(len(nparray)-129):\n",
    "    \n",
    "    start = i\n",
    "    diff = diffnormaliser(nparray[start:start+129])\n",
    "    \n",
    "    diff = totensor(diff)\n",
    "    sumH.append(np.array([float(model_simp(diff)),start]))\n",
    "    \n",
    "min_place = np.argmin(np.array(sumH)[:,0])\n",
    "min_H = np.min(np.array(sumH)[:,0])\n",
    "max_place = np.argmax(np.array(sumH)[:,0])\n",
    "max_H = np.max(np.array(sumH)[:,0])\n",
    "\n",
    "print('Minimal H')\n",
    "print(min_H)\n",
    "print(min_place)\n",
    "print('Maximal H and place')\n",
    "print(max_H)\n",
    "print(max_place)\n",
    "print('Average H')\n",
    "print(np.average(np.array(sumH)[:,0]))"
   ]
  },
  {
   "cell_type": "code",
   "execution_count": 148,
   "metadata": {},
   "outputs": [
    {
     "data": {
      "image/png": "[encoded data removed]",
      "text/plain": [
       "<Figure size 432x288 with 1 Axes>"
      ]
     },
     "metadata": {
      "needs_background": "light"
     },
     "output_type": "display_data"
    }
   ],
   "source": [
    "data['Open'][min_place:min_place+129].plot(title=market+' at its most volatile part '+f'H={round(min_H,2)}');"
   ]
  },
  {
   "cell_type": "code",
   "execution_count": 149,
   "metadata": {},
   "outputs": [
    {
     "data": {
      "image/png": "[encoded data removed]",
      "text/plain": [
       "<Figure size 432x288 with 1 Axes>"
      ]
     },
     "metadata": {
      "needs_background": "light"
     },
     "output_type": "display_data"
    }
   ],
   "source": [
    "data['Open'][max_place:max_place+129].plot(title=market+' at its most monotone part '+f'H={round(max_H,2)}');\n",
    "\n"
   ]
  },
  {
   "cell_type": "code",
   "execution_count": null,
   "metadata": {},
   "outputs": [],
   "source": []
  }
 ],
 "metadata": {
  "kernelspec": {
   "display_name": "Python 3",
   "language": "python",
   "name": "python3"
  },
  "language_info": {
   "codemirror_mode": {
    "name": "ipython",
    "version": 3
   },
   "file_extension": ".py",
   "mimetype": "text/x-python",
   "name": "python",
   "nbconvert_exporter": "python",
   "pygments_lexer": "ipython3",
   "version": "3.8.3"
  }
 },
 "nbformat": 4,
 "nbformat_minor": 5
}
