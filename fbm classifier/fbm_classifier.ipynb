{
 "cells": [
  {
   "cell_type": "code",
   "execution_count": 84,
   "metadata": {
    "id": "M0ewtoeJ-pzG"
   },
   "outputs": [],
   "source": [
    "import numpy as np\n",
    "import torch\n",
    "import pickle\n",
    "import torch.nn as nn\n",
    "import torch.nn.functional as F\n",
    "from torchvision import datasets, transforms\n",
    "from tqdm.notebook import tqdm\n",
    "\n",
    "from torch.utils.data import Dataset, DataLoader\n",
    "import random\n",
    "import matplotlib.pyplot as plt"
   ]
  },
  {
   "cell_type": "code",
   "execution_count": 5,
   "metadata": {
    "colab": {
     "base_uri": "https://localhost:8080/",
     "height": 37
    },
    "id": "cPcoa0Yo_J5y",
    "outputId": "2a7bc1e1-0175-44ef-eebe-40e4858e78ee"
   },
   "outputs": [
    {
     "data": {
      "text/plain": [
       "'cpu'"
      ]
     },
     "execution_count": 5,
     "metadata": {},
     "output_type": "execute_result"
    }
   ],
   "source": [
    "device = \"cuda\" if torch.cuda.is_available() else \"cpu\"\n",
    "device"
   ]
  },
  {
   "cell_type": "code",
   "execution_count": 6,
   "metadata": {
    "id": "POr_akCWLG1K"
   },
   "outputs": [],
   "source": [
    "def logist(o):\n",
    "    flo = float(torch.sum(torch.exp(o)))\n",
    "    return torch.exp(o)/flo\n",
    "\n",
    "# Useful fns\n",
    "\n",
    "def diffnormaliser(array):\n",
    "    \"\"\"\n",
    "    Takes in np array takes increment series and normalises it.\n",
    "    \"\"\"\n",
    "    diff = np.diff(array)\n",
    "    return diff/np.average(np.abs(diff))\n",
    "\n",
    "def totensor(array):\n",
    "    \"\"\"\n",
    "    converts to tensor and puts array to device\n",
    "    \"\"\"\n",
    "    return torch.tensor(array)[None,:].to(device)"
   ]
  },
  {
   "cell_type": "code",
   "execution_count": 7,
   "metadata": {
    "id": "DfzUvqPp_tNu"
   },
   "outputs": [],
   "source": [
    "from fbm import FBM"
   ]
  },
  {
   "cell_type": "code",
   "execution_count": 67,
   "metadata": {
    "id": "6Jv0Vygi_Oe_"
   },
   "outputs": [],
   "source": [
    "grid_points = 64 # was 128\n",
    "num_of_train = 50000 # 500\n",
    "batch = 100 # 10\n",
    "epochs = 2"
   ]
  },
  {
   "cell_type": "code",
   "execution_count": 42,
   "metadata": {
    "colab": {
     "base_uri": "https://localhost:8080/"
    },
    "id": "6a7HkBpx_cf3",
    "outputId": "e956e118-7155-47ef-df1f-004f4a3a95f0"
   },
   "outputs": [
    {
     "data": {
      "text/plain": [
       "(65,)"
      ]
     },
     "execution_count": 42,
     "metadata": {},
     "output_type": "execute_result"
    }
   ],
   "source": [
    "H=0.4\n",
    "f = FBM(n=grid_points, hurst=H, length=1, method='daviesharte')\n",
    "f.fbm().shape"
   ]
  },
  {
   "cell_type": "code",
   "execution_count": 43,
   "metadata": {
    "id": "ORL27oLhBwDN"
   },
   "outputs": [
    {
     "name": "stdout",
     "output_type": "stream",
     "text": [
      "CPU times: user 1min 5s, sys: 370 ms, total: 1min 6s\n",
      "Wall time: 1min 6s\n"
     ]
    }
   ],
   "source": [
    "%%time\n",
    "fbm = []\n",
    "\n",
    "\n",
    "num_test = 50000\n",
    "rand_test = []\n",
    "\n",
    "for j in range(num_test):\n",
    "    H = random.uniform(0.01,1.0)\n",
    "\n",
    "    f = FBM(n=grid_points, hurst=H, length=1, method='daviesharte')\n",
    "    h = f.fbm()\n",
    "    h = diffnormaliser(h)\n",
    "        \n",
    "    fbm.append((h, 1))"
   ]
  },
  {
   "cell_type": "code",
   "execution_count": 44,
   "metadata": {},
   "outputs": [
    {
     "name": "stdout",
     "output_type": "stream",
     "text": [
      "(64,)\n"
     ]
    }
   ],
   "source": [
    "print(fbm[7][0].shape)"
   ]
  },
  {
   "cell_type": "code",
   "execution_count": 14,
   "metadata": {},
   "outputs": [
    {
     "data": {
      "text/plain": [
       "array([ 0.14747984,  0.09235608, -0.09515274, -0.04601731, -0.13184322,\n",
       "        0.01123549,  0.02085147, -0.01915297,  0.20298973,  0.23639625,\n",
       "        0.01910204, -0.2485063 ,  0.07215751, -0.13037806, -0.16540962,\n",
       "       -0.15034477, -0.04266779,  0.18391817, -0.04892761, -0.10351286,\n",
       "        0.06611858,  0.02999556,  0.10456931, -0.02255866,  0.15235294,\n",
       "       -0.15887416,  0.13416436,  0.0949227 , -0.00384499, -0.18955774,\n",
       "        0.21126984, -0.18897561, -0.0691606 , -0.01940893,  0.12190715,\n",
       "       -0.19080963, -0.14501591,  0.22555856,  0.14836434,  0.08472051,\n",
       "        0.17726187,  0.242352  , -0.09253499,  0.04238521, -0.24329207,\n",
       "       -0.03249894, -0.18264391,  0.15881261, -0.14763619,  0.07360771,\n",
       "       -0.14080724, -0.2391705 , -0.18069324,  0.22491432,  0.02516505,\n",
       "        0.13896701,  0.04641048, -0.0652627 , -0.04409985,  0.19661338,\n",
       "        0.22029413, -0.00347707, -0.0080731 ,  0.01963634])"
      ]
     },
     "execution_count": 14,
     "metadata": {},
     "output_type": "execute_result"
    }
   ],
   "source": [
    "(np.random.rand(grid_points)-1/2*np.ones(grid_points))*1/2"
   ]
  },
  {
   "cell_type": "code",
   "execution_count": 45,
   "metadata": {
    "id": "tQcHTTZn_0KO"
   },
   "outputs": [
    {
     "name": "stdout",
     "output_type": "stream",
     "text": [
      "CPU times: user 913 ms, sys: 26.5 ms, total: 940 ms\n",
      "Wall time: 929 ms\n"
     ]
    }
   ],
   "source": [
    "%%time\n",
    "\n",
    "\n",
    "\n",
    "for i in range(50000):\n",
    "    h = (np.random.rand(grid_points+1)-1/2*np.ones(grid_points+1))*1/2\n",
    "    h = diffnormaliser(h)\n",
    "    fbm.append((h,0))\n",
    "# for i in range(10000):\n",
    "#   fbm.append((np.random.rand(128),0))"
   ]
  },
  {
   "cell_type": "code",
   "execution_count": 46,
   "metadata": {},
   "outputs": [],
   "source": [
    "import copy\n",
    "copied = copy.deepcopy(fbm)"
   ]
  },
  {
   "cell_type": "code",
   "execution_count": 30,
   "metadata": {
    "id": "_mh4224TDUAg"
   },
   "outputs": [],
   "source": [
    "# with open('fbm_binary_classification', 'wb') as fp:\n",
    "#     pickle.dump(fbm, fp)"
   ]
  },
  {
   "cell_type": "code",
   "execution_count": 31,
   "metadata": {
    "id": "06gCYGnRDlDm"
   },
   "outputs": [],
   "source": [
    "# with open('fbm_binary_classification', 'rb') as fp:\n",
    "#     fbm = pickle.load(fp)"
   ]
  },
  {
   "cell_type": "code",
   "execution_count": 68,
   "metadata": {
    "id": "jcjJZaTjDtZ7"
   },
   "outputs": [],
   "source": [
    "random.shuffle(fbm)\n",
    "num = len(fbm)"
   ]
  },
  {
   "cell_type": "code",
   "execution_count": null,
   "metadata": {},
   "outputs": [],
   "source": []
  },
  {
   "cell_type": "code",
   "execution_count": 69,
   "metadata": {},
   "outputs": [
    {
     "data": {
      "text/plain": [
       "100000"
      ]
     },
     "execution_count": 69,
     "metadata": {},
     "output_type": "execute_result"
    }
   ],
   "source": [
    "num"
   ]
  },
  {
   "cell_type": "code",
   "execution_count": 70,
   "metadata": {
    "id": "w80vvK4CDwYt"
   },
   "outputs": [],
   "source": [
    "train_data = fbm[:num*8//10]\n",
    "test_data = fbm[num*8//10:]"
   ]
  },
  {
   "cell_type": "code",
   "execution_count": 71,
   "metadata": {
    "colab": {
     "base_uri": "https://localhost:8080/"
    },
    "id": "vCp7t_MSEG1z",
    "outputId": "66994a2a-fc4f-41e3-f782-c190d02cb2b0"
   },
   "outputs": [
    {
     "name": "stdout",
     "output_type": "stream",
     "text": [
      "80000\n",
      "20000\n"
     ]
    },
    {
     "data": {
      "text/plain": [
       "64"
      ]
     },
     "execution_count": 71,
     "metadata": {},
     "output_type": "execute_result"
    }
   ],
   "source": [
    "print(len(train_data))\n",
    "print(len(test_data))\n",
    "train_data[0][0].size"
   ]
  },
  {
   "cell_type": "code",
   "execution_count": 72,
   "metadata": {
    "id": "7EvKJ0UhEPAb"
   },
   "outputs": [],
   "source": [
    "train_loader = torch.utils.data.DataLoader(train_data, batch_size=batch, shuffle=True)\n",
    "test_loader = torch.utils.data.DataLoader(test_data, batch_size=batch, shuffle=False)"
   ]
  },
  {
   "cell_type": "code",
   "execution_count": 73,
   "metadata": {
    "id": "Vws8-z0TEcDs"
   },
   "outputs": [],
   "source": [
    "p=0.4\n",
    "class CNN_simplistic(nn.Module):\n",
    "    def __init__(self):\n",
    "        super().__init__()\n",
    "        self.conv1 = nn.Conv1d(1, 32, kernel_size=9, padding='same')\n",
    "        self.conv2 = nn.Conv1d(32, 32, kernel_size=9, padding='same')\n",
    "        self.conv3 = nn.Conv1d(32, 64, kernel_size=9, padding='same')\n",
    "        self.fc1 = nn.Linear(grid_points*64//4, 256)\n",
    "        self.fc2 = nn.Linear(256, 190)\n",
    "        # self.fc3 = nn.Linear(190, 190)\n",
    "        self.fc4 = nn.Linear(190, 2)\n",
    "        self.dropout = nn.Dropout(p)\n",
    "\n",
    "    def forward(self, x):\n",
    "        # conv layer 1\n",
    "        x = self.conv1(x)\n",
    "        x = F.relu(x)\n",
    "        # x = F.avg_pool1d(x, kernel_size=2)\n",
    "        \n",
    "        # conv layer 2\n",
    "        x = self.conv2(x)\n",
    "        x = F.relu(x)\n",
    "        x = F.avg_pool1d(x, kernel_size=2)\n",
    "\n",
    "        # conv layer 3\n",
    "        x = self.dropout(self.conv3(x))\n",
    "        x = F.relu(x)\n",
    "        x = F.avg_pool1d(x, kernel_size=2)\n",
    "          \n",
    "        \n",
    "        \n",
    "        # fc layer 1\n",
    "        x = x.view(-1,grid_points*64//4)\n",
    "        x = self.fc1(x)\n",
    "        x = F.relu(x)\n",
    "        \n",
    "        #fc layer 2\n",
    "        x = self.fc2(x)\n",
    "        x = F.relu(x)\n",
    "\n",
    "        # #fc layer 3\n",
    "        # x = self.fc3(x)\n",
    "        # x = F.relu(x)\n",
    "\n",
    "        x=self.fc4(x)\n",
    "        \n",
    "        return x"
   ]
  },
  {
   "cell_type": "code",
   "execution_count": 74,
   "metadata": {
    "colab": {
     "base_uri": "https://localhost:8080/",
     "height": 130,
     "referenced_widgets": [
      "26f0c1ce49f14cbfb551a93cfd90e172",
      "efb9a590b8014983a773abb82af270bd",
      "886f9daf81894a1dafb4a4d8227b91ab",
      "c37e41ce8a1b437886d57141a77b9d74",
      "fda404ab5a144ad4af858af685ec0901",
      "b84c530bebbf4511a09e346e0cbb69ba",
      "58650087bf014b7d84930a9e001c8b2b",
      "eb29138db58f4316aad1242d197eb9aa",
      "36d3ec7642724fa2ae26afb290a872df",
      "d1ecdda46b7c4daaa18484f8fc7e46fb",
      "51f70a8a4c924242a00f455ae3f3717b",
      "aba2449105c04a1d981661420c9deebf",
      "cb8854b292c641a583c67d28935da4c3",
      "32be08988fd64756af8d17c16131b60b",
      "631cd8840e214ce7a936218cdd62f121",
      "5d6a232a2ce94118ae5623929600afde",
      "1c752ec26fc54294a7bac0ecc5e77dc6",
      "0b2104019d4e497d842aea56bf945e44",
      "814ec2d7158e4501a7f5686a4ef852dc",
      "d76a620fedfa4662a415a0db7f0f8b4a",
      "90a719eb406a4468845c745679c1ed67",
      "f910c390ff214b6b9a94bb9bcc9f1cfb",
      "88bbe788f14f42a69f11b0326fdab97d",
      "11701b0d15ac48819c6d4d9f2c49774b",
      "f53eccd104ec48d58b06e11cd7082871",
      "ed7c7d87833d4537b634a513c59faf97",
      "079cd021f331410fa9c8141f792ff90d",
      "64f974db40be4aa5a9ebf8c14c8f41c5",
      "5c30bbbf7b5d4dd38ceec92b9011d678",
      "eec59ba6ebf4489dbcc77bae550dd85d",
      "d07de8eb76f0417d99b7d03c9b3825e0",
      "a5ea0a840a58420abc82e7535d05c2f8",
      "d11f87d944fa4376bf897007df4a5999"
     ]
    },
    "id": "itE8Q_d9E37J",
    "outputId": "e4340b40-7f30-446e-9aa2-0e6de05159d3"
   },
   "outputs": [
    {
     "data": {
      "application/vnd.jupyter.widget-view+json": {
       "model_id": "683b5bbfc09d4c868bce04a02785cf87",
       "version_major": 2,
       "version_minor": 0
      },
      "text/plain": [
       "HBox(children=(FloatProgress(value=0.0, max=2.0), HTML(value='')))"
      ]
     },
     "metadata": {},
     "output_type": "display_data"
    },
    {
     "data": {
      "application/vnd.jupyter.widget-view+json": {
       "model_id": "aee3affa564e4db0b36d5c2d99bbf695",
       "version_major": 2,
       "version_minor": 0
      },
      "text/plain": [
       "HBox(children=(FloatProgress(value=0.0, max=800.0), HTML(value='')))"
      ]
     },
     "metadata": {},
     "output_type": "display_data"
    },
    {
     "name": "stdout",
     "output_type": "stream",
     "text": [
      "\n"
     ]
    },
    {
     "data": {
      "application/vnd.jupyter.widget-view+json": {
       "model_id": "c9b4e3603f9d40fbb607fbc9e2792834",
       "version_major": 2,
       "version_minor": 0
      },
      "text/plain": [
       "HBox(children=(FloatProgress(value=0.0, max=800.0), HTML(value='')))"
      ]
     },
     "metadata": {},
     "output_type": "display_data"
    },
    {
     "name": "stdout",
     "output_type": "stream",
     "text": [
      "\n",
      "\n"
     ]
    },
    {
     "data": {
      "application/vnd.jupyter.widget-view+json": {
       "model_id": "9f7edb49e3eb45f9b158d8837628931f",
       "version_major": 2,
       "version_minor": 0
      },
      "text/plain": [
       "HBox(children=(FloatProgress(value=0.0, max=200.0), HTML(value='')))"
      ]
     },
     "metadata": {},
     "output_type": "display_data"
    },
    {
     "name": "stdout",
     "output_type": "stream",
     "text": [
      "\n",
      "Test accuracy: 98.93499755859375%\n"
     ]
    }
   ],
   "source": [
    "from torchvision import datasets, transforms\n",
    "from tqdm.notebook import tqdm, trange\n",
    "\n",
    "## Training\n",
    "# Instantiate model  \n",
    "model_simp = CNN_simplistic().double().to(device) \n",
    "\n",
    "\n",
    "\n",
    "\n",
    "# Loss and Optimizer\n",
    "base_optimizer = torch.optim.SGD\n",
    "optimizer = torch.optim.Adam(model_simp.parameters(), lr=0.001)\n",
    "criterion = nn.CrossEntropyLoss()\n",
    "# criterion = nn.BCEWithLogitsLoss\n",
    "\n",
    "\n",
    "\n",
    "# Iterate through train set minibatchs \n",
    "for epoch in trange(epochs):  \n",
    "    for images, labels in tqdm(train_loader):\n",
    "        images = images[:,None,:].to(device)\n",
    "        labels = labels.to(device)\n",
    "        # Zero out the gradients\n",
    "        optimizer.zero_grad()\n",
    "\n",
    "        # ADAM\n",
    "        # Forward pass\n",
    "        x = images\n",
    "        y = model_simp(x)\n",
    "        \n",
    "        loss = criterion(y, labels)\n",
    "\n",
    "\n",
    "        \n",
    "        # Backward pass\n",
    "        loss.backward()\n",
    "        optimizer.step()\n",
    "\n",
    "## Testing\n",
    "correct = 0\n",
    "total = len(test_loader)\n",
    "\n",
    "with torch.no_grad():\n",
    "    # Iterate through test set minibatchs \n",
    "    for images, labels in tqdm(test_loader):\n",
    "        images = images[:,None,:].to(device)\n",
    "        labels = labels.to(device)\n",
    "        # Forward pass\n",
    "        x = images  # <---- change here \n",
    "        y = model_simp(x)\n",
    "\n",
    "        predictions = torch.argmax(y, dim=1)\n",
    "        correct += torch.sum((predictions == labels).float())\n",
    "\n",
    "print('Test accuracy: {}%'.format(correct/total))\n"
   ]
  },
  {
   "cell_type": "code",
   "execution_count": 88,
   "metadata": {
    "colab": {
     "base_uri": "https://localhost:8080/"
    },
    "id": "xtkBpiaGFeJU",
    "outputId": "1a1fadb5-4932-4211-f5a2-f626455b4120"
   },
   "outputs": [
    {
     "name": "stdout",
     "output_type": "stream",
     "text": [
      "tensor([[-24.0936,  23.4050]], dtype=torch.float64, grad_fn=<AddmmBackward0>)\n",
      "tensor([[-58.8215,  57.0993]], dtype=torch.float64, grad_fn=<AddmmBackward0>)\n",
      "tensor([[2.3529e-21, 1.0000e+00]], dtype=torch.float64, grad_fn=<DivBackward0>)\n",
      "tensor([[4.5315e-51, 1.0000e+00]], dtype=torch.float64, grad_fn=<DivBackward0>)\n"
     ]
    },
    {
     "data": {
      "image/png": "[encoded data removed]",
      "text/plain": [
       "<Figure size 432x288 with 1 Axes>"
      ]
     },
     "metadata": {
      "needs_background": "light"
     },
     "output_type": "display_data"
    }
   ],
   "source": [
    "H = 0.6\n",
    "\n",
    "f = FBM(n=grid_points, hurst=H, length=1, method='daviesharte')\n",
    "g = diffnormaliser(f.fbm())\n",
    "plt.plot(g)\n",
    "g = totensor(g)\n",
    "t = np.sin(10*np.linspace(0,1,grid_points+1))\n",
    "t = diffnormaliser(t)\n",
    "\n",
    "plt.plot(t)\n",
    "t = totensor(t)\n",
    "\n",
    "\n",
    "\n",
    "\n",
    "\n",
    "o = model_simp(g)\n",
    "l = model_simp(t)\n",
    "print(o)\n",
    "print(l)\n",
    "\n",
    "print(logist(o))\n",
    "print(logist(l))"
   ]
  },
  {
   "cell_type": "code",
   "execution_count": 76,
   "metadata": {
    "id": "uZI7mDf4Kx09"
   },
   "outputs": [
    {
     "name": "stdout",
     "output_type": "stream",
     "text": [
      "[*********************100%***********************]  1 of 1 completed\n",
      "                                  Open         High          Low        Close  \\\n",
      "Datetime                                                                        \n",
      "2022-06-14 09:30:00-04:00  2130.699951  2139.510010  2130.699951  2137.709961   \n",
      "2022-06-14 09:31:00-04:00  2136.879883  2138.995117  2135.985107  2138.600098   \n",
      "2022-06-14 09:32:00-04:00  2142.290039  2146.239990  2134.620117  2134.699951   \n",
      "2022-06-14 09:33:00-04:00  2137.149902  2142.024902  2135.909912  2142.024902   \n",
      "2022-06-14 09:34:00-04:00  2142.590088  2142.590088  2135.919922  2138.679932   \n",
      "...                                ...          ...          ...          ...   \n",
      "2022-06-14 15:56:00-04:00  2138.489990  2139.620117  2137.199951  2137.885010   \n",
      "2022-06-14 15:57:00-04:00  2137.340088  2138.139893  2136.620117  2137.129883   \n",
      "2022-06-14 15:58:00-04:00  2137.989990  2139.080078  2136.739990  2138.294922   \n",
      "2022-06-14 15:59:00-04:00  2138.780029  2138.780029  2131.550049  2134.030029   \n",
      "2022-06-14 16:00:00-04:00  2134.310059  2134.310059  2134.310059  2134.310059   \n",
      "\n",
      "                             Adj Close  Volume  \n",
      "Datetime                                        \n",
      "2022-06-14 09:30:00-04:00  2137.709961   70960  \n",
      "2022-06-14 09:31:00-04:00  2138.600098    5489  \n",
      "2022-06-14 09:32:00-04:00  2134.699951   10071  \n",
      "2022-06-14 09:33:00-04:00  2142.024902    6124  \n",
      "2022-06-14 09:34:00-04:00  2138.679932    5925  \n",
      "...                                ...     ...  \n",
      "2022-06-14 15:56:00-04:00  2137.885010   10158  \n",
      "2022-06-14 15:57:00-04:00  2137.129883    9377  \n",
      "2022-06-14 15:58:00-04:00  2138.294922   18207  \n",
      "2022-06-14 15:59:00-04:00  2134.030029   79355  \n",
      "2022-06-14 16:00:00-04:00  2134.310059       0  \n",
      "\n",
      "[370 rows x 6 columns]\n",
      "[2130.69995117 2136.87988281 2142.29003906 2137.14990234 2142.59008789\n",
      " 2136.39990234 2135.62011719 2136.60009766 2136.37988281 2139.23999023\n",
      " 2134.39990234 2129.74511719 2127.64990234 2130.         2124.63989258\n",
      " 2126.86010742 2131.69995117 2138.08007812 2134.7199707  2133.41503906\n",
      " 2129.90991211 2128.11010742 2128.93994141 2136.09301758 2138.0949707\n",
      " 2138.32006836 2139.0300293  2138.2800293  2139.32006836 2142.94995117\n",
      " 2145.56005859 2144.10009766 2145.36010742 2146.87011719 2143.7800293\n",
      " 2142.89990234 2142.40991211 2141.85009766 2143.15991211 2140.5\n",
      " 2140.39990234 2138.16992188 2139.0324707  2142.29003906 2137.79003906\n",
      " 2134.85595703 2136.54492188 2136.61010742 2135.36010742 2135.79003906\n",
      " 2130.75       2127.75       2129.83007812 2132.12011719 2131.85009766\n",
      " 2130.87988281 2132.02001953 2134.39990234 2131.17993164 2127.69995117\n",
      " 2125.98999023 2129.09008789 2132.86987305 2130.         2131.06005859\n",
      " 2129.81738281 2131.91259766 2128.08666992 2129.95507812 2127.77783203\n",
      " 2128.04003906 2126.40991211 2123.44995117 2124.10009766 2127.01000977\n",
      " 2129.41992188 2131.98999023 2134.93994141 2136.41992188 2138.13500977\n",
      " 2141.         2140.98999023 2140.33496094 2138.30395508 2132.26000977\n",
      " 2131.4050293  2131.76000977 2132.12988281 2130.43505859 2130.12988281\n",
      " 2132.36010742 2133.33007812 2131.03491211 2129.87988281 2128.43457031\n",
      " 2127.         2123.60498047 2124.32495117 2124.07006836 2124.34008789\n",
      " 2122.90991211 2120.80004883 2120.4699707  2123.75       2121.56005859\n",
      " 2117.625      2117.2199707  2118.90991211 2117.91503906 2121.57495117\n",
      " 2120.         2120.13500977 2121.30004883 2122.44995117 2125.95996094\n",
      " 2124.         2122.94995117 2121.36010742 2122.32006836 2121.56005859\n",
      " 2123.5300293  2122.55004883 2122.85009766 2124.47998047 2131.61010742\n",
      " 2134.61499023 2135.49511719 2130.42993164 2129.80004883 2130.4699707\n",
      " 2129.41577148 2130.52001953 2131.         2130.62011719 2133.2800293\n",
      " 2134.32006836 2132.95996094 2133.29003906 2134.39990234 2134.33007812\n",
      " 2134.37988281 2134.98999023 2137.45507812 2139.         2139.40991211\n",
      " 2137.87988281 2138.92504883 2139.94995117 2135.53491211 2134.72998047\n",
      " 2132.25       2133.35498047 2134.9699707  2135.19506836 2134.57006836\n",
      " 2136.55004883 2135.64990234 2136.63989258 2135.76489258 2133.5\n",
      " 2132.27001953 2133.38989258 2136.97998047 2136.74511719 2138.09008789\n",
      " 2142.         2140.7800293  2138.74804688 2138.52001953 2137.63989258\n",
      " 2137.29003906 2138.74511719 2138.73999023 2137.40991211 2140.\n",
      " 2136.16992188 2136.20507812 2134.20996094 2133.67993164 2135.88989258\n",
      " 2133.30004883 2135.58007812 2134.20996094 2135.68994141 2134.89990234\n",
      " 2137.4050293  2138.20996094 2136.10009766 2138.74755859 2137.9699707\n",
      " 2140.         2138.58007812 2139.         2138.95996094 2138.79492188\n",
      " 2141.         2143.2800293  2143.         2141.90991211 2143.30004883\n",
      " 2144.62011719 2141.16992188 2140.0300293  2140.03491211 2144.81005859\n",
      " 2144.85009766 2146.         2147.9699707  2152.12988281 2149.15991211\n",
      " 2148.04492188 2151.79492188 2149.26000977 2150.16992188 2151.02490234\n",
      " 2152.89501953 2157.81005859 2154.52001953 2155.77001953 2153.55004883\n",
      " 2155.95507812 2155.56005859 2156.         2152.62988281 2151.29052734\n",
      " 2149.         2148.29003906 2147.32006836 2146.02001953 2145.52490234\n",
      " 2146.76000977 2145.12011719 2143.85009766 2141.93994141 2142.84008789\n",
      " 2142.33007812 2140.01489258 2139.4699707  2139.29492188 2136.2890625\n",
      " 2138.72998047 2138.         2137.10009766 2134.70996094 2136.31005859\n",
      " 2135.59008789 2136.35498047 2136.64990234 2137.98999023 2137.47119141\n",
      " 2137.55493164 2136.38989258 2137.39990234 2136.39990234 2135.11010742\n",
      " 2137.07006836 2138.51000977 2138.75       2138.77001953 2137.73510742\n",
      " 2137.69506836 2141.45996094 2142.         2139.22998047 2136.73486328\n",
      " 2136.19995117 2135.06738281 2137.85009766 2136.77001953 2137.23999023\n",
      " 2138.37988281 2138.37988281 2140.66992188 2140.22753906 2141.2800293\n",
      " 2140.79003906 2139.81005859 2138.77001953 2140.12988281 2140.34008789\n",
      " 2140.38989258 2140.41992188 2137.04003906 2136.59741211 2138.72998047\n",
      " 2140.63989258 2139.72998047 2140.12011719 2141.44995117 2140.4699707\n",
      " 2143.88989258 2142.65991211 2139.7199707  2138.88989258 2138.38989258\n",
      " 2138.2199707  2137.39501953 2137.81005859 2137.79003906 2137.06005859\n",
      " 2134.13989258 2132.52001953 2131.48510742 2135.63989258 2133.79003906\n",
      " 2132.19995117 2133.56005859 2133.54003906 2132.77001953 2132.2199707\n",
      " 2131.30004883 2129.2199707  2130.         2131.60009766 2130.86010742\n",
      " 2129.59521484 2129.86499023 2128.89501953 2126.80834961 2126.32006836\n",
      " 2126.5949707  2126.77001953 2123.31005859 2123.44995117 2123.29492188\n",
      " 2123.35009766 2124.13989258 2123.13989258 2121.22998047 2122.\n",
      " 2124.07495117 2126.62011719 2125.67993164 2125.06005859 2126.4699707\n",
      " 2128.14868164 2131.88989258 2131.55004883 2132.38061523 2133.95996094\n",
      " 2135.55004883 2132.90991211 2136.45996094 2136.14990234 2135.4699707\n",
      " 2136.89990234 2136.76489258 2138.69995117 2142.05004883 2141.9699707\n",
      " 2142.37011719 2146.04003906 2143.0300293  2141.38989258 2141.77001953\n",
      " 2139.73999023 2143.09008789 2141.98999023 2144.97998047 2144.92993164\n",
      " 2142.30004883 2140.11499023 2141.87011719 2137.14990234 2137.86010742\n",
      " 2138.48999023 2137.34008789 2137.98999023 2138.7800293  2134.31005859]\n"
     ]
    },
    {
     "data": {
      "image/png": "[encoded data removed]",
      "text/plain": [
       "<Figure size 432x288 with 1 Axes>"
      ]
     },
     "metadata": {
      "needs_background": "light"
     },
     "output_type": "display_data"
    }
   ],
   "source": [
    "import yfinance as yf\n",
    "import pandas as pd\n",
    "\n",
    "# Get the data\n",
    "data = yf.download(tickers=\"GOOGL\", period=\"1d\", interval=\"1m\")\n",
    "# data = yf.download(\"AAPL\", start=\"2017-01-01\", end=\"2020-04-30\")\n",
    "data['Open'].plot()\n",
    "print(data)\n",
    "\n",
    "# Print the data\n",
    "nparray = np.array(data['Open'])\n",
    "print(nparray)"
   ]
  },
  {
   "cell_type": "code",
   "execution_count": 82,
   "metadata": {},
   "outputs": [
    {
     "name": "stdout",
     "output_type": "stream",
     "text": [
      "tensor([[-15.6710,  15.1595]], dtype=torch.float64, grad_fn=<AddmmBackward0>)\n"
     ]
    }
   ],
   "source": [
    "arr = nparray[:grid_points+1]\n",
    "\n",
    "arr = diffnormaliser(arr)\n",
    "arr = totensor(arr)\n",
    "\n",
    "print(model_simp(arr))"
   ]
  },
  {
   "cell_type": "code",
   "execution_count": null,
   "metadata": {},
   "outputs": [],
   "source": []
  }
 ],
 "metadata": {
  "accelerator": "GPU",
  "colab": {
   "name": "fbm classifier.ipynb",
   "provenance": []
  },
  "kernelspec": {
   "display_name": "Python 3",
   "language": "python",
   "name": "python3"
  },
  "language_info": {
   "codemirror_mode": {
    "name": "ipython",
    "version": 3
   },
   "file_extension": ".py",
   "mimetype": "text/x-python",
   "name": "python",
   "nbconvert_exporter": "python",
   "pygments_lexer": "ipython3",
   "version": "3.8.3"
  },
  "widgets": {
   "application/vnd.jupyter.widget-state+json": {
    "079cd021f331410fa9c8141f792ff90d": {
     "model_module": "@jupyter-widgets/base",
     "model_module_version": "1.2.0",
     "model_name": "LayoutModel",
     "state": {
      "_model_module": "@jupyter-widgets/base",
      "_model_module_version": "1.2.0",
      "_model_name": "LayoutModel",
      "_view_count": null,
      "_view_module": "@jupyter-widgets/base",
      "_view_module_version": "1.2.0",
      "_view_name": "LayoutView",
      "align_content": null,
      "align_items": null,
      "align_self": null,
      "border": null,
      "bottom": null,
      "display": null,
      "flex": null,
      "flex_flow": null,
      "grid_area": null,
      "grid_auto_columns": null,
      "grid_auto_flow": null,
      "grid_auto_rows": null,
      "grid_column": null,
      "grid_gap": null,
      "grid_row": null,
      "grid_template_areas": null,
      "grid_template_columns": null,
      "grid_template_rows": null,
      "height": null,
      "justify_content": null,
      "justify_items": null,
      "left": null,
      "margin": null,
      "max_height": null,
      "max_width": null,
      "min_height": null,
      "min_width": null,
      "object_fit": null,
      "object_position": null,
      "order": null,
      "overflow": null,
      "overflow_x": null,
      "overflow_y": null,
      "padding": null,
      "right": null,
      "top": null,
      "visibility": null,
      "width": null
     }
    },
    "0b2104019d4e497d842aea56bf945e44": {
     "model_module": "@jupyter-widgets/controls",
     "model_module_version": "1.5.0",
     "model_name": "DescriptionStyleModel",
     "state": {
      "_model_module": "@jupyter-widgets/controls",
      "_model_module_version": "1.5.0",
      "_model_name": "DescriptionStyleModel",
      "_view_count": null,
      "_view_module": "@jupyter-widgets/base",
      "_view_module_version": "1.2.0",
      "_view_name": "StyleView",
      "description_width": ""
     }
    },
    "11701b0d15ac48819c6d4d9f2c49774b": {
     "model_module": "@jupyter-widgets/controls",
     "model_module_version": "1.5.0",
     "model_name": "HTMLModel",
     "state": {
      "_dom_classes": [],
      "_model_module": "@jupyter-widgets/controls",
      "_model_module_version": "1.5.0",
      "_model_name": "HTMLModel",
      "_view_count": null,
      "_view_module": "@jupyter-widgets/controls",
      "_view_module_version": "1.5.0",
      "_view_name": "HTMLView",
      "description": "",
      "description_tooltip": null,
      "layout": "IPY_MODEL_64f974db40be4aa5a9ebf8c14c8f41c5",
      "placeholder": "​",
      "style": "IPY_MODEL_5c30bbbf7b5d4dd38ceec92b9011d678",
      "value": "100%"
     }
    },
    "1c752ec26fc54294a7bac0ecc5e77dc6": {
     "model_module": "@jupyter-widgets/base",
     "model_module_version": "1.2.0",
     "model_name": "LayoutModel",
     "state": {
      "_model_module": "@jupyter-widgets/base",
      "_model_module_version": "1.2.0",
      "_model_name": "LayoutModel",
      "_view_count": null,
      "_view_module": "@jupyter-widgets/base",
      "_view_module_version": "1.2.0",
      "_view_name": "LayoutView",
      "align_content": null,
      "align_items": null,
      "align_self": null,
      "border": null,
      "bottom": null,
      "display": null,
      "flex": null,
      "flex_flow": null,
      "grid_area": null,
      "grid_auto_columns": null,
      "grid_auto_flow": null,
      "grid_auto_rows": null,
      "grid_column": null,
      "grid_gap": null,
      "grid_row": null,
      "grid_template_areas": null,
      "grid_template_columns": null,
      "grid_template_rows": null,
      "height": null,
      "justify_content": null,
      "justify_items": null,
      "left": null,
      "margin": null,
      "max_height": null,
      "max_width": null,
      "min_height": null,
      "min_width": null,
      "object_fit": null,
      "object_position": null,
      "order": null,
      "overflow": null,
      "overflow_x": null,
      "overflow_y": null,
      "padding": null,
      "right": null,
      "top": null,
      "visibility": null,
      "width": null
     }
    },
    "26f0c1ce49f14cbfb551a93cfd90e172": {
     "model_module": "@jupyter-widgets/controls",
     "model_module_version": "1.5.0",
     "model_name": "HBoxModel",
     "state": {
      "_dom_classes": [],
      "_model_module": "@jupyter-widgets/controls",
      "_model_module_version": "1.5.0",
      "_model_name": "HBoxModel",
      "_view_count": null,
      "_view_module": "@jupyter-widgets/controls",
      "_view_module_version": "1.5.0",
      "_view_name": "HBoxView",
      "box_style": "",
      "children": [
       "IPY_MODEL_efb9a590b8014983a773abb82af270bd",
       "IPY_MODEL_886f9daf81894a1dafb4a4d8227b91ab",
       "IPY_MODEL_c37e41ce8a1b437886d57141a77b9d74"
      ],
      "layout": "IPY_MODEL_fda404ab5a144ad4af858af685ec0901"
     }
    },
    "32be08988fd64756af8d17c16131b60b": {
     "model_module": "@jupyter-widgets/controls",
     "model_module_version": "1.5.0",
     "model_name": "FloatProgressModel",
     "state": {
      "_dom_classes": [],
      "_model_module": "@jupyter-widgets/controls",
      "_model_module_version": "1.5.0",
      "_model_name": "FloatProgressModel",
      "_view_count": null,
      "_view_module": "@jupyter-widgets/controls",
      "_view_module_version": "1.5.0",
      "_view_name": "ProgressView",
      "bar_style": "success",
      "description": "",
      "description_tooltip": null,
      "layout": "IPY_MODEL_814ec2d7158e4501a7f5686a4ef852dc",
      "max": 320,
      "min": 0,
      "orientation": "horizontal",
      "style": "IPY_MODEL_d76a620fedfa4662a415a0db7f0f8b4a",
      "value": 320
     }
    },
    "36d3ec7642724fa2ae26afb290a872df": {
     "model_module": "@jupyter-widgets/controls",
     "model_module_version": "1.5.0",
     "model_name": "ProgressStyleModel",
     "state": {
      "_model_module": "@jupyter-widgets/controls",
      "_model_module_version": "1.5.0",
      "_model_name": "ProgressStyleModel",
      "_view_count": null,
      "_view_module": "@jupyter-widgets/base",
      "_view_module_version": "1.2.0",
      "_view_name": "StyleView",
      "bar_color": null,
      "description_width": ""
     }
    },
    "51f70a8a4c924242a00f455ae3f3717b": {
     "model_module": "@jupyter-widgets/controls",
     "model_module_version": "1.5.0",
     "model_name": "DescriptionStyleModel",
     "state": {
      "_model_module": "@jupyter-widgets/controls",
      "_model_module_version": "1.5.0",
      "_model_name": "DescriptionStyleModel",
      "_view_count": null,
      "_view_module": "@jupyter-widgets/base",
      "_view_module_version": "1.2.0",
      "_view_name": "StyleView",
      "description_width": ""
     }
    },
    "58650087bf014b7d84930a9e001c8b2b": {
     "model_module": "@jupyter-widgets/controls",
     "model_module_version": "1.5.0",
     "model_name": "DescriptionStyleModel",
     "state": {
      "_model_module": "@jupyter-widgets/controls",
      "_model_module_version": "1.5.0",
      "_model_name": "DescriptionStyleModel",
      "_view_count": null,
      "_view_module": "@jupyter-widgets/base",
      "_view_module_version": "1.2.0",
      "_view_name": "StyleView",
      "description_width": ""
     }
    },
    "5c30bbbf7b5d4dd38ceec92b9011d678": {
     "model_module": "@jupyter-widgets/controls",
     "model_module_version": "1.5.0",
     "model_name": "DescriptionStyleModel",
     "state": {
      "_model_module": "@jupyter-widgets/controls",
      "_model_module_version": "1.5.0",
      "_model_name": "DescriptionStyleModel",
      "_view_count": null,
      "_view_module": "@jupyter-widgets/base",
      "_view_module_version": "1.2.0",
      "_view_name": "StyleView",
      "description_width": ""
     }
    },
    "5d6a232a2ce94118ae5623929600afde": {
     "model_module": "@jupyter-widgets/base",
     "model_module_version": "1.2.0",
     "model_name": "LayoutModel",
     "state": {
      "_model_module": "@jupyter-widgets/base",
      "_model_module_version": "1.2.0",
      "_model_name": "LayoutModel",
      "_view_count": null,
      "_view_module": "@jupyter-widgets/base",
      "_view_module_version": "1.2.0",
      "_view_name": "LayoutView",
      "align_content": null,
      "align_items": null,
      "align_self": null,
      "border": null,
      "bottom": null,
      "display": null,
      "flex": null,
      "flex_flow": null,
      "grid_area": null,
      "grid_auto_columns": null,
      "grid_auto_flow": null,
      "grid_auto_rows": null,
      "grid_column": null,
      "grid_gap": null,
      "grid_row": null,
      "grid_template_areas": null,
      "grid_template_columns": null,
      "grid_template_rows": null,
      "height": null,
      "justify_content": null,
      "justify_items": null,
      "left": null,
      "margin": null,
      "max_height": null,
      "max_width": null,
      "min_height": null,
      "min_width": null,
      "object_fit": null,
      "object_position": null,
      "order": null,
      "overflow": null,
      "overflow_x": null,
      "overflow_y": null,
      "padding": null,
      "right": null,
      "top": null,
      "visibility": null,
      "width": null
     }
    },
    "631cd8840e214ce7a936218cdd62f121": {
     "model_module": "@jupyter-widgets/controls",
     "model_module_version": "1.5.0",
     "model_name": "HTMLModel",
     "state": {
      "_dom_classes": [],
      "_model_module": "@jupyter-widgets/controls",
      "_model_module_version": "1.5.0",
      "_model_name": "HTMLModel",
      "_view_count": null,
      "_view_module": "@jupyter-widgets/controls",
      "_view_module_version": "1.5.0",
      "_view_name": "HTMLView",
      "description": "",
      "description_tooltip": null,
      "layout": "IPY_MODEL_90a719eb406a4468845c745679c1ed67",
      "placeholder": "​",
      "style": "IPY_MODEL_f910c390ff214b6b9a94bb9bcc9f1cfb",
      "value": " 320/320 [00:07&lt;00:00, 46.61it/s]"
     }
    },
    "64f974db40be4aa5a9ebf8c14c8f41c5": {
     "model_module": "@jupyter-widgets/base",
     "model_module_version": "1.2.0",
     "model_name": "LayoutModel",
     "state": {
      "_model_module": "@jupyter-widgets/base",
      "_model_module_version": "1.2.0",
      "_model_name": "LayoutModel",
      "_view_count": null,
      "_view_module": "@jupyter-widgets/base",
      "_view_module_version": "1.2.0",
      "_view_name": "LayoutView",
      "align_content": null,
      "align_items": null,
      "align_self": null,
      "border": null,
      "bottom": null,
      "display": null,
      "flex": null,
      "flex_flow": null,
      "grid_area": null,
      "grid_auto_columns": null,
      "grid_auto_flow": null,
      "grid_auto_rows": null,
      "grid_column": null,
      "grid_gap": null,
      "grid_row": null,
      "grid_template_areas": null,
      "grid_template_columns": null,
      "grid_template_rows": null,
      "height": null,
      "justify_content": null,
      "justify_items": null,
      "left": null,
      "margin": null,
      "max_height": null,
      "max_width": null,
      "min_height": null,
      "min_width": null,
      "object_fit": null,
      "object_position": null,
      "order": null,
      "overflow": null,
      "overflow_x": null,
      "overflow_y": null,
      "padding": null,
      "right": null,
      "top": null,
      "visibility": null,
      "width": null
     }
    },
    "814ec2d7158e4501a7f5686a4ef852dc": {
     "model_module": "@jupyter-widgets/base",
     "model_module_version": "1.2.0",
     "model_name": "LayoutModel",
     "state": {
      "_model_module": "@jupyter-widgets/base",
      "_model_module_version": "1.2.0",
      "_model_name": "LayoutModel",
      "_view_count": null,
      "_view_module": "@jupyter-widgets/base",
      "_view_module_version": "1.2.0",
      "_view_name": "LayoutView",
      "align_content": null,
      "align_items": null,
      "align_self": null,
      "border": null,
      "bottom": null,
      "display": null,
      "flex": null,
      "flex_flow": null,
      "grid_area": null,
      "grid_auto_columns": null,
      "grid_auto_flow": null,
      "grid_auto_rows": null,
      "grid_column": null,
      "grid_gap": null,
      "grid_row": null,
      "grid_template_areas": null,
      "grid_template_columns": null,
      "grid_template_rows": null,
      "height": null,
      "justify_content": null,
      "justify_items": null,
      "left": null,
      "margin": null,
      "max_height": null,
      "max_width": null,
      "min_height": null,
      "min_width": null,
      "object_fit": null,
      "object_position": null,
      "order": null,
      "overflow": null,
      "overflow_x": null,
      "overflow_y": null,
      "padding": null,
      "right": null,
      "top": null,
      "visibility": null,
      "width": null
     }
    },
    "886f9daf81894a1dafb4a4d8227b91ab": {
     "model_module": "@jupyter-widgets/controls",
     "model_module_version": "1.5.0",
     "model_name": "FloatProgressModel",
     "state": {
      "_dom_classes": [],
      "_model_module": "@jupyter-widgets/controls",
      "_model_module_version": "1.5.0",
      "_model_name": "FloatProgressModel",
      "_view_count": null,
      "_view_module": "@jupyter-widgets/controls",
      "_view_module_version": "1.5.0",
      "_view_name": "ProgressView",
      "bar_style": "success",
      "description": "",
      "description_tooltip": null,
      "layout": "IPY_MODEL_eb29138db58f4316aad1242d197eb9aa",
      "max": 1,
      "min": 0,
      "orientation": "horizontal",
      "style": "IPY_MODEL_36d3ec7642724fa2ae26afb290a872df",
      "value": 1
     }
    },
    "88bbe788f14f42a69f11b0326fdab97d": {
     "model_module": "@jupyter-widgets/controls",
     "model_module_version": "1.5.0",
     "model_name": "HBoxModel",
     "state": {
      "_dom_classes": [],
      "_model_module": "@jupyter-widgets/controls",
      "_model_module_version": "1.5.0",
      "_model_name": "HBoxModel",
      "_view_count": null,
      "_view_module": "@jupyter-widgets/controls",
      "_view_module_version": "1.5.0",
      "_view_name": "HBoxView",
      "box_style": "",
      "children": [
       "IPY_MODEL_11701b0d15ac48819c6d4d9f2c49774b",
       "IPY_MODEL_f53eccd104ec48d58b06e11cd7082871",
       "IPY_MODEL_ed7c7d87833d4537b634a513c59faf97"
      ],
      "layout": "IPY_MODEL_079cd021f331410fa9c8141f792ff90d"
     }
    },
    "90a719eb406a4468845c745679c1ed67": {
     "model_module": "@jupyter-widgets/base",
     "model_module_version": "1.2.0",
     "model_name": "LayoutModel",
     "state": {
      "_model_module": "@jupyter-widgets/base",
      "_model_module_version": "1.2.0",
      "_model_name": "LayoutModel",
      "_view_count": null,
      "_view_module": "@jupyter-widgets/base",
      "_view_module_version": "1.2.0",
      "_view_name": "LayoutView",
      "align_content": null,
      "align_items": null,
      "align_self": null,
      "border": null,
      "bottom": null,
      "display": null,
      "flex": null,
      "flex_flow": null,
      "grid_area": null,
      "grid_auto_columns": null,
      "grid_auto_flow": null,
      "grid_auto_rows": null,
      "grid_column": null,
      "grid_gap": null,
      "grid_row": null,
      "grid_template_areas": null,
      "grid_template_columns": null,
      "grid_template_rows": null,
      "height": null,
      "justify_content": null,
      "justify_items": null,
      "left": null,
      "margin": null,
      "max_height": null,
      "max_width": null,
      "min_height": null,
      "min_width": null,
      "object_fit": null,
      "object_position": null,
      "order": null,
      "overflow": null,
      "overflow_x": null,
      "overflow_y": null,
      "padding": null,
      "right": null,
      "top": null,
      "visibility": null,
      "width": null
     }
    },
    "a5ea0a840a58420abc82e7535d05c2f8": {
     "model_module": "@jupyter-widgets/base",
     "model_module_version": "1.2.0",
     "model_name": "LayoutModel",
     "state": {
      "_model_module": "@jupyter-widgets/base",
      "_model_module_version": "1.2.0",
      "_model_name": "LayoutModel",
      "_view_count": null,
      "_view_module": "@jupyter-widgets/base",
      "_view_module_version": "1.2.0",
      "_view_name": "LayoutView",
      "align_content": null,
      "align_items": null,
      "align_self": null,
      "border": null,
      "bottom": null,
      "display": null,
      "flex": null,
      "flex_flow": null,
      "grid_area": null,
      "grid_auto_columns": null,
      "grid_auto_flow": null,
      "grid_auto_rows": null,
      "grid_column": null,
      "grid_gap": null,
      "grid_row": null,
      "grid_template_areas": null,
      "grid_template_columns": null,
      "grid_template_rows": null,
      "height": null,
      "justify_content": null,
      "justify_items": null,
      "left": null,
      "margin": null,
      "max_height": null,
      "max_width": null,
      "min_height": null,
      "min_width": null,
      "object_fit": null,
      "object_position": null,
      "order": null,
      "overflow": null,
      "overflow_x": null,
      "overflow_y": null,
      "padding": null,
      "right": null,
      "top": null,
      "visibility": null,
      "width": null
     }
    },
    "aba2449105c04a1d981661420c9deebf": {
     "model_module": "@jupyter-widgets/controls",
     "model_module_version": "1.5.0",
     "model_name": "HBoxModel",
     "state": {
      "_dom_classes": [],
      "_model_module": "@jupyter-widgets/controls",
      "_model_module_version": "1.5.0",
      "_model_name": "HBoxModel",
      "_view_count": null,
      "_view_module": "@jupyter-widgets/controls",
      "_view_module_version": "1.5.0",
      "_view_name": "HBoxView",
      "box_style": "",
      "children": [
       "IPY_MODEL_cb8854b292c641a583c67d28935da4c3",
       "IPY_MODEL_32be08988fd64756af8d17c16131b60b",
       "IPY_MODEL_631cd8840e214ce7a936218cdd62f121"
      ],
      "layout": "IPY_MODEL_5d6a232a2ce94118ae5623929600afde"
     }
    },
    "b84c530bebbf4511a09e346e0cbb69ba": {
     "model_module": "@jupyter-widgets/base",
     "model_module_version": "1.2.0",
     "model_name": "LayoutModel",
     "state": {
      "_model_module": "@jupyter-widgets/base",
      "_model_module_version": "1.2.0",
      "_model_name": "LayoutModel",
      "_view_count": null,
      "_view_module": "@jupyter-widgets/base",
      "_view_module_version": "1.2.0",
      "_view_name": "LayoutView",
      "align_content": null,
      "align_items": null,
      "align_self": null,
      "border": null,
      "bottom": null,
      "display": null,
      "flex": null,
      "flex_flow": null,
      "grid_area": null,
      "grid_auto_columns": null,
      "grid_auto_flow": null,
      "grid_auto_rows": null,
      "grid_column": null,
      "grid_gap": null,
      "grid_row": null,
      "grid_template_areas": null,
      "grid_template_columns": null,
      "grid_template_rows": null,
      "height": null,
      "justify_content": null,
      "justify_items": null,
      "left": null,
      "margin": null,
      "max_height": null,
      "max_width": null,
      "min_height": null,
      "min_width": null,
      "object_fit": null,
      "object_position": null,
      "order": null,
      "overflow": null,
      "overflow_x": null,
      "overflow_y": null,
      "padding": null,
      "right": null,
      "top": null,
      "visibility": null,
      "width": null
     }
    },
    "c37e41ce8a1b437886d57141a77b9d74": {
     "model_module": "@jupyter-widgets/controls",
     "model_module_version": "1.5.0",
     "model_name": "HTMLModel",
     "state": {
      "_dom_classes": [],
      "_model_module": "@jupyter-widgets/controls",
      "_model_module_version": "1.5.0",
      "_model_name": "HTMLModel",
      "_view_count": null,
      "_view_module": "@jupyter-widgets/controls",
      "_view_module_version": "1.5.0",
      "_view_name": "HTMLView",
      "description": "",
      "description_tooltip": null,
      "layout": "IPY_MODEL_d1ecdda46b7c4daaa18484f8fc7e46fb",
      "placeholder": "​",
      "style": "IPY_MODEL_51f70a8a4c924242a00f455ae3f3717b",
      "value": " 1/1 [00:07&lt;00:00,  7.30s/it]"
     }
    },
    "cb8854b292c641a583c67d28935da4c3": {
     "model_module": "@jupyter-widgets/controls",
     "model_module_version": "1.5.0",
     "model_name": "HTMLModel",
     "state": {
      "_dom_classes": [],
      "_model_module": "@jupyter-widgets/controls",
      "_model_module_version": "1.5.0",
      "_model_name": "HTMLModel",
      "_view_count": null,
      "_view_module": "@jupyter-widgets/controls",
      "_view_module_version": "1.5.0",
      "_view_name": "HTMLView",
      "description": "",
      "description_tooltip": null,
      "layout": "IPY_MODEL_1c752ec26fc54294a7bac0ecc5e77dc6",
      "placeholder": "​",
      "style": "IPY_MODEL_0b2104019d4e497d842aea56bf945e44",
      "value": "100%"
     }
    },
    "d07de8eb76f0417d99b7d03c9b3825e0": {
     "model_module": "@jupyter-widgets/controls",
     "model_module_version": "1.5.0",
     "model_name": "ProgressStyleModel",
     "state": {
      "_model_module": "@jupyter-widgets/controls",
      "_model_module_version": "1.5.0",
      "_model_name": "ProgressStyleModel",
      "_view_count": null,
      "_view_module": "@jupyter-widgets/base",
      "_view_module_version": "1.2.0",
      "_view_name": "StyleView",
      "bar_color": null,
      "description_width": ""
     }
    },
    "d11f87d944fa4376bf897007df4a5999": {
     "model_module": "@jupyter-widgets/controls",
     "model_module_version": "1.5.0",
     "model_name": "DescriptionStyleModel",
     "state": {
      "_model_module": "@jupyter-widgets/controls",
      "_model_module_version": "1.5.0",
      "_model_name": "DescriptionStyleModel",
      "_view_count": null,
      "_view_module": "@jupyter-widgets/base",
      "_view_module_version": "1.2.0",
      "_view_name": "StyleView",
      "description_width": ""
     }
    },
    "d1ecdda46b7c4daaa18484f8fc7e46fb": {
     "model_module": "@jupyter-widgets/base",
     "model_module_version": "1.2.0",
     "model_name": "LayoutModel",
     "state": {
      "_model_module": "@jupyter-widgets/base",
      "_model_module_version": "1.2.0",
      "_model_name": "LayoutModel",
      "_view_count": null,
      "_view_module": "@jupyter-widgets/base",
      "_view_module_version": "1.2.0",
      "_view_name": "LayoutView",
      "align_content": null,
      "align_items": null,
      "align_self": null,
      "border": null,
      "bottom": null,
      "display": null,
      "flex": null,
      "flex_flow": null,
      "grid_area": null,
      "grid_auto_columns": null,
      "grid_auto_flow": null,
      "grid_auto_rows": null,
      "grid_column": null,
      "grid_gap": null,
      "grid_row": null,
      "grid_template_areas": null,
      "grid_template_columns": null,
      "grid_template_rows": null,
      "height": null,
      "justify_content": null,
      "justify_items": null,
      "left": null,
      "margin": null,
      "max_height": null,
      "max_width": null,
      "min_height": null,
      "min_width": null,
      "object_fit": null,
      "object_position": null,
      "order": null,
      "overflow": null,
      "overflow_x": null,
      "overflow_y": null,
      "padding": null,
      "right": null,
      "top": null,
      "visibility": null,
      "width": null
     }
    },
    "d76a620fedfa4662a415a0db7f0f8b4a": {
     "model_module": "@jupyter-widgets/controls",
     "model_module_version": "1.5.0",
     "model_name": "ProgressStyleModel",
     "state": {
      "_model_module": "@jupyter-widgets/controls",
      "_model_module_version": "1.5.0",
      "_model_name": "ProgressStyleModel",
      "_view_count": null,
      "_view_module": "@jupyter-widgets/base",
      "_view_module_version": "1.2.0",
      "_view_name": "StyleView",
      "bar_color": null,
      "description_width": ""
     }
    },
    "eb29138db58f4316aad1242d197eb9aa": {
     "model_module": "@jupyter-widgets/base",
     "model_module_version": "1.2.0",
     "model_name": "LayoutModel",
     "state": {
      "_model_module": "@jupyter-widgets/base",
      "_model_module_version": "1.2.0",
      "_model_name": "LayoutModel",
      "_view_count": null,
      "_view_module": "@jupyter-widgets/base",
      "_view_module_version": "1.2.0",
      "_view_name": "LayoutView",
      "align_content": null,
      "align_items": null,
      "align_self": null,
      "border": null,
      "bottom": null,
      "display": null,
      "flex": null,
      "flex_flow": null,
      "grid_area": null,
      "grid_auto_columns": null,
      "grid_auto_flow": null,
      "grid_auto_rows": null,
      "grid_column": null,
      "grid_gap": null,
      "grid_row": null,
      "grid_template_areas": null,
      "grid_template_columns": null,
      "grid_template_rows": null,
      "height": null,
      "justify_content": null,
      "justify_items": null,
      "left": null,
      "margin": null,
      "max_height": null,
      "max_width": null,
      "min_height": null,
      "min_width": null,
      "object_fit": null,
      "object_position": null,
      "order": null,
      "overflow": null,
      "overflow_x": null,
      "overflow_y": null,
      "padding": null,
      "right": null,
      "top": null,
      "visibility": null,
      "width": null
     }
    },
    "ed7c7d87833d4537b634a513c59faf97": {
     "model_module": "@jupyter-widgets/controls",
     "model_module_version": "1.5.0",
     "model_name": "HTMLModel",
     "state": {
      "_dom_classes": [],
      "_model_module": "@jupyter-widgets/controls",
      "_model_module_version": "1.5.0",
      "_model_name": "HTMLModel",
      "_view_count": null,
      "_view_module": "@jupyter-widgets/controls",
      "_view_module_version": "1.5.0",
      "_view_name": "HTMLView",
      "description": "",
      "description_tooltip": null,
      "layout": "IPY_MODEL_a5ea0a840a58420abc82e7535d05c2f8",
      "placeholder": "​",
      "style": "IPY_MODEL_d11f87d944fa4376bf897007df4a5999",
      "value": " 80/80 [00:00&lt;00:00, 125.44it/s]"
     }
    },
    "eec59ba6ebf4489dbcc77bae550dd85d": {
     "model_module": "@jupyter-widgets/base",
     "model_module_version": "1.2.0",
     "model_name": "LayoutModel",
     "state": {
      "_model_module": "@jupyter-widgets/base",
      "_model_module_version": "1.2.0",
      "_model_name": "LayoutModel",
      "_view_count": null,
      "_view_module": "@jupyter-widgets/base",
      "_view_module_version": "1.2.0",
      "_view_name": "LayoutView",
      "align_content": null,
      "align_items": null,
      "align_self": null,
      "border": null,
      "bottom": null,
      "display": null,
      "flex": null,
      "flex_flow": null,
      "grid_area": null,
      "grid_auto_columns": null,
      "grid_auto_flow": null,
      "grid_auto_rows": null,
      "grid_column": null,
      "grid_gap": null,
      "grid_row": null,
      "grid_template_areas": null,
      "grid_template_columns": null,
      "grid_template_rows": null,
      "height": null,
      "justify_content": null,
      "justify_items": null,
      "left": null,
      "margin": null,
      "max_height": null,
      "max_width": null,
      "min_height": null,
      "min_width": null,
      "object_fit": null,
      "object_position": null,
      "order": null,
      "overflow": null,
      "overflow_x": null,
      "overflow_y": null,
      "padding": null,
      "right": null,
      "top": null,
      "visibility": null,
      "width": null
     }
    },
    "efb9a590b8014983a773abb82af270bd": {
     "model_module": "@jupyter-widgets/controls",
     "model_module_version": "1.5.0",
     "model_name": "HTMLModel",
     "state": {
      "_dom_classes": [],
      "_model_module": "@jupyter-widgets/controls",
      "_model_module_version": "1.5.0",
      "_model_name": "HTMLModel",
      "_view_count": null,
      "_view_module": "@jupyter-widgets/controls",
      "_view_module_version": "1.5.0",
      "_view_name": "HTMLView",
      "description": "",
      "description_tooltip": null,
      "layout": "IPY_MODEL_b84c530bebbf4511a09e346e0cbb69ba",
      "placeholder": "​",
      "style": "IPY_MODEL_58650087bf014b7d84930a9e001c8b2b",
      "value": "100%"
     }
    },
    "f53eccd104ec48d58b06e11cd7082871": {
     "model_module": "@jupyter-widgets/controls",
     "model_module_version": "1.5.0",
     "model_name": "FloatProgressModel",
     "state": {
      "_dom_classes": [],
      "_model_module": "@jupyter-widgets/controls",
      "_model_module_version": "1.5.0",
      "_model_name": "FloatProgressModel",
      "_view_count": null,
      "_view_module": "@jupyter-widgets/controls",
      "_view_module_version": "1.5.0",
      "_view_name": "ProgressView",
      "bar_style": "success",
      "description": "",
      "description_tooltip": null,
      "layout": "IPY_MODEL_eec59ba6ebf4489dbcc77bae550dd85d",
      "max": 80,
      "min": 0,
      "orientation": "horizontal",
      "style": "IPY_MODEL_d07de8eb76f0417d99b7d03c9b3825e0",
      "value": 80
     }
    },
    "f910c390ff214b6b9a94bb9bcc9f1cfb": {
     "model_module": "@jupyter-widgets/controls",
     "model_module_version": "1.5.0",
     "model_name": "DescriptionStyleModel",
     "state": {
      "_model_module": "@jupyter-widgets/controls",
      "_model_module_version": "1.5.0",
      "_model_name": "DescriptionStyleModel",
      "_view_count": null,
      "_view_module": "@jupyter-widgets/base",
      "_view_module_version": "1.2.0",
      "_view_name": "StyleView",
      "description_width": ""
     }
    },
    "fda404ab5a144ad4af858af685ec0901": {
     "model_module": "@jupyter-widgets/base",
     "model_module_version": "1.2.0",
     "model_name": "LayoutModel",
     "state": {
      "_model_module": "@jupyter-widgets/base",
      "_model_module_version": "1.2.0",
      "_model_name": "LayoutModel",
      "_view_count": null,
      "_view_module": "@jupyter-widgets/base",
      "_view_module_version": "1.2.0",
      "_view_name": "LayoutView",
      "align_content": null,
      "align_items": null,
      "align_self": null,
      "border": null,
      "bottom": null,
      "display": null,
      "flex": null,
      "flex_flow": null,
      "grid_area": null,
      "grid_auto_columns": null,
      "grid_auto_flow": null,
      "grid_auto_rows": null,
      "grid_column": null,
      "grid_gap": null,
      "grid_row": null,
      "grid_template_areas": null,
      "grid_template_columns": null,
      "grid_template_rows": null,
      "height": null,
      "justify_content": null,
      "justify_items": null,
      "left": null,
      "margin": null,
      "max_height": null,
      "max_width": null,
      "min_height": null,
      "min_width": null,
      "object_fit": null,
      "object_position": null,
      "order": null,
      "overflow": null,
      "overflow_x": null,
      "overflow_y": null,
      "padding": null,
      "right": null,
      "top": null,
      "visibility": null,
      "width": null
     }
    }
   }
  }
 },
 "nbformat": 4,
 "nbformat_minor": 1
}
